{
 "cells": [
  {
   "cell_type": "code",
   "execution_count": 1,
   "metadata": {},
   "outputs": [],
   "source": [
    "import tweepy\n",
    "import pandas as pd\n",
    "import numpy as np\n",
    "import matplotlib.pyplot as plt\n",
    "\n",
    "import time\n",
    "\n",
    "import csv\n",
    "\n",
    "import datetime\n",
    "from datetime import datetime, timezone, date, timedelta"
   ]
  },
  {
   "attachments": {},
   "cell_type": "markdown",
   "metadata": {},
   "source": [
    "**Creo la connessione con le api di twitter**"
   ]
  },
  {
   "cell_type": "code",
   "execution_count": 2,
   "metadata": {},
   "outputs": [],
   "source": [
    "bearer_token = \"AAAAAAAAAAAAAAAAAAAAAPgukgEAAAAADYQXq5tFdfahfgxE%2FSQqxcV4OFU%3DIETAxHE05aQI4saJCxFJMQiaurCSZgYMSHZ9kl7SMVNNxM5V4S\"  # BEARER_TOKEN\n",
    "auth = tweepy.Client(bearer_token)\n",
    "api = tweepy.API(auth)"
   ]
  },
  {
   "attachments": {},
   "cell_type": "markdown",
   "metadata": {},
   "source": [
    "**scarico dataset**"
   ]
  },
  {
   "cell_type": "code",
   "execution_count": 10,
   "metadata": {},
   "outputs": [
    {
     "name": "stdout",
     "output_type": "stream",
     "text": [
      "(86889, 4)\n"
     ]
    },
    {
     "data": {
      "text/html": [
       "<div>\n",
       "<style scoped>\n",
       "    .dataframe tbody tr th:only-of-type {\n",
       "        vertical-align: middle;\n",
       "    }\n",
       "\n",
       "    .dataframe tbody tr th {\n",
       "        vertical-align: top;\n",
       "    }\n",
       "\n",
       "    .dataframe thead th {\n",
       "        text-align: right;\n",
       "    }\n",
       "</style>\n",
       "<table border=\"1\" class=\"dataframe\">\n",
       "  <thead>\n",
       "    <tr style=\"text-align: right;\">\n",
       "      <th></th>\n",
       "      <th>created_at</th>\n",
       "      <th>tweet_id</th>\n",
       "      <th>text</th>\n",
       "      <th>language</th>\n",
       "    </tr>\n",
       "  </thead>\n",
       "  <tbody>\n",
       "    <tr>\n",
       "      <th>86884</th>\n",
       "      <td>2022-06-23 12:38:24+00:00</td>\n",
       "      <td>1539951002450767883</td>\n",
       "      <td>RT @Bettermnt_Digt: Betterment Digital #Airdro...</td>\n",
       "      <td>en</td>\n",
       "    </tr>\n",
       "    <tr>\n",
       "      <th>86885</th>\n",
       "      <td>2022-06-23 12:38:24+00:00</td>\n",
       "      <td>1539951004200112135</td>\n",
       "      <td>RT @AirdropDet: 🔍 New #Airdrop: Betterment Dig...</td>\n",
       "      <td>en</td>\n",
       "    </tr>\n",
       "    <tr>\n",
       "      <th>86886</th>\n",
       "      <td>2022-06-23 12:38:25+00:00</td>\n",
       "      <td>1539951004505894912</td>\n",
       "      <td>1️⃣–Powell Sees No “Macroeconomic Implications...</td>\n",
       "      <td>en</td>\n",
       "    </tr>\n",
       "    <tr>\n",
       "      <th>86887</th>\n",
       "      <td>2022-06-23 12:38:25+00:00</td>\n",
       "      <td>1539951006473080832</td>\n",
       "      <td>RT @furrincrypto: $300 | 4.2 JT ~ 72 HOURS 🛏️🧻...</td>\n",
       "      <td>en</td>\n",
       "    </tr>\n",
       "    <tr>\n",
       "      <th>86888</th>\n",
       "      <td>2022-06-23 12:38:25+00:00</td>\n",
       "      <td>1539951006959763456</td>\n",
       "      <td>Bitcoin price prediction: Here’s why a rally i...</td>\n",
       "      <td>en</td>\n",
       "    </tr>\n",
       "  </tbody>\n",
       "</table>\n",
       "</div>"
      ],
      "text/plain": [
       "                      created_at             tweet_id  \\\n",
       "86884  2022-06-23 12:38:24+00:00  1539951002450767883   \n",
       "86885  2022-06-23 12:38:24+00:00  1539951004200112135   \n",
       "86886  2022-06-23 12:38:25+00:00  1539951004505894912   \n",
       "86887  2022-06-23 12:38:25+00:00  1539951006473080832   \n",
       "86888  2022-06-23 12:38:25+00:00  1539951006959763456   \n",
       "\n",
       "                                                    text language  \n",
       "86884  RT @Bettermnt_Digt: Betterment Digital #Airdro...       en  \n",
       "86885  RT @AirdropDet: 🔍 New #Airdrop: Betterment Dig...       en  \n",
       "86886  1️⃣–Powell Sees No “Macroeconomic Implications...       en  \n",
       "86887  RT @furrincrypto: $300 | 4.2 JT ~ 72 HOURS 🛏️🧻...       en  \n",
       "86888  Bitcoin price prediction: Here’s why a rally i...       en  "
      ]
     },
     "execution_count": 10,
     "metadata": {},
     "output_type": "execute_result"
    }
   ],
   "source": [
    "df = pd.read_csv('data/bitcoin_tweets.csv')\n",
    "print(df.shape)\n",
    "df.tail()"
   ]
  },
  {
   "cell_type": "code",
   "execution_count": 11,
   "metadata": {},
   "outputs": [],
   "source": [
    "#inverto il dataframe\n",
    "#df = df.iloc[::-1]\n",
    "\n",
    "#trasformo la colonna created_at in datetime\n",
    "df['created_at'] = pd.to_datetime(df['created_at'])"
   ]
  },
  {
   "attachments": {},
   "cell_type": "markdown",
   "metadata": {},
   "source": [
    "**scarico i tweets**"
   ]
  },
  {
   "cell_type": "code",
   "execution_count": null,
   "metadata": {},
   "outputs": [],
   "source": [
    "#hashtag\n",
    "#query= \"bitcoin\"\n",
    "\n",
    "#Load tweets\n",
    "#response = auth.search_all_tweets(query, max_results=500, tweet_fields=[\"created_at\", \"lang\"], until_id=(df['tweet_id'][-1]))\n",
    "#response = client.search_recent_tweets(query, user_auth=True, max_results=100, tweet_fields=[\"created_at\", \"lang\", \"geo\"], start_time=days_before)\n",
    "#tweets = response.data\n",
    "\n",
    "# Initialize dictionaries\n",
    "#users_basic_info = []\n",
    "\n",
    "#for tweet in tweets:\n",
    "#    users_basic_info.append([tweet.created_at, tweet.id, tweet.text, tweet.lang])         \n",
    "    "
   ]
  },
  {
   "cell_type": "code",
   "execution_count": 13,
   "metadata": {},
   "outputs": [
    {
     "name": "stdout",
     "output_type": "stream",
     "text": [
      "2022-04-10 00:00:00\n"
     ]
    }
   ],
   "source": [
    "start_date = datetime.strptime(\"2022-06-11\", \"%Y-%m-%d\") - timedelta(days=62)\n",
    "print(start_date)"
   ]
  },
  {
   "cell_type": "code",
   "execution_count": 14,
   "metadata": {},
   "outputs": [],
   "source": [
    "# Numero di giorni da scaricare\n",
    "num_days = 62\n",
    "\n",
    "# Numero di tweet da scaricare ogni giorno\n",
    "num_tweets = 500\n",
    "\n",
    "# Inizializza una lista che conterrà i tweet scaricati\n",
    "tweet_list = []\n",
    "\n",
    "# Inizializza la data di inizio del loop\n",
    "start_date = datetime.strptime(\"2022-06-11\", \"%Y-%m-%d\") - timedelta(days=62)\n",
    "#start_date = datetime.now() - timedelta(days=30)\n",
    "\n",
    "# Crea il loop\n",
    "for i in range(num_days):\n",
    "    # Aggiorna la data di fine\n",
    "    end_date = start_date + timedelta(days=1)\n",
    "\n",
    "    # Formatta le date come stringhe nel formato richiesto dall'API\n",
    "    formatted_start_date = start_date.strftime(\"%Y-%m-%dT%H:%M:%S\")\n",
    "    formatted_end_date = end_date.strftime(\"%Y-%m-%dT%H:%M:%S\")\n",
    "\n",
    "    #hashtag\n",
    "    query= \"bitcoin\"\n",
    "\n",
    "    # Scarica i tweet\n",
    "    response = auth.search_all_tweets(query, max_results=num_tweets, tweet_fields=[\"created_at\", \"lang\"], start_time=start_date, end_time=end_date)\n",
    "    tweets = response.data\n",
    "\n",
    "    # Aggiungi i tweet alla lista\n",
    "    for tweet in tweets:\n",
    "        tweet_list.append([tweet.created_at, tweet.id, tweet.text, tweet.lang])\n",
    "\n",
    "    # Aggiorna la data di inizio\n",
    "    start_date = end_date\n",
    "    time.sleep(5)"
   ]
  },
  {
   "cell_type": "code",
   "execution_count": 15,
   "metadata": {},
   "outputs": [],
   "source": [
    "df_new = pd.DataFrame(data=tweet_list, columns=['created_at', 'tweet_id', 'text', 'language'])  \n",
    "df_new.set_index(\"created_at\", inplace = True)\n"
   ]
  },
  {
   "cell_type": "code",
   "execution_count": 16,
   "metadata": {},
   "outputs": [
    {
     "name": "stdout",
     "output_type": "stream",
     "text": [
      "(24721, 3)\n"
     ]
    },
    {
     "data": {
      "text/html": [
       "<div>\n",
       "<style scoped>\n",
       "    .dataframe tbody tr th:only-of-type {\n",
       "        vertical-align: middle;\n",
       "    }\n",
       "\n",
       "    .dataframe tbody tr th {\n",
       "        vertical-align: top;\n",
       "    }\n",
       "\n",
       "    .dataframe thead th {\n",
       "        text-align: right;\n",
       "    }\n",
       "</style>\n",
       "<table border=\"1\" class=\"dataframe\">\n",
       "  <thead>\n",
       "    <tr style=\"text-align: right;\">\n",
       "      <th></th>\n",
       "      <th>tweet_id</th>\n",
       "      <th>text</th>\n",
       "      <th>language</th>\n",
       "    </tr>\n",
       "    <tr>\n",
       "      <th>created_at</th>\n",
       "      <th></th>\n",
       "      <th></th>\n",
       "      <th></th>\n",
       "    </tr>\n",
       "  </thead>\n",
       "  <tbody>\n",
       "    <tr>\n",
       "      <th>2022-04-10 23:59:57+00:00</th>\n",
       "      <td>1513305819592413191</td>\n",
       "      <td>RT @Azel1000X: @BSCGemsAlert @binance #ARCHIE\\...</td>\n",
       "      <td>en</td>\n",
       "    </tr>\n",
       "    <tr>\n",
       "      <th>2022-04-10 23:59:57+00:00</th>\n",
       "      <td>1513305819751895044</td>\n",
       "      <td>RT @BitcoinMagazine: Bitcoin 2022 Conference -...</td>\n",
       "      <td>en</td>\n",
       "    </tr>\n",
       "    <tr>\n",
       "      <th>2022-04-10 23:59:58+00:00</th>\n",
       "      <td>1513305821043695619</td>\n",
       "      <td>RT @LunarCrush: 💥 \"#Terra’s #Luna Structure Sc...</td>\n",
       "      <td>en</td>\n",
       "    </tr>\n",
       "    <tr>\n",
       "      <th>2022-04-10 23:59:59+00:00</th>\n",
       "      <td>1513305825955270659</td>\n",
       "      <td>📈 ETHUSD BUY signal now (severity: 3) #eth #cr...</td>\n",
       "      <td>en</td>\n",
       "    </tr>\n",
       "    <tr>\n",
       "      <th>2022-04-10 23:59:59+00:00</th>\n",
       "      <td>1513305828295835653</td>\n",
       "      <td>RT @rovercrc: #BITCOIN HAS TO HOLD THE $43,100...</td>\n",
       "      <td>en</td>\n",
       "    </tr>\n",
       "  </tbody>\n",
       "</table>\n",
       "</div>"
      ],
      "text/plain": [
       "                                      tweet_id  \\\n",
       "created_at                                       \n",
       "2022-04-10 23:59:57+00:00  1513305819592413191   \n",
       "2022-04-10 23:59:57+00:00  1513305819751895044   \n",
       "2022-04-10 23:59:58+00:00  1513305821043695619   \n",
       "2022-04-10 23:59:59+00:00  1513305825955270659   \n",
       "2022-04-10 23:59:59+00:00  1513305828295835653   \n",
       "\n",
       "                                                                        text  \\\n",
       "created_at                                                                     \n",
       "2022-04-10 23:59:57+00:00  RT @Azel1000X: @BSCGemsAlert @binance #ARCHIE\\...   \n",
       "2022-04-10 23:59:57+00:00  RT @BitcoinMagazine: Bitcoin 2022 Conference -...   \n",
       "2022-04-10 23:59:58+00:00  RT @LunarCrush: 💥 \"#Terra’s #Luna Structure Sc...   \n",
       "2022-04-10 23:59:59+00:00  📈 ETHUSD BUY signal now (severity: 3) #eth #cr...   \n",
       "2022-04-10 23:59:59+00:00  RT @rovercrc: #BITCOIN HAS TO HOLD THE $43,100...   \n",
       "\n",
       "                          language  \n",
       "created_at                          \n",
       "2022-04-10 23:59:57+00:00       en  \n",
       "2022-04-10 23:59:57+00:00       en  \n",
       "2022-04-10 23:59:58+00:00       en  \n",
       "2022-04-10 23:59:59+00:00       en  \n",
       "2022-04-10 23:59:59+00:00       en  "
      ]
     },
     "execution_count": 16,
     "metadata": {},
     "output_type": "execute_result"
    }
   ],
   "source": [
    "#inverto il nuovo dataframe dalla data più recente alla più vecchia\n",
    "df_new = df_new.iloc[::-1]\n",
    "print(df_new.shape)\n",
    "df_new.tail()"
   ]
  },
  {
   "cell_type": "code",
   "execution_count": 17,
   "metadata": {},
   "outputs": [
    {
     "data": {
      "text/html": [
       "<div>\n",
       "<style scoped>\n",
       "    .dataframe tbody tr th:only-of-type {\n",
       "        vertical-align: middle;\n",
       "    }\n",
       "\n",
       "    .dataframe tbody tr th {\n",
       "        vertical-align: top;\n",
       "    }\n",
       "\n",
       "    .dataframe thead th {\n",
       "        text-align: right;\n",
       "    }\n",
       "</style>\n",
       "<table border=\"1\" class=\"dataframe\">\n",
       "  <thead>\n",
       "    <tr style=\"text-align: right;\">\n",
       "      <th></th>\n",
       "      <th>tweet_id</th>\n",
       "      <th>text</th>\n",
       "      <th>language</th>\n",
       "    </tr>\n",
       "    <tr>\n",
       "      <th>created_at</th>\n",
       "      <th></th>\n",
       "      <th></th>\n",
       "      <th></th>\n",
       "    </tr>\n",
       "  </thead>\n",
       "  <tbody>\n",
       "    <tr>\n",
       "      <th>2022-06-10 23:55:17+00:00</th>\n",
       "      <td>1535410304913395717</td>\n",
       "      <td>RT @rovercrc: I and @OfficialTravlad are going...</td>\n",
       "      <td>en</td>\n",
       "    </tr>\n",
       "    <tr>\n",
       "      <th>2022-06-10 23:55:18+00:00</th>\n",
       "      <td>1535410306008088576</td>\n",
       "      <td>Hello #Bitcoin hanging man! I see you! 👀 https...</td>\n",
       "      <td>en</td>\n",
       "    </tr>\n",
       "    <tr>\n",
       "      <th>2022-06-10 23:55:18+00:00</th>\n",
       "      <td>1535410308063367168</td>\n",
       "      <td>@HoneeDesigner @GramPepe1 Big Bitcoin miners a...</td>\n",
       "      <td>en</td>\n",
       "    </tr>\n",
       "    <tr>\n",
       "      <th>2022-06-10 23:55:21+00:00</th>\n",
       "      <td>1535410319484407808</td>\n",
       "      <td>RT @rovercrc: The lower #Bitcoin goes, the mor...</td>\n",
       "      <td>en</td>\n",
       "    </tr>\n",
       "    <tr>\n",
       "      <th>2022-06-10 23:55:23+00:00</th>\n",
       "      <td>1535410328477085698</td>\n",
       "      <td>RT @BitwellGlobal: #AMA with @KardiaChain \\n\\n...</td>\n",
       "      <td>en</td>\n",
       "    </tr>\n",
       "  </tbody>\n",
       "</table>\n",
       "</div>"
      ],
      "text/plain": [
       "                                      tweet_id  \\\n",
       "created_at                                       \n",
       "2022-06-10 23:55:17+00:00  1535410304913395717   \n",
       "2022-06-10 23:55:18+00:00  1535410306008088576   \n",
       "2022-06-10 23:55:18+00:00  1535410308063367168   \n",
       "2022-06-10 23:55:21+00:00  1535410319484407808   \n",
       "2022-06-10 23:55:23+00:00  1535410328477085698   \n",
       "\n",
       "                                                                        text  \\\n",
       "created_at                                                                     \n",
       "2022-06-10 23:55:17+00:00  RT @rovercrc: I and @OfficialTravlad are going...   \n",
       "2022-06-10 23:55:18+00:00  Hello #Bitcoin hanging man! I see you! 👀 https...   \n",
       "2022-06-10 23:55:18+00:00  @HoneeDesigner @GramPepe1 Big Bitcoin miners a...   \n",
       "2022-06-10 23:55:21+00:00  RT @rovercrc: The lower #Bitcoin goes, the mor...   \n",
       "2022-06-10 23:55:23+00:00  RT @BitwellGlobal: #AMA with @KardiaChain \\n\\n...   \n",
       "\n",
       "                          language  \n",
       "created_at                          \n",
       "2022-06-10 23:55:17+00:00       en  \n",
       "2022-06-10 23:55:18+00:00       en  \n",
       "2022-06-10 23:55:18+00:00       en  \n",
       "2022-06-10 23:55:21+00:00       en  \n",
       "2022-06-10 23:55:23+00:00       en  "
      ]
     },
     "execution_count": 17,
     "metadata": {},
     "output_type": "execute_result"
    }
   ],
   "source": [
    "df_new.head()"
   ]
  },
  {
   "attachments": {},
   "cell_type": "markdown",
   "metadata": {},
   "source": [
    "**salvo i dati in un csv**"
   ]
  },
  {
   "cell_type": "code",
   "execution_count": null,
   "metadata": {},
   "outputs": [],
   "source": [
    "#df_new.to_csv('data/bitcoin_tweets.csv', mode='a', header=False)"
   ]
  },
  {
   "cell_type": "code",
   "execution_count": 16,
   "metadata": {},
   "outputs": [],
   "source": [
    "df_new.to_csv('data/bitcoin_tweets.csv', mode='a', header=False, quotechar='\"', quoting=csv.QUOTE_NONNUMERIC, escapechar='\\\\')"
   ]
  }
 ],
 "metadata": {
  "kernelspec": {
   "display_name": "mlp",
   "language": "python",
   "name": "python3"
  },
  "language_info": {
   "codemirror_mode": {
    "name": "ipython",
    "version": 3
   },
   "file_extension": ".py",
   "mimetype": "text/x-python",
   "name": "python",
   "nbconvert_exporter": "python",
   "pygments_lexer": "ipython3",
   "version": "3.8.15"
  },
  "orig_nbformat": 4,
  "vscode": {
   "interpreter": {
    "hash": "95fe2f621b02c291269f6f1de04399c71d5624912c164c733c30837729478179"
   }
  }
 },
 "nbformat": 4,
 "nbformat_minor": 2
}
