{
 "cells": [
  {
   "cell_type": "code",
   "execution_count": 1,
   "metadata": {},
   "outputs": [],
   "source": [
    "import tweepy\n",
    "import pandas as pd\n",
    "import numpy as np\n",
    "import matplotlib.pyplot as plt\n",
    "\n",
    "import time\n",
    "\n",
    "import csv\n",
    "\n",
    "import datetime\n",
    "from datetime import datetime, timezone, date, timedelta"
   ]
  },
  {
   "attachments": {},
   "cell_type": "markdown",
   "metadata": {},
   "source": [
    "**Creo la connessione con le api di twitter**"
   ]
  },
  {
   "cell_type": "code",
   "execution_count": 2,
   "metadata": {},
   "outputs": [],
   "source": [
    "bearer_token = \"AAAAAAAAAAAAAAAAAAAAAPgukgEAAAAADYQXq5tFdfahfgxE%2FSQqxcV4OFU%3DIETAxHE05aQI4saJCxFJMQiaurCSZgYMSHZ9kl7SMVNNxM5V4S\"  # BEARER_TOKEN\n",
    "auth = tweepy.Client(bearer_token)\n",
    "api = tweepy.API(auth)"
   ]
  },
  {
   "attachments": {},
   "cell_type": "markdown",
   "metadata": {},
   "source": [
    "**scarico dataset**"
   ]
  },
  {
   "cell_type": "code",
   "execution_count": 10,
   "metadata": {},
   "outputs": [
    {
     "name": "stdout",
     "output_type": "stream",
     "text": [
      "(86889, 4)\n"
     ]
    },
    {
     "data": {
      "text/html": [
       "<div>\n",
       "<style scoped>\n",
       "    .dataframe tbody tr th:only-of-type {\n",
       "        vertical-align: middle;\n",
       "    }\n",
       "\n",
       "    .dataframe tbody tr th {\n",
       "        vertical-align: top;\n",
       "    }\n",
       "\n",
       "    .dataframe thead th {\n",
       "        text-align: right;\n",
       "    }\n",
       "</style>\n",
       "<table border=\"1\" class=\"dataframe\">\n",
       "  <thead>\n",
       "    <tr style=\"text-align: right;\">\n",
       "      <th></th>\n",
       "      <th>created_at</th>\n",
       "      <th>tweet_id</th>\n",
       "      <th>text</th>\n",
       "      <th>language</th>\n",
       "    </tr>\n",
       "  </thead>\n",
       "  <tbody>\n",
       "    <tr>\n",
       "      <th>86884</th>\n",
       "      <td>2022-06-23 12:38:24+00:00</td>\n",
       "      <td>1539951002450767883</td>\n",
       "      <td>RT @Bettermnt_Digt: Betterment Digital #Airdro...</td>\n",
       "      <td>en</td>\n",
       "    </tr>\n",
       "    <tr>\n",
       "      <th>86885</th>\n",
       "      <td>2022-06-23 12:38:24+00:00</td>\n",
       "      <td>1539951004200112135</td>\n",
       "      <td>RT @AirdropDet: 🔍 New #Airdrop: Betterment Dig...</td>\n",
       "      <td>en</td>\n",
       "    </tr>\n",
       "    <tr>\n",
       "      <th>86886</th>\n",
       "      <td>2022-06-23 12:38:25+00:00</td>\n",
       "      <td>1539951004505894912</td>\n",
       "      <td>1️⃣–Powell Sees No “Macroeconomic Implications...</td>\n",
       "      <td>en</td>\n",
       "    </tr>\n",
       "    <tr>\n",
       "      <th>86887</th>\n",
       "      <td>2022-06-23 12:38:25+00:00</td>\n",
       "      <td>1539951006473080832</td>\n",
       "      <td>RT @furrincrypto: $300 | 4.2 JT ~ 72 HOURS 🛏️🧻...</td>\n",
       "      <td>en</td>\n",
       "    </tr>\n",
       "    <tr>\n",
       "      <th>86888</th>\n",
       "      <td>2022-06-23 12:38:25+00:00</td>\n",
       "      <td>1539951006959763456</td>\n",
       "      <td>Bitcoin price prediction: Here’s why a rally i...</td>\n",
       "      <td>en</td>\n",
       "    </tr>\n",
       "  </tbody>\n",
       "</table>\n",
       "</div>"
      ],
      "text/plain": [
       "                      created_at             tweet_id  \\\n",
       "86884  2022-06-23 12:38:24+00:00  1539951002450767883   \n",
       "86885  2022-06-23 12:38:24+00:00  1539951004200112135   \n",
       "86886  2022-06-23 12:38:25+00:00  1539951004505894912   \n",
       "86887  2022-06-23 12:38:25+00:00  1539951006473080832   \n",
       "86888  2022-06-23 12:38:25+00:00  1539951006959763456   \n",
       "\n",
       "                                                    text language  \n",
       "86884  RT @Bettermnt_Digt: Betterment Digital #Airdro...       en  \n",
       "86885  RT @AirdropDet: 🔍 New #Airdrop: Betterment Dig...       en  \n",
       "86886  1️⃣–Powell Sees No “Macroeconomic Implications...       en  \n",
       "86887  RT @furrincrypto: $300 | 4.2 JT ~ 72 HOURS 🛏️🧻...       en  \n",
       "86888  Bitcoin price prediction: Here’s why a rally i...       en  "
      ]
     },
     "execution_count": 10,
     "metadata": {},
     "output_type": "execute_result"
    }
   ],
   "source": [
    "df = pd.read_csv('data/bitcoin_tweets.csv')\n",
    "print(df.shape)\n",
    "df.tail()"
   ]
  },
  {
   "cell_type": "code",
   "execution_count": 11,
   "metadata": {},
   "outputs": [],
   "source": [
    "#inverto il dataframe\n",
    "#df = df.iloc[::-1]\n",
    "\n",
    "#trasformo la colonna created_at in datetime\n",
    "df['created_at'] = pd.to_datetime(df['created_at'])"
   ]
  },
  {
   "attachments": {},
   "cell_type": "markdown",
   "metadata": {},
   "source": [
    "**scarico i tweets**"
   ]
  },
  {
   "cell_type": "code",
   "execution_count": null,
   "metadata": {},
   "outputs": [],
   "source": [
    "#hashtag\n",
    "#query= \"bitcoin\"\n",
    "\n",
    "#Load tweets\n",
    "#response = auth.search_all_tweets(query, max_results=500, tweet_fields=[\"created_at\", \"lang\"], until_id=(df['tweet_id'][-1]))\n",
    "#response = client.search_recent_tweets(query, user_auth=True, max_results=100, tweet_fields=[\"created_at\", \"lang\", \"geo\"], start_time=days_before)\n",
    "#tweets = response.data\n",
    "\n",
    "# Initialize dictionaries\n",
    "#users_basic_info = []\n",
    "\n",
    "#for tweet in tweets:\n",
    "#    users_basic_info.append([tweet.created_at, tweet.id, tweet.text, tweet.lang])         \n",
    "    "
   ]
  },
  {
   "cell_type": "code",
   "execution_count": 12,
   "metadata": {},
   "outputs": [],
   "source": [
    "# Numero di giorni da scaricare\n",
    "num_days = 30\n",
    "\n",
    "# Numero di tweet da scaricare ogni giorno\n",
    "num_tweets = 500\n",
    "\n",
    "# Inizializza una lista che conterrà i tweet scaricati\n",
    "tweet_list = []\n",
    "\n",
    "# Inizializza la data di inizio del loop\n",
    "start_date = df['created_at'].iloc[-1] - timedelta(days=31)\n",
    "#start_date = datetime.now() - timedelta(days=30)\n",
    "\n",
    "# Crea il loop\n",
    "for i in range(num_days):\n",
    "    # Aggiorna la data di fine\n",
    "    end_date = start_date + timedelta(days=1)\n",
    "\n",
    "    # Formatta le date come stringhe nel formato richiesto dall'API\n",
    "    formatted_start_date = start_date.strftime(\"%Y-%m-%dT%H:%M:%S\")\n",
    "    formatted_end_date = end_date.strftime(\"%Y-%m-%dT%H:%M:%S\")\n",
    "\n",
    "    #hashtag\n",
    "    query= \"bitcoin\"\n",
    "\n",
    "    # Scarica i tweet\n",
    "    response = auth.search_all_tweets(query, max_results=num_tweets, tweet_fields=[\"created_at\", \"lang\"], start_time=start_date, end_time=end_date)\n",
    "    tweets = response.data\n",
    "\n",
    "    # Aggiungi i tweet alla lista\n",
    "    for tweet in tweets:\n",
    "        tweet_list.append([tweet.created_at, tweet.id, tweet.text, tweet.lang])\n",
    "\n",
    "    # Aggiorna la data di inizio\n",
    "    start_date = end_date\n",
    "    time.sleep(5)"
   ]
  },
  {
   "cell_type": "code",
   "execution_count": 13,
   "metadata": {},
   "outputs": [],
   "source": [
    "df_new = pd.DataFrame(data=tweet_list, columns=['created_at', 'tweet_id', 'text', 'language'])  \n",
    "df_new.set_index(\"created_at\", inplace = True)\n"
   ]
  },
  {
   "cell_type": "code",
   "execution_count": 14,
   "metadata": {},
   "outputs": [
    {
     "name": "stdout",
     "output_type": "stream",
     "text": [
      "(13375, 3)\n"
     ]
    },
    {
     "data": {
      "text/html": [
       "<div>\n",
       "<style scoped>\n",
       "    .dataframe tbody tr th:only-of-type {\n",
       "        vertical-align: middle;\n",
       "    }\n",
       "\n",
       "    .dataframe tbody tr th {\n",
       "        vertical-align: top;\n",
       "    }\n",
       "\n",
       "    .dataframe thead th {\n",
       "        text-align: right;\n",
       "    }\n",
       "</style>\n",
       "<table border=\"1\" class=\"dataframe\">\n",
       "  <thead>\n",
       "    <tr style=\"text-align: right;\">\n",
       "      <th></th>\n",
       "      <th>tweet_id</th>\n",
       "      <th>text</th>\n",
       "      <th>language</th>\n",
       "    </tr>\n",
       "    <tr>\n",
       "      <th>created_at</th>\n",
       "      <th></th>\n",
       "      <th></th>\n",
       "      <th></th>\n",
       "    </tr>\n",
       "  </thead>\n",
       "  <tbody>\n",
       "    <tr>\n",
       "      <th>2022-05-24 12:38:24+00:00</th>\n",
       "      <td>1529079365765578752</td>\n",
       "      <td>Bitcoin dives to fill CME gap amid claim new a...</td>\n",
       "      <td>en</td>\n",
       "    </tr>\n",
       "    <tr>\n",
       "      <th>2022-05-24 12:38:24+00:00</th>\n",
       "      <td>1529079366650585095</td>\n",
       "      <td>RT @JohanPe44499068: This current week can bec...</td>\n",
       "      <td>en</td>\n",
       "    </tr>\n",
       "    <tr>\n",
       "      <th>2022-05-24 12:38:24+00:00</th>\n",
       "      <td>1529079366793039872</td>\n",
       "      <td>RT @DMM_Bitcoin: ／\\n毎日参加！その場で当たる！\\n🎉 #フォローRTキャ...</td>\n",
       "      <td>ja</td>\n",
       "    </tr>\n",
       "    <tr>\n",
       "      <th>2022-05-24 12:38:24+00:00</th>\n",
       "      <td>1529079366889746432</td>\n",
       "      <td>RT @bip_show: ARTE è una TV pubblica Franco-Te...</td>\n",
       "      <td>it</td>\n",
       "    </tr>\n",
       "    <tr>\n",
       "      <th>2022-05-24 12:38:24+00:00</th>\n",
       "      <td>1529079367460003840</td>\n",
       "      <td>RT @Blockworks_: Ray Dalio: #Bitcoin is still ...</td>\n",
       "      <td>en</td>\n",
       "    </tr>\n",
       "  </tbody>\n",
       "</table>\n",
       "</div>"
      ],
      "text/plain": [
       "                                      tweet_id  \\\n",
       "created_at                                       \n",
       "2022-05-24 12:38:24+00:00  1529079365765578752   \n",
       "2022-05-24 12:38:24+00:00  1529079366650585095   \n",
       "2022-05-24 12:38:24+00:00  1529079366793039872   \n",
       "2022-05-24 12:38:24+00:00  1529079366889746432   \n",
       "2022-05-24 12:38:24+00:00  1529079367460003840   \n",
       "\n",
       "                                                                        text  \\\n",
       "created_at                                                                     \n",
       "2022-05-24 12:38:24+00:00  Bitcoin dives to fill CME gap amid claim new a...   \n",
       "2022-05-24 12:38:24+00:00  RT @JohanPe44499068: This current week can bec...   \n",
       "2022-05-24 12:38:24+00:00  RT @DMM_Bitcoin: ／\\n毎日参加！その場で当たる！\\n🎉 #フォローRTキャ...   \n",
       "2022-05-24 12:38:24+00:00  RT @bip_show: ARTE è una TV pubblica Franco-Te...   \n",
       "2022-05-24 12:38:24+00:00  RT @Blockworks_: Ray Dalio: #Bitcoin is still ...   \n",
       "\n",
       "                          language  \n",
       "created_at                          \n",
       "2022-05-24 12:38:24+00:00       en  \n",
       "2022-05-24 12:38:24+00:00       en  \n",
       "2022-05-24 12:38:24+00:00       ja  \n",
       "2022-05-24 12:38:24+00:00       it  \n",
       "2022-05-24 12:38:24+00:00       en  "
      ]
     },
     "execution_count": 14,
     "metadata": {},
     "output_type": "execute_result"
    }
   ],
   "source": [
    "#inverto il nuovo dataframe dalla data più recente alla più vecchia\n",
    "df_new = df_new.iloc[::-1]\n",
    "print(df_new.shape)\n",
    "df_new.tail()"
   ]
  },
  {
   "cell_type": "code",
   "execution_count": 15,
   "metadata": {},
   "outputs": [
    {
     "data": {
      "text/html": [
       "<div>\n",
       "<style scoped>\n",
       "    .dataframe tbody tr th:only-of-type {\n",
       "        vertical-align: middle;\n",
       "    }\n",
       "\n",
       "    .dataframe tbody tr th {\n",
       "        vertical-align: top;\n",
       "    }\n",
       "\n",
       "    .dataframe thead th {\n",
       "        text-align: right;\n",
       "    }\n",
       "</style>\n",
       "<table border=\"1\" class=\"dataframe\">\n",
       "  <thead>\n",
       "    <tr style=\"text-align: right;\">\n",
       "      <th></th>\n",
       "      <th>tweet_id</th>\n",
       "      <th>text</th>\n",
       "      <th>language</th>\n",
       "    </tr>\n",
       "    <tr>\n",
       "      <th>created_at</th>\n",
       "      <th></th>\n",
       "      <th></th>\n",
       "      <th></th>\n",
       "    </tr>\n",
       "  </thead>\n",
       "  <tbody>\n",
       "    <tr>\n",
       "      <th>2022-06-22 12:36:03+00:00</th>\n",
       "      <td>1539588022433357827</td>\n",
       "      <td>@saylor In the future we don't waste energy fo...</td>\n",
       "      <td>en</td>\n",
       "    </tr>\n",
       "    <tr>\n",
       "      <th>2022-06-22 12:36:03+00:00</th>\n",
       "      <td>1539588024056553472</td>\n",
       "      <td>💥BREAKING: Deloitte and NYDIG have partnered t...</td>\n",
       "      <td>en</td>\n",
       "    </tr>\n",
       "    <tr>\n",
       "      <th>2022-06-22 12:36:05+00:00</th>\n",
       "      <td>1539588029379387392</td>\n",
       "      <td>@ferialhaffajee I’m still smiling! It’s been s...</td>\n",
       "      <td>en</td>\n",
       "    </tr>\n",
       "    <tr>\n",
       "      <th>2022-06-22 12:36:05+00:00</th>\n",
       "      <td>1539588030087979009</td>\n",
       "      <td>Cardano (ADA) - Análise de hoje, 22/06/2022! #...</td>\n",
       "      <td>pt</td>\n",
       "    </tr>\n",
       "    <tr>\n",
       "      <th>2022-06-22 12:36:05+00:00</th>\n",
       "      <td>1539588031270756353</td>\n",
       "      <td>RT @CryptoBusy: Remember our HUGE #Bitcoin giv...</td>\n",
       "      <td>en</td>\n",
       "    </tr>\n",
       "  </tbody>\n",
       "</table>\n",
       "</div>"
      ],
      "text/plain": [
       "                                      tweet_id  \\\n",
       "created_at                                       \n",
       "2022-06-22 12:36:03+00:00  1539588022433357827   \n",
       "2022-06-22 12:36:03+00:00  1539588024056553472   \n",
       "2022-06-22 12:36:05+00:00  1539588029379387392   \n",
       "2022-06-22 12:36:05+00:00  1539588030087979009   \n",
       "2022-06-22 12:36:05+00:00  1539588031270756353   \n",
       "\n",
       "                                                                        text  \\\n",
       "created_at                                                                     \n",
       "2022-06-22 12:36:03+00:00  @saylor In the future we don't waste energy fo...   \n",
       "2022-06-22 12:36:03+00:00  💥BREAKING: Deloitte and NYDIG have partnered t...   \n",
       "2022-06-22 12:36:05+00:00  @ferialhaffajee I’m still smiling! It’s been s...   \n",
       "2022-06-22 12:36:05+00:00  Cardano (ADA) - Análise de hoje, 22/06/2022! #...   \n",
       "2022-06-22 12:36:05+00:00  RT @CryptoBusy: Remember our HUGE #Bitcoin giv...   \n",
       "\n",
       "                          language  \n",
       "created_at                          \n",
       "2022-06-22 12:36:03+00:00       en  \n",
       "2022-06-22 12:36:03+00:00       en  \n",
       "2022-06-22 12:36:05+00:00       en  \n",
       "2022-06-22 12:36:05+00:00       pt  \n",
       "2022-06-22 12:36:05+00:00       en  "
      ]
     },
     "execution_count": 15,
     "metadata": {},
     "output_type": "execute_result"
    }
   ],
   "source": [
    "df_new.head()"
   ]
  },
  {
   "attachments": {},
   "cell_type": "markdown",
   "metadata": {},
   "source": [
    "**salvo i dati in un csv**"
   ]
  },
  {
   "cell_type": "code",
   "execution_count": null,
   "metadata": {},
   "outputs": [],
   "source": [
    "#df_new.to_csv('data/bitcoin_tweets.csv', mode='a', header=False)"
   ]
  },
  {
   "cell_type": "code",
   "execution_count": 16,
   "metadata": {},
   "outputs": [],
   "source": [
    "df_new.to_csv('data/bitcoin_tweets.csv', mode='a', header=False, quotechar='\"', quoting=csv.QUOTE_NONNUMERIC, escapechar='\\\\')"
   ]
  }
 ],
 "metadata": {
  "kernelspec": {
   "display_name": "base",
   "language": "python",
   "name": "python3"
  },
  "language_info": {
   "codemirror_mode": {
    "name": "ipython",
    "version": 3
   },
   "file_extension": ".py",
   "mimetype": "text/x-python",
   "name": "python",
   "nbconvert_exporter": "python",
   "pygments_lexer": "ipython3",
   "version": "3.8.8 (default, Apr 13 2021, 12:59:45) \n[Clang 10.0.0 ]"
  },
  "orig_nbformat": 4,
  "vscode": {
   "interpreter": {
    "hash": "40d3a090f54c6569ab1632332b64b2c03c39dcf918b08424e98f38b5ae0af88f"
   }
  }
 },
 "nbformat": 4,
 "nbformat_minor": 2
}
