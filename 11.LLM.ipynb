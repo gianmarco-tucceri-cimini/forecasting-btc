{
 "cells": [
  {
   "cell_type": "code",
   "execution_count": 4,
   "metadata": {},
   "outputs": [],
   "source": [
    "from pandas_datareader import data as pdr\n",
    "import yfinance as yf\n",
    "import torch\n",
    "import torch.nn as nn\n",
    "import pandas as pd"
   ]
  },
  {
   "cell_type": "code",
   "execution_count": 15,
   "metadata": {},
   "outputs": [
    {
     "name": "stdout",
     "output_type": "stream",
     "text": [
      "[*********************100%***********************]  1 of 1 completed\n"
     ]
    }
   ],
   "source": [
    "yf.pdr_override()\n",
    "y_symbols = ['BTC-USD']\n",
    "from datetime import datetime\n",
    "startdate = datetime(2015,1,1)\n",
    "enddate = datetime(2022,12,31)\n",
    "df = pdr.get_data_yahoo(y_symbols, start=startdate, end=enddate)"
   ]
  },
  {
   "cell_type": "code",
   "execution_count": 16,
   "metadata": {},
   "outputs": [
    {
     "data": {
      "text/html": [
       "<div>\n",
       "<style scoped>\n",
       "    .dataframe tbody tr th:only-of-type {\n",
       "        vertical-align: middle;\n",
       "    }\n",
       "\n",
       "    .dataframe tbody tr th {\n",
       "        vertical-align: top;\n",
       "    }\n",
       "\n",
       "    .dataframe thead th {\n",
       "        text-align: right;\n",
       "    }\n",
       "</style>\n",
       "<table border=\"1\" class=\"dataframe\">\n",
       "  <thead>\n",
       "    <tr style=\"text-align: right;\">\n",
       "      <th></th>\n",
       "      <th>Open</th>\n",
       "      <th>High</th>\n",
       "      <th>Low</th>\n",
       "      <th>Close</th>\n",
       "      <th>Adj Close</th>\n",
       "      <th>Volume</th>\n",
       "    </tr>\n",
       "    <tr>\n",
       "      <th>Date</th>\n",
       "      <th></th>\n",
       "      <th></th>\n",
       "      <th></th>\n",
       "      <th></th>\n",
       "      <th></th>\n",
       "      <th></th>\n",
       "    </tr>\n",
       "  </thead>\n",
       "  <tbody>\n",
       "    <tr>\n",
       "      <th>2022-12-26</th>\n",
       "      <td>16842.250000</td>\n",
       "      <td>16920.123047</td>\n",
       "      <td>16812.369141</td>\n",
       "      <td>16919.804688</td>\n",
       "      <td>16919.804688</td>\n",
       "      <td>11886957804</td>\n",
       "    </tr>\n",
       "    <tr>\n",
       "      <th>2022-12-27</th>\n",
       "      <td>16919.291016</td>\n",
       "      <td>16959.845703</td>\n",
       "      <td>16642.072266</td>\n",
       "      <td>16717.173828</td>\n",
       "      <td>16717.173828</td>\n",
       "      <td>15748580239</td>\n",
       "    </tr>\n",
       "    <tr>\n",
       "      <th>2022-12-28</th>\n",
       "      <td>16716.400391</td>\n",
       "      <td>16768.169922</td>\n",
       "      <td>16497.556641</td>\n",
       "      <td>16552.572266</td>\n",
       "      <td>16552.572266</td>\n",
       "      <td>17005713920</td>\n",
       "    </tr>\n",
       "    <tr>\n",
       "      <th>2022-12-29</th>\n",
       "      <td>16552.322266</td>\n",
       "      <td>16651.755859</td>\n",
       "      <td>16508.683594</td>\n",
       "      <td>16642.341797</td>\n",
       "      <td>16642.341797</td>\n",
       "      <td>14472237479</td>\n",
       "    </tr>\n",
       "    <tr>\n",
       "      <th>2022-12-30</th>\n",
       "      <td>16641.330078</td>\n",
       "      <td>16643.427734</td>\n",
       "      <td>16408.474609</td>\n",
       "      <td>16602.585938</td>\n",
       "      <td>16602.585938</td>\n",
       "      <td>15929162910</td>\n",
       "    </tr>\n",
       "  </tbody>\n",
       "</table>\n",
       "</div>"
      ],
      "text/plain": [
       "                    Open          High           Low         Close  \\\n",
       "Date                                                                 \n",
       "2022-12-26  16842.250000  16920.123047  16812.369141  16919.804688   \n",
       "2022-12-27  16919.291016  16959.845703  16642.072266  16717.173828   \n",
       "2022-12-28  16716.400391  16768.169922  16497.556641  16552.572266   \n",
       "2022-12-29  16552.322266  16651.755859  16508.683594  16642.341797   \n",
       "2022-12-30  16641.330078  16643.427734  16408.474609  16602.585938   \n",
       "\n",
       "               Adj Close       Volume  \n",
       "Date                                   \n",
       "2022-12-26  16919.804688  11886957804  \n",
       "2022-12-27  16717.173828  15748580239  \n",
       "2022-12-28  16552.572266  17005713920  \n",
       "2022-12-29  16642.341797  14472237479  \n",
       "2022-12-30  16602.585938  15929162910  "
      ]
     },
     "execution_count": 16,
     "metadata": {},
     "output_type": "execute_result"
    }
   ],
   "source": [
    "df.tail()"
   ]
  },
  {
   "cell_type": "code",
   "execution_count": 18,
   "metadata": {},
   "outputs": [
    {
     "data": {
      "text/plain": [
       "2921"
      ]
     },
     "execution_count": 18,
     "metadata": {},
     "output_type": "execute_result"
    }
   ],
   "source": [
    "len(df)"
   ]
  },
  {
   "cell_type": "code",
   "execution_count": 19,
   "metadata": {},
   "outputs": [
    {
     "name": "stdout",
     "output_type": "stream",
     "text": [
      "Epoch [50/500], Loss: 1551095.1250\n",
      "Epoch [100/500], Loss: 3293.4597\n",
      "Epoch [150/500], Loss: 0.0022\n",
      "Epoch [200/500], Loss: 0.4281\n",
      "Epoch [250/500], Loss: 0.0011\n",
      "Epoch [300/500], Loss: 0.0001\n",
      "Epoch [350/500], Loss: 0.0000\n",
      "Epoch [400/500], Loss: 0.0000\n",
      "Epoch [450/500], Loss: 0.0000\n",
      "Epoch [500/500], Loss: 0.0000\n",
      "[16549.15234375, 16469.671875, 16110.638671875, 15825.5078125, 16070.4140625, 15777.7431640625, 15647.1611328125, 15596.3203125, 15607.42578125, 15780.890625, 15733.69140625, 15783.7412109375, 15967.1201171875, 15796.0341796875, 15870.755859375, 15687.6396484375, 15847.525390625, 15806.751953125, 15714.3515625, 15681.826171875, 15480.779296875, 15239.470703125, 15029.908203125, 14945.9228515625, 15023.080078125, 14937.427734375, 14801.3955078125, 14815.83203125, 14974.083984375, 14909.509765625]\n"
     ]
    },
    {
     "name": "stderr",
     "output_type": "stream",
     "text": [
      "/Users/gianmarcotucceri/miniconda/envs/mlp/lib/python3.8/site-packages/torch/nn/modules/loss.py:536: UserWarning: Using a target size (torch.Size([1])) that is different to the input size (torch.Size([1, 1])). This will likely lead to incorrect results due to broadcasting. Please ensure they have the same size.\n",
      "  return F.mse_loss(input, target, reduction=self.reduction)\n"
     ]
    }
   ],
   "source": [
    "# Define the number of previous days to use for prediction\n",
    "num_prev_days = 2920\n",
    "\n",
    "# Create a list of the close prices\n",
    "close_prices = df['Close'].tolist()\n",
    "\n",
    "# Create a list of tuples containing the previous num_prev_days close prices and the current close price\n",
    "price_data = [(close_prices[i-num_prev_days:i], close_prices[i]) for i in range(num_prev_days, len(close_prices))]\n",
    "\n",
    "# Split the data into input and target tensors\n",
    "inputs = torch.tensor([i[0] for i in price_data], dtype=torch.float)\n",
    "targets = torch.tensor([i[1] for i in price_data], dtype=torch.float)\n",
    "\n",
    "# Define the neural network\n",
    "class LLM(torch.nn.Module):\n",
    "    def __init__(self, num_prev_days):\n",
    "        super(LLM, self).__init__()\n",
    "        self.linear1 = torch.nn.Linear(num_prev_days, 10)\n",
    "        self.linear2 = torch.nn.Linear(10, 1)\n",
    "        \n",
    "    def forward(self, input):\n",
    "        output = self.linear1(input)\n",
    "        output = torch.relu(output)\n",
    "        output = self.linear2(output)\n",
    "        return output\n",
    "\n",
    "# Instantiate the LLM model\n",
    "model = LLM(num_prev_days)\n",
    "\n",
    "# Define the loss function and optimizer\n",
    "loss_fn = torch.nn.MSELoss()\n",
    "optimizer = torch.optim.Adam(model.parameters(), lr=0.001)\n",
    "\n",
    "# Train the model\n",
    "for epoch in range(500):\n",
    "    # Forward pass\n",
    "    predictions = model(inputs)\n",
    "    \n",
    "    # Compute loss\n",
    "    loss = loss_fn(predictions, targets)\n",
    "    \n",
    "    # Backward pass and optimize\n",
    "    optimizer.zero_grad()\n",
    "    loss.backward()\n",
    "    optimizer.step()\n",
    "    \n",
    "    if (epoch+1) % 50 == 0:\n",
    "        print(f'Epoch [{epoch+1}/500], Loss: {loss.item():.4f}')\n",
    "\n",
    "# Use the trained model to make predictions for the next month\n",
    "predictions = []\n",
    "last_prices = close_prices[-num_prev_days:]\n",
    "\n",
    "for i in range(1,31):\n",
    "    input = torch.tensor(last_prices, dtype=torch.float)\n",
    "    prediction = model(input).item()\n",
    "    predictions.append(prediction)\n",
    "    last_prices.pop(0)\n",
    "    last_prices.append(prediction)\n",
    "\n",
    "# Print the predictions\n",
    "print(predictions)"
   ]
  }
 ],
 "metadata": {
  "kernelspec": {
   "display_name": "mlp",
   "language": "python",
   "name": "python3"
  },
  "language_info": {
   "codemirror_mode": {
    "name": "ipython",
    "version": 3
   },
   "file_extension": ".py",
   "mimetype": "text/x-python",
   "name": "python",
   "nbconvert_exporter": "python",
   "pygments_lexer": "ipython3",
   "version": "3.8.15"
  },
  "orig_nbformat": 4,
  "vscode": {
   "interpreter": {
    "hash": "95fe2f621b02c291269f6f1de04399c71d5624912c164c733c30837729478179"
   }
  }
 },
 "nbformat": 4,
 "nbformat_minor": 2
}
