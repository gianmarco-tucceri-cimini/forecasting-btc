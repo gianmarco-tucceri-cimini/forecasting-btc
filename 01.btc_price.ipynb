{
 "cells": [
  {
   "cell_type": "code",
   "execution_count": 1,
   "metadata": {},
   "outputs": [],
   "source": [
    "#import requests\n",
    "#import json\n",
    "\n",
    "# Specifica la data di inizio e fine del periodo di cui vuoi ottenere i prezzi\n",
    "#start_date = \"2022-01-31\"\n",
    "#end_date = \"2022-01-01\"\n",
    "\n",
    "# Specifica l'intervallo di tempo per ogni punto di dati (ad esempio, \"1day\" per ottenere un punto di dati al giorno)\n",
    "#granularity = \"1day\"\n",
    "\n",
    "# Effettua la chiamata all'API di Coinbase per ottenere lo storico dei prezzi\n",
    "#url = f\"https://api.coinbase.com/v2/prices/BTC-USD/historic?start_date={start_date}&end_date={end_date}&granularity={granularity}\"\n",
    "#response = requests.get(url)\n",
    "\n",
    "# Verifica che la chiamata sia andata a buon fine\n",
    "#if response.status_code != 200:\n",
    " #   print(\"Errore nella chiamata all'API\")\n",
    "\n",
    "# Carica i dati in formato JSON\n",
    "#data = response.json()\n",
    "\n",
    "# Stampa i prezzi ottenuti\n",
    "#print(data)\n"
   ]
  },
  {
   "cell_type": "code",
   "execution_count": 1,
   "metadata": {},
   "outputs": [],
   "source": [
    "import pandas as pd\n",
    "import coinbasepro as cbp\n",
    "\n",
    "client = cbp.PublicClient()\n"
   ]
  },
  {
   "cell_type": "code",
   "execution_count": 3,
   "metadata": {},
   "outputs": [],
   "source": [
    "# Scarica i prezzi di bitcoin per l'ultimo anno\n",
    "candles = client.get_product_historic_rates(product_id=\"BTC-USD\", start=\"2022-12-21T00:00:00\", stop=\"2022-12-22T00:00:00\", granularity=86400)\n"
   ]
  },
  {
   "cell_type": "code",
   "execution_count": 4,
   "metadata": {},
   "outputs": [
    {
     "name": "stdout",
     "output_type": "stream",
     "text": [
      "(2, 6)\n"
     ]
    },
    {
     "data": {
      "text/html": [
       "<div>\n",
       "<style scoped>\n",
       "    .dataframe tbody tr th:only-of-type {\n",
       "        vertical-align: middle;\n",
       "    }\n",
       "\n",
       "    .dataframe tbody tr th {\n",
       "        vertical-align: top;\n",
       "    }\n",
       "\n",
       "    .dataframe thead th {\n",
       "        text-align: right;\n",
       "    }\n",
       "</style>\n",
       "<table border=\"1\" class=\"dataframe\">\n",
       "  <thead>\n",
       "    <tr style=\"text-align: right;\">\n",
       "      <th></th>\n",
       "      <th>time</th>\n",
       "      <th>low</th>\n",
       "      <th>high</th>\n",
       "      <th>open</th>\n",
       "      <th>close</th>\n",
       "      <th>volume</th>\n",
       "    </tr>\n",
       "  </thead>\n",
       "  <tbody>\n",
       "    <tr>\n",
       "      <th>0</th>\n",
       "      <td>2022-12-22</td>\n",
       "      <td>16560.84</td>\n",
       "      <td>16868.82</td>\n",
       "      <td>16825.18</td>\n",
       "      <td>16815.51</td>\n",
       "      <td>21269.7673979</td>\n",
       "    </tr>\n",
       "    <tr>\n",
       "      <th>1</th>\n",
       "      <td>2022-12-21</td>\n",
       "      <td>16725.78</td>\n",
       "      <td>16926.05</td>\n",
       "      <td>16896.17</td>\n",
       "      <td>16826.56</td>\n",
       "      <td>16743.62189364</td>\n",
       "    </tr>\n",
       "  </tbody>\n",
       "</table>\n",
       "</div>"
      ],
      "text/plain": [
       "        time       low      high      open     close          volume\n",
       "0 2022-12-22  16560.84  16868.82  16825.18  16815.51   21269.7673979\n",
       "1 2022-12-21  16725.78  16926.05  16896.17  16826.56  16743.62189364"
      ]
     },
     "execution_count": 4,
     "metadata": {},
     "output_type": "execute_result"
    }
   ],
   "source": [
    "df = pd.DataFrame(candles)\n",
    "print(df.shape)\n",
    "df.head()"
   ]
  },
  {
   "cell_type": "code",
   "execution_count": 5,
   "metadata": {},
   "outputs": [
    {
     "data": {
      "text/html": [
       "<div>\n",
       "<style scoped>\n",
       "    .dataframe tbody tr th:only-of-type {\n",
       "        vertical-align: middle;\n",
       "    }\n",
       "\n",
       "    .dataframe tbody tr th {\n",
       "        vertical-align: top;\n",
       "    }\n",
       "\n",
       "    .dataframe thead th {\n",
       "        text-align: right;\n",
       "    }\n",
       "</style>\n",
       "<table border=\"1\" class=\"dataframe\">\n",
       "  <thead>\n",
       "    <tr style=\"text-align: right;\">\n",
       "      <th></th>\n",
       "      <th>low</th>\n",
       "      <th>high</th>\n",
       "      <th>open</th>\n",
       "      <th>close</th>\n",
       "      <th>volume</th>\n",
       "    </tr>\n",
       "    <tr>\n",
       "      <th>time</th>\n",
       "      <th></th>\n",
       "      <th></th>\n",
       "      <th></th>\n",
       "      <th></th>\n",
       "      <th></th>\n",
       "    </tr>\n",
       "  </thead>\n",
       "  <tbody>\n",
       "    <tr>\n",
       "      <th>2022-12-21</th>\n",
       "      <td>16725.78</td>\n",
       "      <td>16926.05</td>\n",
       "      <td>16896.17</td>\n",
       "      <td>16811.38</td>\n",
       "      <td>12065.3257349</td>\n",
       "    </tr>\n",
       "    <tr>\n",
       "      <th>2022-12-20</th>\n",
       "      <td>16398.22</td>\n",
       "      <td>17060.86</td>\n",
       "      <td>16439.98</td>\n",
       "      <td>16897.65</td>\n",
       "      <td>34330.28235168</td>\n",
       "    </tr>\n",
       "    <tr>\n",
       "      <th>2022-12-19</th>\n",
       "      <td>16273.4</td>\n",
       "      <td>16822.84</td>\n",
       "      <td>16742.33</td>\n",
       "      <td>16439.74</td>\n",
       "      <td>26856.08598724</td>\n",
       "    </tr>\n",
       "    <tr>\n",
       "      <th>2022-12-18</th>\n",
       "      <td>16663.76</td>\n",
       "      <td>16875</td>\n",
       "      <td>16782.23</td>\n",
       "      <td>16741.16</td>\n",
       "      <td>11073.43886205</td>\n",
       "    </tr>\n",
       "    <tr>\n",
       "      <th>2022-12-17</th>\n",
       "      <td>16585.64</td>\n",
       "      <td>16799.99</td>\n",
       "      <td>16634.29</td>\n",
       "      <td>16782.25</td>\n",
       "      <td>18446.6836015</td>\n",
       "    </tr>\n",
       "  </tbody>\n",
       "</table>\n",
       "</div>"
      ],
      "text/plain": [
       "                 low      high      open     close          volume\n",
       "time                                                              \n",
       "2022-12-21  16725.78  16926.05  16896.17  16811.38   12065.3257349\n",
       "2022-12-20  16398.22  17060.86  16439.98  16897.65  34330.28235168\n",
       "2022-12-19   16273.4  16822.84  16742.33  16439.74  26856.08598724\n",
       "2022-12-18  16663.76     16875  16782.23  16741.16  11073.43886205\n",
       "2022-12-17  16585.64  16799.99  16634.29  16782.25   18446.6836015"
      ]
     },
     "execution_count": 5,
     "metadata": {},
     "output_type": "execute_result"
    }
   ],
   "source": [
    "df = df.set_index('time')\n",
    "df.head()"
   ]
  },
  {
   "attachments": {},
   "cell_type": "markdown",
   "metadata": {},
   "source": [
    "**save dataset into csv**"
   ]
  },
  {
   "cell_type": "code",
   "execution_count": 6,
   "metadata": {},
   "outputs": [],
   "source": [
    "data = 'data/'"
   ]
  },
  {
   "cell_type": "code",
   "execution_count": 7,
   "metadata": {},
   "outputs": [],
   "source": [
    "df.to_csv(data + 'bitcoin.csv')"
   ]
  }
 ],
 "metadata": {
  "kernelspec": {
   "display_name": "base",
   "language": "python",
   "name": "python3"
  },
  "language_info": {
   "codemirror_mode": {
    "name": "ipython",
    "version": 3
   },
   "file_extension": ".py",
   "mimetype": "text/x-python",
   "name": "python",
   "nbconvert_exporter": "python",
   "pygments_lexer": "ipython3",
   "version": "3.8.8 (default, Apr 13 2021, 12:59:45) \n[Clang 10.0.0 ]"
  },
  "orig_nbformat": 4,
  "vscode": {
   "interpreter": {
    "hash": "40d3a090f54c6569ab1632332b64b2c03c39dcf918b08424e98f38b5ae0af88f"
   }
  }
 },
 "nbformat": 4,
 "nbformat_minor": 2
}
