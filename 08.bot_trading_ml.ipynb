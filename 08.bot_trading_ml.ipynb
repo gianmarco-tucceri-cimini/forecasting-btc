{
 "cells": [
  {
   "cell_type": "code",
   "execution_count": 27,
   "metadata": {},
   "outputs": [],
   "source": [
    "import ccxt  # libreria di trading\n",
    "import numpy as np\n",
    "import pandas as pd\n",
    "from sklearn.ensemble import RandomForestRegressor\n",
    "\n",
    "import datetime\n",
    "\n",
    "from sklearn.model_selection import train_test_split\n",
    "\n",
    "from sklearn.metrics import mean_squared_error, mean_absolute_error"
   ]
  },
  {
   "attachments": {},
   "cell_type": "markdown",
   "metadata": {},
   "source": [
    "**data preparation**"
   ]
  },
  {
   "cell_type": "code",
   "execution_count": 2,
   "metadata": {},
   "outputs": [
    {
     "data": {
      "text/html": [
       "<div>\n",
       "<style scoped>\n",
       "    .dataframe tbody tr th:only-of-type {\n",
       "        vertical-align: middle;\n",
       "    }\n",
       "\n",
       "    .dataframe tbody tr th {\n",
       "        vertical-align: top;\n",
       "    }\n",
       "\n",
       "    .dataframe thead th {\n",
       "        text-align: right;\n",
       "    }\n",
       "</style>\n",
       "<table border=\"1\" class=\"dataframe\">\n",
       "  <thead>\n",
       "    <tr style=\"text-align: right;\">\n",
       "      <th></th>\n",
       "      <th>time</th>\n",
       "      <th>low</th>\n",
       "      <th>high</th>\n",
       "      <th>open</th>\n",
       "      <th>close</th>\n",
       "      <th>volume</th>\n",
       "      <th>greed_and_fear</th>\n",
       "      <th>google_trend</th>\n",
       "      <th>sentiment_medio</th>\n",
       "      <th>difficulty</th>\n",
       "    </tr>\n",
       "  </thead>\n",
       "  <tbody>\n",
       "    <tr>\n",
       "      <th>0</th>\n",
       "      <td>2022-12-11</td>\n",
       "      <td>17073.19</td>\n",
       "      <td>17271.92</td>\n",
       "      <td>17128.10</td>\n",
       "      <td>17085.21</td>\n",
       "      <td>9948.852670</td>\n",
       "      <td>26</td>\n",
       "      <td>30</td>\n",
       "      <td>0.057855</td>\n",
       "      <td>3.424433e+13</td>\n",
       "    </tr>\n",
       "    <tr>\n",
       "      <th>1</th>\n",
       "      <td>2022-12-10</td>\n",
       "      <td>17093.42</td>\n",
       "      <td>17227.64</td>\n",
       "      <td>17130.49</td>\n",
       "      <td>17128.10</td>\n",
       "      <td>7860.586876</td>\n",
       "      <td>27</td>\n",
       "      <td>28</td>\n",
       "      <td>0.023664</td>\n",
       "      <td>3.424433e+13</td>\n",
       "    </tr>\n",
       "    <tr>\n",
       "      <th>2</th>\n",
       "      <td>2022-12-09</td>\n",
       "      <td>17060.69</td>\n",
       "      <td>17352.62</td>\n",
       "      <td>17226.03</td>\n",
       "      <td>17130.59</td>\n",
       "      <td>20976.636999</td>\n",
       "      <td>26</td>\n",
       "      <td>28</td>\n",
       "      <td>0.079547</td>\n",
       "      <td>3.424433e+13</td>\n",
       "    </tr>\n",
       "    <tr>\n",
       "      <th>3</th>\n",
       "      <td>2022-12-08</td>\n",
       "      <td>16738.00</td>\n",
       "      <td>17300.59</td>\n",
       "      <td>16839.76</td>\n",
       "      <td>17226.01</td>\n",
       "      <td>23533.234537</td>\n",
       "      <td>25</td>\n",
       "      <td>28</td>\n",
       "      <td>0.098894</td>\n",
       "      <td>3.424433e+13</td>\n",
       "    </tr>\n",
       "    <tr>\n",
       "      <th>4</th>\n",
       "      <td>2022-12-07</td>\n",
       "      <td>16679.52</td>\n",
       "      <td>17140.22</td>\n",
       "      <td>17089.18</td>\n",
       "      <td>16840.00</td>\n",
       "      <td>22635.468488</td>\n",
       "      <td>29</td>\n",
       "      <td>28</td>\n",
       "      <td>0.098525</td>\n",
       "      <td>3.424433e+13</td>\n",
       "    </tr>\n",
       "  </tbody>\n",
       "</table>\n",
       "</div>"
      ],
      "text/plain": [
       "         time       low      high      open     close        volume  \\\n",
       "0  2022-12-11  17073.19  17271.92  17128.10  17085.21   9948.852670   \n",
       "1  2022-12-10  17093.42  17227.64  17130.49  17128.10   7860.586876   \n",
       "2  2022-12-09  17060.69  17352.62  17226.03  17130.59  20976.636999   \n",
       "3  2022-12-08  16738.00  17300.59  16839.76  17226.01  23533.234537   \n",
       "4  2022-12-07  16679.52  17140.22  17089.18  16840.00  22635.468488   \n",
       "\n",
       "   greed_and_fear  google_trend  sentiment_medio    difficulty  \n",
       "0              26            30         0.057855  3.424433e+13  \n",
       "1              27            28         0.023664  3.424433e+13  \n",
       "2              26            28         0.079547  3.424433e+13  \n",
       "3              25            28         0.098894  3.424433e+13  \n",
       "4              29            28         0.098525  3.424433e+13  "
      ]
     },
     "execution_count": 2,
     "metadata": {},
     "output_type": "execute_result"
    }
   ],
   "source": [
    "# Carica i dati che hai raccolto in un dataframe\n",
    "df = pd.read_csv('data/bitcoin.csv')\n",
    "\n",
    "df.head()"
   ]
  },
  {
   "cell_type": "code",
   "execution_count": 7,
   "metadata": {},
   "outputs": [
    {
     "name": "stdout",
     "output_type": "stream",
     "text": [
      "<class 'pandas.core.frame.DataFrame'>\n",
      "Index: 184 entries, 2022-12-11 to 2022-06-11\n",
      "Data columns (total 9 columns):\n",
      " #   Column           Non-Null Count  Dtype  \n",
      "---  ------           --------------  -----  \n",
      " 0   low              184 non-null    float64\n",
      " 1   high             184 non-null    float64\n",
      " 2   open             184 non-null    float64\n",
      " 3   close            184 non-null    float64\n",
      " 4   volume           184 non-null    float64\n",
      " 5   greed_and_fear   184 non-null    int64  \n",
      " 6   google_trend     184 non-null    int64  \n",
      " 7   sentiment_medio  184 non-null    float64\n",
      " 8   difficulty       184 non-null    float64\n",
      "dtypes: float64(7), int64(2)\n",
      "memory usage: 14.4+ KB\n"
     ]
    }
   ],
   "source": [
    "df.info()"
   ]
  },
  {
   "cell_type": "code",
   "execution_count": 5,
   "metadata": {},
   "outputs": [],
   "source": [
    "df = df.set_index('time')"
   ]
  },
  {
   "cell_type": "code",
   "execution_count": 6,
   "metadata": {},
   "outputs": [
    {
     "data": {
      "text/html": [
       "<div>\n",
       "<style scoped>\n",
       "    .dataframe tbody tr th:only-of-type {\n",
       "        vertical-align: middle;\n",
       "    }\n",
       "\n",
       "    .dataframe tbody tr th {\n",
       "        vertical-align: top;\n",
       "    }\n",
       "\n",
       "    .dataframe thead th {\n",
       "        text-align: right;\n",
       "    }\n",
       "</style>\n",
       "<table border=\"1\" class=\"dataframe\">\n",
       "  <thead>\n",
       "    <tr style=\"text-align: right;\">\n",
       "      <th></th>\n",
       "      <th>count</th>\n",
       "      <th>mean</th>\n",
       "      <th>std</th>\n",
       "      <th>min</th>\n",
       "      <th>25%</th>\n",
       "      <th>50%</th>\n",
       "      <th>75%</th>\n",
       "      <th>max</th>\n",
       "    </tr>\n",
       "  </thead>\n",
       "  <tbody>\n",
       "    <tr>\n",
       "      <th>low</th>\n",
       "      <td>184.0</td>\n",
       "      <td>1.969655e+04</td>\n",
       "      <td>2.209816e+03</td>\n",
       "      <td>1.546000e+04</td>\n",
       "      <td>1.866219e+04</td>\n",
       "      <td>1.960547e+04</td>\n",
       "      <td>2.088712e+04</td>\n",
       "      <td>2.808001e+04</td>\n",
       "    </tr>\n",
       "    <tr>\n",
       "      <th>high</th>\n",
       "      <td>184.0</td>\n",
       "      <td>2.065573e+04</td>\n",
       "      <td>2.412420e+03</td>\n",
       "      <td>1.627999e+04</td>\n",
       "      <td>1.945190e+04</td>\n",
       "      <td>2.046761e+04</td>\n",
       "      <td>2.185821e+04</td>\n",
       "      <td>2.941111e+04</td>\n",
       "    </tr>\n",
       "    <tr>\n",
       "      <th>open</th>\n",
       "      <td>184.0</td>\n",
       "      <td>2.021675e+04</td>\n",
       "      <td>2.329571e+03</td>\n",
       "      <td>1.575896e+04</td>\n",
       "      <td>1.914818e+04</td>\n",
       "      <td>2.012302e+04</td>\n",
       "      <td>2.141581e+04</td>\n",
       "      <td>2.905879e+04</td>\n",
       "    </tr>\n",
       "    <tr>\n",
       "      <th>close</th>\n",
       "      <td>184.0</td>\n",
       "      <td>2.015184e+04</td>\n",
       "      <td>2.246700e+03</td>\n",
       "      <td>1.576014e+04</td>\n",
       "      <td>1.913067e+04</td>\n",
       "      <td>2.010408e+04</td>\n",
       "      <td>2.137490e+04</td>\n",
       "      <td>2.838863e+04</td>\n",
       "    </tr>\n",
       "    <tr>\n",
       "      <th>volume</th>\n",
       "      <td>184.0</td>\n",
       "      <td>2.634357e+04</td>\n",
       "      <td>1.550360e+04</td>\n",
       "      <td>7.044990e+03</td>\n",
       "      <td>1.662337e+04</td>\n",
       "      <td>2.365199e+04</td>\n",
       "      <td>3.275831e+04</td>\n",
       "      <td>1.196340e+05</td>\n",
       "    </tr>\n",
       "    <tr>\n",
       "      <th>greed_and_fear</th>\n",
       "      <td>184.0</td>\n",
       "      <td>2.436957e+01</td>\n",
       "      <td>8.011900e+00</td>\n",
       "      <td>6.000000e+00</td>\n",
       "      <td>2.000000e+01</td>\n",
       "      <td>2.400000e+01</td>\n",
       "      <td>2.900000e+01</td>\n",
       "      <td>4.700000e+01</td>\n",
       "    </tr>\n",
       "    <tr>\n",
       "      <th>google_trend</th>\n",
       "      <td>184.0</td>\n",
       "      <td>4.016304e+01</td>\n",
       "      <td>1.627212e+01</td>\n",
       "      <td>2.500000e+01</td>\n",
       "      <td>3.000000e+01</td>\n",
       "      <td>3.500000e+01</td>\n",
       "      <td>4.800000e+01</td>\n",
       "      <td>1.000000e+02</td>\n",
       "    </tr>\n",
       "    <tr>\n",
       "      <th>sentiment_medio</th>\n",
       "      <td>184.0</td>\n",
       "      <td>7.779380e-02</td>\n",
       "      <td>3.200062e-02</td>\n",
       "      <td>-2.216693e-04</td>\n",
       "      <td>5.717840e-02</td>\n",
       "      <td>7.175841e-02</td>\n",
       "      <td>9.552775e-02</td>\n",
       "      <td>1.991396e-01</td>\n",
       "    </tr>\n",
       "    <tr>\n",
       "      <th>difficulty</th>\n",
       "      <td>184.0</td>\n",
       "      <td>3.196783e+13</td>\n",
       "      <td>3.388530e+12</td>\n",
       "      <td>2.769257e+13</td>\n",
       "      <td>2.915280e+13</td>\n",
       "      <td>3.097705e+13</td>\n",
       "      <td>3.561079e+13</td>\n",
       "      <td>3.695049e+13</td>\n",
       "    </tr>\n",
       "  </tbody>\n",
       "</table>\n",
       "</div>"
      ],
      "text/plain": [
       "                 count          mean           std           min  \\\n",
       "low              184.0  1.969655e+04  2.209816e+03  1.546000e+04   \n",
       "high             184.0  2.065573e+04  2.412420e+03  1.627999e+04   \n",
       "open             184.0  2.021675e+04  2.329571e+03  1.575896e+04   \n",
       "close            184.0  2.015184e+04  2.246700e+03  1.576014e+04   \n",
       "volume           184.0  2.634357e+04  1.550360e+04  7.044990e+03   \n",
       "greed_and_fear   184.0  2.436957e+01  8.011900e+00  6.000000e+00   \n",
       "google_trend     184.0  4.016304e+01  1.627212e+01  2.500000e+01   \n",
       "sentiment_medio  184.0  7.779380e-02  3.200062e-02 -2.216693e-04   \n",
       "difficulty       184.0  3.196783e+13  3.388530e+12  2.769257e+13   \n",
       "\n",
       "                          25%           50%           75%           max  \n",
       "low              1.866219e+04  1.960547e+04  2.088712e+04  2.808001e+04  \n",
       "high             1.945190e+04  2.046761e+04  2.185821e+04  2.941111e+04  \n",
       "open             1.914818e+04  2.012302e+04  2.141581e+04  2.905879e+04  \n",
       "close            1.913067e+04  2.010408e+04  2.137490e+04  2.838863e+04  \n",
       "volume           1.662337e+04  2.365199e+04  3.275831e+04  1.196340e+05  \n",
       "greed_and_fear   2.000000e+01  2.400000e+01  2.900000e+01  4.700000e+01  \n",
       "google_trend     3.000000e+01  3.500000e+01  4.800000e+01  1.000000e+02  \n",
       "sentiment_medio  5.717840e-02  7.175841e-02  9.552775e-02  1.991396e-01  \n",
       "difficulty       2.915280e+13  3.097705e+13  3.561079e+13  3.695049e+13  "
      ]
     },
     "execution_count": 6,
     "metadata": {},
     "output_type": "execute_result"
    }
   ],
   "source": [
    "df.describe().T"
   ]
  },
  {
   "cell_type": "code",
   "execution_count": 4,
   "metadata": {},
   "outputs": [
    {
     "data": {
      "text/plain": [
       "time               0\n",
       "low                0\n",
       "high               0\n",
       "open               0\n",
       "close              0\n",
       "volume             0\n",
       "greed_and_fear     0\n",
       "google_trend       0\n",
       "sentiment_medio    0\n",
       "difficulty         0\n",
       "dtype: int64"
      ]
     },
     "execution_count": 4,
     "metadata": {},
     "output_type": "execute_result"
    }
   ],
   "source": [
    "df.isnull().sum()"
   ]
  },
  {
   "cell_type": "code",
   "execution_count": 10,
   "metadata": {},
   "outputs": [],
   "source": [
    "# Selezioniamo le colonne che vogliamo usare come input per il modello\n",
    "# Escludiamo la colonna \"time\" e la colonna \"close\" che useremo come etichetta\n",
    "X = df.drop(columns=[\"close\"])\n",
    "\n",
    "# Selezioniamo la colonna \"close\" come etichetta\n",
    "y = df[\"close\"]\n",
    "\n",
    "# Dividiamo il dataframe in due parti: una per l'addestramento e una per la valutazione\n",
    "# Usiamo il 80% dei dati per l'addestramento e il 20% per la valutazione\n",
    "X_train, X_test, y_train, y_test = train_test_split(X, y, test_size=0.2)"
   ]
  },
  {
   "cell_type": "code",
   "execution_count": 11,
   "metadata": {},
   "outputs": [
    {
     "data": {
      "text/html": [
       "<style>#sk-container-id-1 {color: black;background-color: white;}#sk-container-id-1 pre{padding: 0;}#sk-container-id-1 div.sk-toggleable {background-color: white;}#sk-container-id-1 label.sk-toggleable__label {cursor: pointer;display: block;width: 100%;margin-bottom: 0;padding: 0.3em;box-sizing: border-box;text-align: center;}#sk-container-id-1 label.sk-toggleable__label-arrow:before {content: \"▸\";float: left;margin-right: 0.25em;color: #696969;}#sk-container-id-1 label.sk-toggleable__label-arrow:hover:before {color: black;}#sk-container-id-1 div.sk-estimator:hover label.sk-toggleable__label-arrow:before {color: black;}#sk-container-id-1 div.sk-toggleable__content {max-height: 0;max-width: 0;overflow: hidden;text-align: left;background-color: #f0f8ff;}#sk-container-id-1 div.sk-toggleable__content pre {margin: 0.2em;color: black;border-radius: 0.25em;background-color: #f0f8ff;}#sk-container-id-1 input.sk-toggleable__control:checked~div.sk-toggleable__content {max-height: 200px;max-width: 100%;overflow: auto;}#sk-container-id-1 input.sk-toggleable__control:checked~label.sk-toggleable__label-arrow:before {content: \"▾\";}#sk-container-id-1 div.sk-estimator input.sk-toggleable__control:checked~label.sk-toggleable__label {background-color: #d4ebff;}#sk-container-id-1 div.sk-label input.sk-toggleable__control:checked~label.sk-toggleable__label {background-color: #d4ebff;}#sk-container-id-1 input.sk-hidden--visually {border: 0;clip: rect(1px 1px 1px 1px);clip: rect(1px, 1px, 1px, 1px);height: 1px;margin: -1px;overflow: hidden;padding: 0;position: absolute;width: 1px;}#sk-container-id-1 div.sk-estimator {font-family: monospace;background-color: #f0f8ff;border: 1px dotted black;border-radius: 0.25em;box-sizing: border-box;margin-bottom: 0.5em;}#sk-container-id-1 div.sk-estimator:hover {background-color: #d4ebff;}#sk-container-id-1 div.sk-parallel-item::after {content: \"\";width: 100%;border-bottom: 1px solid gray;flex-grow: 1;}#sk-container-id-1 div.sk-label:hover label.sk-toggleable__label {background-color: #d4ebff;}#sk-container-id-1 div.sk-serial::before {content: \"\";position: absolute;border-left: 1px solid gray;box-sizing: border-box;top: 0;bottom: 0;left: 50%;z-index: 0;}#sk-container-id-1 div.sk-serial {display: flex;flex-direction: column;align-items: center;background-color: white;padding-right: 0.2em;padding-left: 0.2em;position: relative;}#sk-container-id-1 div.sk-item {position: relative;z-index: 1;}#sk-container-id-1 div.sk-parallel {display: flex;align-items: stretch;justify-content: center;background-color: white;position: relative;}#sk-container-id-1 div.sk-item::before, #sk-container-id-1 div.sk-parallel-item::before {content: \"\";position: absolute;border-left: 1px solid gray;box-sizing: border-box;top: 0;bottom: 0;left: 50%;z-index: -1;}#sk-container-id-1 div.sk-parallel-item {display: flex;flex-direction: column;z-index: 1;position: relative;background-color: white;}#sk-container-id-1 div.sk-parallel-item:first-child::after {align-self: flex-end;width: 50%;}#sk-container-id-1 div.sk-parallel-item:last-child::after {align-self: flex-start;width: 50%;}#sk-container-id-1 div.sk-parallel-item:only-child::after {width: 0;}#sk-container-id-1 div.sk-dashed-wrapped {border: 1px dashed gray;margin: 0 0.4em 0.5em 0.4em;box-sizing: border-box;padding-bottom: 0.4em;background-color: white;}#sk-container-id-1 div.sk-label label {font-family: monospace;font-weight: bold;display: inline-block;line-height: 1.2em;}#sk-container-id-1 div.sk-label-container {text-align: center;}#sk-container-id-1 div.sk-container {/* jupyter's `normalize.less` sets `[hidden] { display: none; }` but bootstrap.min.css set `[hidden] { display: none !important; }` so we also need the `!important` here to be able to override the default hidden behavior on the sphinx rendered scikit-learn.org. See: https://github.com/scikit-learn/scikit-learn/issues/21755 */display: inline-block !important;position: relative;}#sk-container-id-1 div.sk-text-repr-fallback {display: none;}</style><div id=\"sk-container-id-1\" class=\"sk-top-container\"><div class=\"sk-text-repr-fallback\"><pre>RandomForestRegressor()</pre><b>In a Jupyter environment, please rerun this cell to show the HTML representation or trust the notebook. <br />On GitHub, the HTML representation is unable to render, please try loading this page with nbviewer.org.</b></div><div class=\"sk-container\" hidden><div class=\"sk-item\"><div class=\"sk-estimator sk-toggleable\"><input class=\"sk-toggleable__control sk-hidden--visually\" id=\"sk-estimator-id-1\" type=\"checkbox\" checked><label for=\"sk-estimator-id-1\" class=\"sk-toggleable__label sk-toggleable__label-arrow\">RandomForestRegressor</label><div class=\"sk-toggleable__content\"><pre>RandomForestRegressor()</pre></div></div></div></div></div>"
      ],
      "text/plain": [
       "RandomForestRegressor()"
      ]
     },
     "execution_count": 11,
     "metadata": {},
     "output_type": "execute_result"
    }
   ],
   "source": [
    "# Creiamo un'istanza del modello\n",
    "model = RandomForestRegressor()\n",
    "\n",
    "# Addestriamo il modello usando i dati di addestramento\n",
    "model.fit(X_train, y_train)"
   ]
  },
  {
   "cell_type": "code",
   "execution_count": 19,
   "metadata": {},
   "outputs": [],
   "source": [
    "# Testa il modello di machine learning\n",
    "y_pred = model.predict(X_test)"
   ]
  },
  {
   "cell_type": "code",
   "execution_count": 20,
   "metadata": {},
   "outputs": [
    {
     "name": "stdout",
     "output_type": "stream",
     "text": [
      "Mean Squared Error: 272062.9094672578\n",
      "Mean Absolute Error: 313.9560540540526\n"
     ]
    }
   ],
   "source": [
    "# Calcola MSE e MAE\n",
    "mse = mean_squared_error(y_test, y_pred)\n",
    "mae = mean_absolute_error(y_test, y_pred)\n",
    "\n",
    "print(\"Mean Squared Error:\", mse)\n",
    "print(\"Mean Absolute Error:\", mae)\n"
   ]
  },
  {
   "cell_type": "code",
   "execution_count": 38,
   "metadata": {},
   "outputs": [
    {
     "data": {
      "text/html": [
       "<div>\n",
       "<style scoped>\n",
       "    .dataframe tbody tr th:only-of-type {\n",
       "        vertical-align: middle;\n",
       "    }\n",
       "\n",
       "    .dataframe tbody tr th {\n",
       "        vertical-align: top;\n",
       "    }\n",
       "\n",
       "    .dataframe thead th {\n",
       "        text-align: right;\n",
       "    }\n",
       "</style>\n",
       "<table border=\"1\" class=\"dataframe\">\n",
       "  <thead>\n",
       "    <tr style=\"text-align: right;\">\n",
       "      <th></th>\n",
       "      <th>low</th>\n",
       "      <th>high</th>\n",
       "      <th>open</th>\n",
       "      <th>volume</th>\n",
       "      <th>greed_and_fear</th>\n",
       "      <th>google_trend</th>\n",
       "      <th>sentiment_medio</th>\n",
       "      <th>difficulty</th>\n",
       "    </tr>\n",
       "    <tr>\n",
       "      <th>time</th>\n",
       "      <th></th>\n",
       "      <th></th>\n",
       "      <th></th>\n",
       "      <th></th>\n",
       "      <th></th>\n",
       "      <th></th>\n",
       "      <th></th>\n",
       "      <th></th>\n",
       "    </tr>\n",
       "  </thead>\n",
       "  <tbody>\n",
       "    <tr>\n",
       "      <th>2022-12-07</th>\n",
       "      <td>16679.52</td>\n",
       "      <td>17140.22</td>\n",
       "      <td>17089.18</td>\n",
       "      <td>22635.468488</td>\n",
       "      <td>29</td>\n",
       "      <td>28</td>\n",
       "      <td>0.098525</td>\n",
       "      <td>3.424433e+13</td>\n",
       "    </tr>\n",
       "  </tbody>\n",
       "</table>\n",
       "</div>"
      ],
      "text/plain": [
       "                 low      high      open        volume  greed_and_fear  \\\n",
       "time                                                                     \n",
       "2022-12-07  16679.52  17140.22  17089.18  22635.468488              29   \n",
       "\n",
       "            google_trend  sentiment_medio    difficulty  \n",
       "time                                                     \n",
       "2022-12-07            28         0.098525  3.424433e+13  "
      ]
     },
     "execution_count": 38,
     "metadata": {},
     "output_type": "execute_result"
    }
   ],
   "source": [
    "# Prepara i dati di input per il modello\n",
    "\n",
    "df5 = df.reset_index()\n",
    "# Ottieni la data di oggi\n",
    "today = datetime.datetime.today()\n",
    "\n",
    "# Seleziona solo le righe del dataframe che hanno la data di oggi nella colonna \"time\"\n",
    "df_today = df5.loc[df5['time'] == '2022-12-07']\n",
    "\n",
    "df_today = df_today.drop(columns=[\"close\"])\n",
    "\n",
    "# Stampa il dataframe con i dati di oggi\n",
    "df_today = df_today.set_index('time')\n",
    "df_today.head()"
   ]
  },
  {
   "cell_type": "code",
   "execution_count": 39,
   "metadata": {},
   "outputs": [
    {
     "name": "stdout",
     "output_type": "stream",
     "text": [
      "[16924.1518]\n"
     ]
    }
   ],
   "source": [
    "# Usa il modello per fare la previsione\n",
    "prediction = model.predict(df_today)\n",
    "\n",
    "# Stampa il risultato\n",
    "print(prediction)\n"
   ]
  },
  {
   "cell_type": "code",
   "execution_count": null,
   "metadata": {},
   "outputs": [],
   "source": [
    "# Carica i dati che hai raccolto in un dataframe\n",
    "df = pd.read_csv('data/bitcoin.csv')\n",
    "\n",
    "# Prepara i dati di input e di output per il modello di machine learning\n",
    "X = df[['price', 'greed_fear', 'sentiment', 'volume', 'difficulty']]\n",
    "y = df['price_tomorrow']\n",
    "\n",
    "# Dividi i dati in set di addestramento e test\n",
    "X_train, X_test, y_train, y_test = train_test_split(X, y, test_size=0.2)\n",
    "\n",
    "# Addestra il modello di machine learning\n",
    "model = RandomForestRegressor()\n",
    "model.fit(X_train, y_train)\n",
    "\n",
    "# Testa il modello di machine learning\n",
    "predictions = model.predict(X_test)\n",
    "\n",
    "# Verifica l'accuratezza del modello\n",
    "print(mean_absolute_error(y_test, predictions))\n",
    "\n",
    "# Crea una funzione per prevedere il prezzo del bitcoin domani\n",
    "def predict_price():\n",
    "  # Recupera i dati attuali dei prezzi, dell'indice greed & fear, del sentiment dei tweets, del volume e della difficoltà\n",
    "  current_price = exchange.fetch_ticker('BTC/USD')['last']\n",
    "  greed_fear = fetch_greed_fear_index()\n",
    "  sentiment = fetch_sentiment()\n",
    "  volume = fetch_volume()\n",
    "  difficulty = fetch_difficulty()\n",
    "\n",
    "  # Utilizza il modello di machine learning per fare una previsione del prezzo del bitcoin domani\n",
    "  price_prediction = model.predict([[current_price, greed_fear, sentiment, volume, difficulty]])\n",
    "\n",
    "  return price_prediction"
   ]
  },
  {
   "cell_type": "code",
   "execution_count": null,
   "metadata": {},
   "outputs": [],
   "source": [
    "# Scegli l'exchange su cui fare trading\n",
    "exchange = ccxt.binance()\n",
    "\n",
    "\n",
    "\n",
    "def trade(price_prediction):\n",
    "  # Recupera il saldo del tuo account sull'exchange\n",
    "  balance = exchange.fetch_balance()\n",
    "  btc_balance = balance['BTC']['free']\n",
    "  usd_balance = balance['USD']['free']\n",
    "\n",
    "  # Se il prezzo previsto è maggiore del prezzo attuale e hai abbastanza soldi, compra bitcoin\n",
    "  if price_prediction > current_price and usd_balance > current_price:\n",
    "    exchange.create_market_buy_order('BTC/USD', btc_balance)\n",
    "\n",
    "  # Se il prezzo previsto è minore del prezzo attuale e hai abbastanza bitcoin, vendi bitcoin\n",
    "  elif price_prediction < current_price and btc_balance > 0:\n",
    "    exchange.create_market_sell_order('BTC/USD', btc_balance)\n",
    "\n",
    "# Crea un ciclo infinito per fare trading in modo continuo\n",
    "while True:\n",
    "  # Chiama la funzione predict_price() ogni ora per fare una previsione del prezzo del bitcoin domani\n",
    "  price_prediction = predict_price()\n",
    "  trade(price_prediction)\n",
    "  time.sleep(3600)  # aspetta un'ora prima di fare un'altra previsione e fare un altro trade"
   ]
  }
 ],
 "metadata": {
  "kernelspec": {
   "display_name": "base",
   "language": "python",
   "name": "python3"
  },
  "language_info": {
   "codemirror_mode": {
    "name": "ipython",
    "version": 3
   },
   "file_extension": ".py",
   "mimetype": "text/x-python",
   "name": "python",
   "nbconvert_exporter": "python",
   "pygments_lexer": "ipython3",
   "version": "3.8.8 (default, Apr 13 2021, 12:59:45) \n[Clang 10.0.0 ]"
  },
  "orig_nbformat": 4,
  "vscode": {
   "interpreter": {
    "hash": "40d3a090f54c6569ab1632332b64b2c03c39dcf918b08424e98f38b5ae0af88f"
   }
  }
 },
 "nbformat": 4,
 "nbformat_minor": 2
}
