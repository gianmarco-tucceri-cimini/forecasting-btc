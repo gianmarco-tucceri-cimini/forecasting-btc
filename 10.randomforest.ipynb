{
 "cells": [
  {
   "cell_type": "code",
   "execution_count": 81,
   "metadata": {},
   "outputs": [],
   "source": [
    "import pandas as pd\n",
    "import numpy as np\n",
    "\n",
    "from sklearn.ensemble import RandomForestRegressor\n",
    "from sklearn.model_selection import train_test_split\n",
    "\n",
    "import tweepy\n",
    "\n",
    "import coinbasepro as cbp\n",
    "\n",
    "import requests\n",
    "import datetime\n",
    "from datetime import datetime, timezone, date, timedelta\n",
    "import time\n",
    "\n",
    "from textblob import TextBlob\n",
    "import re\n",
    "import string\n",
    "\n",
    "from numpy import mean\n",
    "from numpy import median\n",
    "\n",
    "import csv\n",
    "\n",
    "import json\n",
    "\n",
    "from pytrends.request import TrendReq\n",
    "\n",
    "client = cbp.PublicClient()\n"
   ]
  },
  {
   "cell_type": "code",
   "execution_count": 88,
   "metadata": {},
   "outputs": [],
   "source": [
    "df = pd.read_csv('data/bitcoin.csv')"
   ]
  },
  {
   "cell_type": "code",
   "execution_count": 89,
   "metadata": {},
   "outputs": [
    {
     "data": {
      "text/html": [
       "<div>\n",
       "<style scoped>\n",
       "    .dataframe tbody tr th:only-of-type {\n",
       "        vertical-align: middle;\n",
       "    }\n",
       "\n",
       "    .dataframe tbody tr th {\n",
       "        vertical-align: top;\n",
       "    }\n",
       "\n",
       "    .dataframe thead th {\n",
       "        text-align: right;\n",
       "    }\n",
       "</style>\n",
       "<table border=\"1\" class=\"dataframe\">\n",
       "  <thead>\n",
       "    <tr style=\"text-align: right;\">\n",
       "      <th></th>\n",
       "      <th>time</th>\n",
       "      <th>low</th>\n",
       "      <th>high</th>\n",
       "      <th>open</th>\n",
       "      <th>close</th>\n",
       "      <th>volume</th>\n",
       "      <th>greed_and_fear</th>\n",
       "      <th>google_trend</th>\n",
       "      <th>sentiment_medio</th>\n",
       "      <th>difficulty</th>\n",
       "    </tr>\n",
       "  </thead>\n",
       "  <tbody>\n",
       "    <tr>\n",
       "      <th>0</th>\n",
       "      <td>2022-12-11</td>\n",
       "      <td>17073.19</td>\n",
       "      <td>17271.92</td>\n",
       "      <td>17128.10</td>\n",
       "      <td>17085.21</td>\n",
       "      <td>9948.852670</td>\n",
       "      <td>26</td>\n",
       "      <td>30</td>\n",
       "      <td>0.057855</td>\n",
       "      <td>3.424433e+13</td>\n",
       "    </tr>\n",
       "    <tr>\n",
       "      <th>1</th>\n",
       "      <td>2022-12-10</td>\n",
       "      <td>17093.42</td>\n",
       "      <td>17227.64</td>\n",
       "      <td>17130.49</td>\n",
       "      <td>17128.10</td>\n",
       "      <td>7860.586876</td>\n",
       "      <td>27</td>\n",
       "      <td>28</td>\n",
       "      <td>0.023664</td>\n",
       "      <td>3.424433e+13</td>\n",
       "    </tr>\n",
       "    <tr>\n",
       "      <th>2</th>\n",
       "      <td>2022-12-09</td>\n",
       "      <td>17060.69</td>\n",
       "      <td>17352.62</td>\n",
       "      <td>17226.03</td>\n",
       "      <td>17130.59</td>\n",
       "      <td>20976.636999</td>\n",
       "      <td>26</td>\n",
       "      <td>28</td>\n",
       "      <td>0.079547</td>\n",
       "      <td>3.424433e+13</td>\n",
       "    </tr>\n",
       "    <tr>\n",
       "      <th>3</th>\n",
       "      <td>2022-12-08</td>\n",
       "      <td>16738.00</td>\n",
       "      <td>17300.59</td>\n",
       "      <td>16839.76</td>\n",
       "      <td>17226.01</td>\n",
       "      <td>23533.234537</td>\n",
       "      <td>25</td>\n",
       "      <td>28</td>\n",
       "      <td>0.098894</td>\n",
       "      <td>3.424433e+13</td>\n",
       "    </tr>\n",
       "    <tr>\n",
       "      <th>4</th>\n",
       "      <td>2022-12-07</td>\n",
       "      <td>16679.52</td>\n",
       "      <td>17140.22</td>\n",
       "      <td>17089.18</td>\n",
       "      <td>16840.00</td>\n",
       "      <td>22635.468488</td>\n",
       "      <td>29</td>\n",
       "      <td>28</td>\n",
       "      <td>0.098525</td>\n",
       "      <td>3.424433e+13</td>\n",
       "    </tr>\n",
       "  </tbody>\n",
       "</table>\n",
       "</div>"
      ],
      "text/plain": [
       "         time       low      high      open     close        volume  \\\n",
       "0  2022-12-11  17073.19  17271.92  17128.10  17085.21   9948.852670   \n",
       "1  2022-12-10  17093.42  17227.64  17130.49  17128.10   7860.586876   \n",
       "2  2022-12-09  17060.69  17352.62  17226.03  17130.59  20976.636999   \n",
       "3  2022-12-08  16738.00  17300.59  16839.76  17226.01  23533.234537   \n",
       "4  2022-12-07  16679.52  17140.22  17089.18  16840.00  22635.468488   \n",
       "\n",
       "   greed_and_fear  google_trend  sentiment_medio    difficulty  \n",
       "0              26            30         0.057855  3.424433e+13  \n",
       "1              27            28         0.023664  3.424433e+13  \n",
       "2              26            28         0.079547  3.424433e+13  \n",
       "3              25            28         0.098894  3.424433e+13  \n",
       "4              29            28         0.098525  3.424433e+13  "
      ]
     },
     "execution_count": 89,
     "metadata": {},
     "output_type": "execute_result"
    }
   ],
   "source": [
    "df.head()"
   ]
  },
  {
   "cell_type": "code",
   "execution_count": 4,
   "metadata": {},
   "outputs": [],
   "source": [
    "X = df[['low', 'high', 'open', 'volume', 'greed_and_fear', 'google_trend', 'sentiment_medio', 'difficulty']]"
   ]
  },
  {
   "cell_type": "code",
   "execution_count": 5,
   "metadata": {},
   "outputs": [],
   "source": [
    "y = df['close']\n"
   ]
  },
  {
   "cell_type": "code",
   "execution_count": 6,
   "metadata": {},
   "outputs": [],
   "source": [
    "X_train, X_test, y_train, y_test = train_test_split(X, y, test_size=0.2)"
   ]
  },
  {
   "cell_type": "code",
   "execution_count": 7,
   "metadata": {},
   "outputs": [],
   "source": [
    "model = RandomForestRegressor()"
   ]
  },
  {
   "cell_type": "code",
   "execution_count": 8,
   "metadata": {},
   "outputs": [
    {
     "data": {
      "text/html": [
       "<style>#sk-container-id-1 {color: black;background-color: white;}#sk-container-id-1 pre{padding: 0;}#sk-container-id-1 div.sk-toggleable {background-color: white;}#sk-container-id-1 label.sk-toggleable__label {cursor: pointer;display: block;width: 100%;margin-bottom: 0;padding: 0.3em;box-sizing: border-box;text-align: center;}#sk-container-id-1 label.sk-toggleable__label-arrow:before {content: \"▸\";float: left;margin-right: 0.25em;color: #696969;}#sk-container-id-1 label.sk-toggleable__label-arrow:hover:before {color: black;}#sk-container-id-1 div.sk-estimator:hover label.sk-toggleable__label-arrow:before {color: black;}#sk-container-id-1 div.sk-toggleable__content {max-height: 0;max-width: 0;overflow: hidden;text-align: left;background-color: #f0f8ff;}#sk-container-id-1 div.sk-toggleable__content pre {margin: 0.2em;color: black;border-radius: 0.25em;background-color: #f0f8ff;}#sk-container-id-1 input.sk-toggleable__control:checked~div.sk-toggleable__content {max-height: 200px;max-width: 100%;overflow: auto;}#sk-container-id-1 input.sk-toggleable__control:checked~label.sk-toggleable__label-arrow:before {content: \"▾\";}#sk-container-id-1 div.sk-estimator input.sk-toggleable__control:checked~label.sk-toggleable__label {background-color: #d4ebff;}#sk-container-id-1 div.sk-label input.sk-toggleable__control:checked~label.sk-toggleable__label {background-color: #d4ebff;}#sk-container-id-1 input.sk-hidden--visually {border: 0;clip: rect(1px 1px 1px 1px);clip: rect(1px, 1px, 1px, 1px);height: 1px;margin: -1px;overflow: hidden;padding: 0;position: absolute;width: 1px;}#sk-container-id-1 div.sk-estimator {font-family: monospace;background-color: #f0f8ff;border: 1px dotted black;border-radius: 0.25em;box-sizing: border-box;margin-bottom: 0.5em;}#sk-container-id-1 div.sk-estimator:hover {background-color: #d4ebff;}#sk-container-id-1 div.sk-parallel-item::after {content: \"\";width: 100%;border-bottom: 1px solid gray;flex-grow: 1;}#sk-container-id-1 div.sk-label:hover label.sk-toggleable__label {background-color: #d4ebff;}#sk-container-id-1 div.sk-serial::before {content: \"\";position: absolute;border-left: 1px solid gray;box-sizing: border-box;top: 0;bottom: 0;left: 50%;z-index: 0;}#sk-container-id-1 div.sk-serial {display: flex;flex-direction: column;align-items: center;background-color: white;padding-right: 0.2em;padding-left: 0.2em;position: relative;}#sk-container-id-1 div.sk-item {position: relative;z-index: 1;}#sk-container-id-1 div.sk-parallel {display: flex;align-items: stretch;justify-content: center;background-color: white;position: relative;}#sk-container-id-1 div.sk-item::before, #sk-container-id-1 div.sk-parallel-item::before {content: \"\";position: absolute;border-left: 1px solid gray;box-sizing: border-box;top: 0;bottom: 0;left: 50%;z-index: -1;}#sk-container-id-1 div.sk-parallel-item {display: flex;flex-direction: column;z-index: 1;position: relative;background-color: white;}#sk-container-id-1 div.sk-parallel-item:first-child::after {align-self: flex-end;width: 50%;}#sk-container-id-1 div.sk-parallel-item:last-child::after {align-self: flex-start;width: 50%;}#sk-container-id-1 div.sk-parallel-item:only-child::after {width: 0;}#sk-container-id-1 div.sk-dashed-wrapped {border: 1px dashed gray;margin: 0 0.4em 0.5em 0.4em;box-sizing: border-box;padding-bottom: 0.4em;background-color: white;}#sk-container-id-1 div.sk-label label {font-family: monospace;font-weight: bold;display: inline-block;line-height: 1.2em;}#sk-container-id-1 div.sk-label-container {text-align: center;}#sk-container-id-1 div.sk-container {/* jupyter's `normalize.less` sets `[hidden] { display: none; }` but bootstrap.min.css set `[hidden] { display: none !important; }` so we also need the `!important` here to be able to override the default hidden behavior on the sphinx rendered scikit-learn.org. See: https://github.com/scikit-learn/scikit-learn/issues/21755 */display: inline-block !important;position: relative;}#sk-container-id-1 div.sk-text-repr-fallback {display: none;}</style><div id=\"sk-container-id-1\" class=\"sk-top-container\"><div class=\"sk-text-repr-fallback\"><pre>RandomForestRegressor()</pre><b>In a Jupyter environment, please rerun this cell to show the HTML representation or trust the notebook. <br />On GitHub, the HTML representation is unable to render, please try loading this page with nbviewer.org.</b></div><div class=\"sk-container\" hidden><div class=\"sk-item\"><div class=\"sk-estimator sk-toggleable\"><input class=\"sk-toggleable__control sk-hidden--visually\" id=\"sk-estimator-id-1\" type=\"checkbox\" checked><label for=\"sk-estimator-id-1\" class=\"sk-toggleable__label sk-toggleable__label-arrow\">RandomForestRegressor</label><div class=\"sk-toggleable__content\"><pre>RandomForestRegressor()</pre></div></div></div></div></div>"
      ],
      "text/plain": [
       "RandomForestRegressor()"
      ]
     },
     "execution_count": 8,
     "metadata": {},
     "output_type": "execute_result"
    }
   ],
   "source": [
    "model.fit(X_train, y_train)"
   ]
  },
  {
   "cell_type": "code",
   "execution_count": 9,
   "metadata": {},
   "outputs": [
    {
     "data": {
      "text/plain": [
       "0.9186523862664571"
      ]
     },
     "execution_count": 9,
     "metadata": {},
     "output_type": "execute_result"
    }
   ],
   "source": [
    "model.score(X_test, y_test)"
   ]
  },
  {
   "cell_type": "code",
   "execution_count": 15,
   "metadata": {},
   "outputs": [],
   "source": [
    "domani = pd.DataFrame([[df['low'][10], df['high'][10], df['open'][10], df['volume'][10], df['greed_and_fear'][10], df['google_trend'][10], df['sentiment_medio'][10], df['difficulty'][10]]], columns=['low', 'high', 'open', 'volume', 'greed_and_fear', 'google_trend', 'sentiment_medio', 'difficulty'])\n",
    "previsione = model.predict(domani)[0]"
   ]
  },
  {
   "cell_type": "code",
   "execution_count": 16,
   "metadata": {},
   "outputs": [
    {
     "name": "stdout",
     "output_type": "stream",
     "text": [
      "17026.421300000016\n"
     ]
    }
   ],
   "source": [
    "print(previsione)"
   ]
  },
  {
   "attachments": {},
   "cell_type": "markdown",
   "metadata": {},
   "source": [
    "**Scarico prezzi bitcoin di oggi**"
   ]
  },
  {
   "cell_type": "code",
   "execution_count": 54,
   "metadata": {},
   "outputs": [],
   "source": [
    "# Scarica i prezzi di bitcoin per l'ultimo anno\n",
    "candles = client.get_product_historic_rates(product_id=\"BTC-USD\", start=\"2022-12-21T00:00:00\", stop=\"2022-12-22T00:00:00\", granularity=86400)"
   ]
  },
  {
   "cell_type": "code",
   "execution_count": 55,
   "metadata": {},
   "outputs": [
    {
     "name": "stdout",
     "output_type": "stream",
     "text": [
      "(2, 6)\n"
     ]
    },
    {
     "data": {
      "text/html": [
       "<div>\n",
       "<style scoped>\n",
       "    .dataframe tbody tr th:only-of-type {\n",
       "        vertical-align: middle;\n",
       "    }\n",
       "\n",
       "    .dataframe tbody tr th {\n",
       "        vertical-align: top;\n",
       "    }\n",
       "\n",
       "    .dataframe thead th {\n",
       "        text-align: right;\n",
       "    }\n",
       "</style>\n",
       "<table border=\"1\" class=\"dataframe\">\n",
       "  <thead>\n",
       "    <tr style=\"text-align: right;\">\n",
       "      <th></th>\n",
       "      <th>time</th>\n",
       "      <th>low</th>\n",
       "      <th>high</th>\n",
       "      <th>open</th>\n",
       "      <th>close</th>\n",
       "      <th>volume</th>\n",
       "    </tr>\n",
       "  </thead>\n",
       "  <tbody>\n",
       "    <tr>\n",
       "      <th>0</th>\n",
       "      <td>2022-12-22</td>\n",
       "      <td>16560.84</td>\n",
       "      <td>16868.82</td>\n",
       "      <td>16825.18</td>\n",
       "      <td>16815.51</td>\n",
       "      <td>21269.7673979</td>\n",
       "    </tr>\n",
       "    <tr>\n",
       "      <th>1</th>\n",
       "      <td>2022-12-21</td>\n",
       "      <td>16725.78</td>\n",
       "      <td>16926.05</td>\n",
       "      <td>16896.17</td>\n",
       "      <td>16826.56</td>\n",
       "      <td>16743.62189364</td>\n",
       "    </tr>\n",
       "  </tbody>\n",
       "</table>\n",
       "</div>"
      ],
      "text/plain": [
       "        time       low      high      open     close          volume\n",
       "0 2022-12-22  16560.84  16868.82  16825.18  16815.51   21269.7673979\n",
       "1 2022-12-21  16725.78  16926.05  16896.17  16826.56  16743.62189364"
      ]
     },
     "execution_count": 55,
     "metadata": {},
     "output_type": "execute_result"
    }
   ],
   "source": [
    "df_domani = pd.DataFrame(candles)\n",
    "print(df_domani.shape)\n",
    "df_domani.head()"
   ]
  },
  {
   "attachments": {},
   "cell_type": "markdown",
   "metadata": {},
   "source": [
    "**Scarico greed_and_fear di oggi**"
   ]
  },
  {
   "cell_type": "code",
   "execution_count": 56,
   "metadata": {},
   "outputs": [
    {
     "data": {
      "text/html": [
       "<div>\n",
       "<style scoped>\n",
       "    .dataframe tbody tr th:only-of-type {\n",
       "        vertical-align: middle;\n",
       "    }\n",
       "\n",
       "    .dataframe tbody tr th {\n",
       "        vertical-align: top;\n",
       "    }\n",
       "\n",
       "    .dataframe thead th {\n",
       "        text-align: right;\n",
       "    }\n",
       "</style>\n",
       "<table border=\"1\" class=\"dataframe\">\n",
       "  <thead>\n",
       "    <tr style=\"text-align: right;\">\n",
       "      <th></th>\n",
       "      <th>time</th>\n",
       "      <th>low</th>\n",
       "      <th>high</th>\n",
       "      <th>open</th>\n",
       "      <th>close</th>\n",
       "      <th>volume</th>\n",
       "      <th>greed_and_fear</th>\n",
       "    </tr>\n",
       "  </thead>\n",
       "  <tbody>\n",
       "    <tr>\n",
       "      <th>0</th>\n",
       "      <td>2022-12-22</td>\n",
       "      <td>16560.84</td>\n",
       "      <td>16868.82</td>\n",
       "      <td>16825.18</td>\n",
       "      <td>16815.51</td>\n",
       "      <td>21269.7673979</td>\n",
       "      <td>28</td>\n",
       "    </tr>\n",
       "    <tr>\n",
       "      <th>1</th>\n",
       "      <td>2022-12-21</td>\n",
       "      <td>16725.78</td>\n",
       "      <td>16926.05</td>\n",
       "      <td>16896.17</td>\n",
       "      <td>16826.56</td>\n",
       "      <td>16743.62189364</td>\n",
       "      <td>NaN</td>\n",
       "    </tr>\n",
       "  </tbody>\n",
       "</table>\n",
       "</div>"
      ],
      "text/plain": [
       "        time       low      high      open     close          volume  \\\n",
       "0 2022-12-22  16560.84  16868.82  16825.18  16815.51   21269.7673979   \n",
       "1 2022-12-21  16725.78  16926.05  16896.17  16826.56  16743.62189364   \n",
       "\n",
       "  greed_and_fear  \n",
       "0             28  \n",
       "1            NaN  "
      ]
     },
     "execution_count": 56,
     "metadata": {},
     "output_type": "execute_result"
    }
   ],
   "source": [
    "# Inizializza la lista data_list\n",
    "data_list = []\n",
    "\n",
    "# Effettua 31 chiamate all'API di Alternative.me\n",
    "for i in range(2):\n",
    "  # Prepara la richiesta HTTP\n",
    "  url = \"https://api.alternative.me/fng/?limit=204&timestamp=\" + str(i)\n",
    "  headers = {'Content-Type': 'application/json'}\n",
    "\n",
    "  # Effettua la richiesta HTTP\n",
    "  response = requests.get(url, headers=headers)\n",
    "\n",
    "  # Carica i dati in formato JSON\n",
    "  data = response.json()\n",
    "\n",
    "  # Estrai il valore \"value\" e il timestamp\n",
    "  value = data[\"data\"][i][\"value\"]\n",
    "  timestamp = data[\"data\"][i][\"timestamp\"]\n",
    "\n",
    "  # Aggiungi i valori \"value\" e \"timestamp\" nella lista data_list\n",
    "  data_list.append((value, timestamp))\n",
    "\n",
    "  # Per ogni tupla nella lista data_list\n",
    "for value, timestamp in data_list:\n",
    "  # Converti il timestamp in una data\n",
    "  date = datetime.datetime.fromtimestamp(int(timestamp)).strftime('%Y-%m-%d')\n",
    "  #date = pd.to_datetime(date)\n",
    "  # Seleziona la riga del dataframe corrispondente alla data\n",
    "  df_domani.loc[df_domani['time'] == date, 'greed_and_fear'] = value\n",
    "\n",
    "# Stampa il dataframe aggiornato\n",
    "df_domani.head(20)"
   ]
  },
  {
   "attachments": {},
   "cell_type": "markdown",
   "metadata": {},
   "source": [
    "**Scarico difficulty di oggi**"
   ]
  },
  {
   "cell_type": "code",
   "execution_count": 58,
   "metadata": {},
   "outputs": [
    {
     "data": {
      "text/html": [
       "<div>\n",
       "<style scoped>\n",
       "    .dataframe tbody tr th:only-of-type {\n",
       "        vertical-align: middle;\n",
       "    }\n",
       "\n",
       "    .dataframe tbody tr th {\n",
       "        vertical-align: top;\n",
       "    }\n",
       "\n",
       "    .dataframe thead th {\n",
       "        text-align: right;\n",
       "    }\n",
       "</style>\n",
       "<table border=\"1\" class=\"dataframe\">\n",
       "  <thead>\n",
       "    <tr style=\"text-align: right;\">\n",
       "      <th></th>\n",
       "      <th>time</th>\n",
       "      <th>low</th>\n",
       "      <th>high</th>\n",
       "      <th>open</th>\n",
       "      <th>close</th>\n",
       "      <th>volume</th>\n",
       "      <th>greed_and_fear</th>\n",
       "      <th>y</th>\n",
       "    </tr>\n",
       "  </thead>\n",
       "  <tbody>\n",
       "    <tr>\n",
       "      <th>0</th>\n",
       "      <td>2022-12-22</td>\n",
       "      <td>16560.84</td>\n",
       "      <td>16868.82</td>\n",
       "      <td>16825.18</td>\n",
       "      <td>16815.51</td>\n",
       "      <td>21269.7673979</td>\n",
       "      <td>28</td>\n",
       "      <td>3.536407e+13</td>\n",
       "    </tr>\n",
       "    <tr>\n",
       "      <th>1</th>\n",
       "      <td>2022-12-21</td>\n",
       "      <td>16725.78</td>\n",
       "      <td>16926.05</td>\n",
       "      <td>16896.17</td>\n",
       "      <td>16826.56</td>\n",
       "      <td>16743.62189364</td>\n",
       "      <td>NaN</td>\n",
       "      <td>3.536407e+13</td>\n",
       "    </tr>\n",
       "  </tbody>\n",
       "</table>\n",
       "</div>"
      ],
      "text/plain": [
       "        time       low      high      open     close          volume  \\\n",
       "0 2022-12-22  16560.84  16868.82  16825.18  16815.51   21269.7673979   \n",
       "1 2022-12-21  16725.78  16926.05  16896.17  16826.56  16743.62189364   \n",
       "\n",
       "  greed_and_fear             y  \n",
       "0             28  3.536407e+13  \n",
       "1            NaN  3.536407e+13  "
      ]
     },
     "execution_count": 58,
     "metadata": {},
     "output_type": "execute_result"
    }
   ],
   "source": [
    "# Carica il file JSON in un oggetto python\n",
    "with open('data/difficulty.json', 'r') as file:\n",
    "    data = json.load(file)\n",
    "\n",
    "# Normalizza i dati del file JSON\n",
    "df_difficulty = pd.json_normalize(data, 'difficulty', ['metric1', 'metric2'])\n",
    "\n",
    "# Crea una lista di date partendo dal 23 dicembre 2021 fino al 22 dicembre 2022\n",
    "dates = pd.date_range(start='2021-12-24', end='2022-12-22', freq='D')\n",
    "\n",
    "# Crea una nuova colonna \"date\" nel tuo dataframe e assegna ad ogni riga una data\n",
    "df_difficulty['date'] = dates\n",
    "\n",
    "df_difficulty = df_difficulty.drop(['x', 'metric1', 'metric2'], axis=1)\n",
    "\n",
    "df_difficulty.rename(columns={'date': 'time'}, inplace=True)\n",
    "\n",
    "#trasforma df['time'] in datetime\n",
    "df_difficulty['time'] = pd.to_datetime(df_difficulty['time'])\n",
    "\n",
    "#seleziono solo la data di domani\n",
    "#df_difficulty = df_difficulty.loc['2022-12-21':'2022-12-12']\n",
    "\n",
    "df_difficulty = df_difficulty.iloc[::-1]\n",
    "\n",
    "df_domani = pd.merge(df_domani, df_difficulty, on='time')\n",
    "\n",
    "df_domani.head()"
   ]
  },
  {
   "cell_type": "code",
   "execution_count": 59,
   "metadata": {},
   "outputs": [
    {
     "data": {
      "text/html": [
       "<div>\n",
       "<style scoped>\n",
       "    .dataframe tbody tr th:only-of-type {\n",
       "        vertical-align: middle;\n",
       "    }\n",
       "\n",
       "    .dataframe tbody tr th {\n",
       "        vertical-align: top;\n",
       "    }\n",
       "\n",
       "    .dataframe thead th {\n",
       "        text-align: right;\n",
       "    }\n",
       "</style>\n",
       "<table border=\"1\" class=\"dataframe\">\n",
       "  <thead>\n",
       "    <tr style=\"text-align: right;\">\n",
       "      <th></th>\n",
       "      <th>time</th>\n",
       "      <th>low</th>\n",
       "      <th>high</th>\n",
       "      <th>open</th>\n",
       "      <th>close</th>\n",
       "      <th>volume</th>\n",
       "      <th>greed_and_fear</th>\n",
       "      <th>difficulty</th>\n",
       "    </tr>\n",
       "  </thead>\n",
       "  <tbody>\n",
       "    <tr>\n",
       "      <th>0</th>\n",
       "      <td>2022-12-22</td>\n",
       "      <td>16560.84</td>\n",
       "      <td>16868.82</td>\n",
       "      <td>16825.18</td>\n",
       "      <td>16815.51</td>\n",
       "      <td>21269.7673979</td>\n",
       "      <td>28</td>\n",
       "      <td>3.536407e+13</td>\n",
       "    </tr>\n",
       "    <tr>\n",
       "      <th>1</th>\n",
       "      <td>2022-12-21</td>\n",
       "      <td>16725.78</td>\n",
       "      <td>16926.05</td>\n",
       "      <td>16896.17</td>\n",
       "      <td>16826.56</td>\n",
       "      <td>16743.62189364</td>\n",
       "      <td>NaN</td>\n",
       "      <td>3.536407e+13</td>\n",
       "    </tr>\n",
       "  </tbody>\n",
       "</table>\n",
       "</div>"
      ],
      "text/plain": [
       "        time       low      high      open     close          volume  \\\n",
       "0 2022-12-22  16560.84  16868.82  16825.18  16815.51   21269.7673979   \n",
       "1 2022-12-21  16725.78  16926.05  16896.17  16826.56  16743.62189364   \n",
       "\n",
       "  greed_and_fear    difficulty  \n",
       "0             28  3.536407e+13  \n",
       "1            NaN  3.536407e+13  "
      ]
     },
     "execution_count": 59,
     "metadata": {},
     "output_type": "execute_result"
    }
   ],
   "source": [
    "df_domani.rename(columns={'y': 'difficulty'}, inplace=True)\n",
    "df_domani.head()"
   ]
  },
  {
   "attachments": {},
   "cell_type": "markdown",
   "metadata": {},
   "source": [
    "**scarico sentiment di oggi**"
   ]
  },
  {
   "cell_type": "code",
   "execution_count": 77,
   "metadata": {},
   "outputs": [
    {
     "data": {
      "text/html": [
       "<div>\n",
       "<style scoped>\n",
       "    .dataframe tbody tr th:only-of-type {\n",
       "        vertical-align: middle;\n",
       "    }\n",
       "\n",
       "    .dataframe tbody tr th {\n",
       "        vertical-align: top;\n",
       "    }\n",
       "\n",
       "    .dataframe thead th {\n",
       "        text-align: right;\n",
       "    }\n",
       "</style>\n",
       "<table border=\"1\" class=\"dataframe\">\n",
       "  <thead>\n",
       "    <tr style=\"text-align: right;\">\n",
       "      <th></th>\n",
       "      <th>time</th>\n",
       "      <th>sentiment_medio</th>\n",
       "    </tr>\n",
       "  </thead>\n",
       "  <tbody>\n",
       "    <tr>\n",
       "      <th>0</th>\n",
       "      <td>2022-12-22</td>\n",
       "      <td>0.052413</td>\n",
       "    </tr>\n",
       "  </tbody>\n",
       "</table>\n",
       "</div>"
      ],
      "text/plain": [
       "        time  sentiment_medio\n",
       "0 2022-12-22         0.052413"
      ]
     },
     "execution_count": 77,
     "metadata": {},
     "output_type": "execute_result"
    }
   ],
   "source": [
    "#istanzio l'auth\n",
    "bearer_token = \"AAAAAAAAAAAAAAAAAAAAAPgukgEAAAAADYQXq5tFdfahfgxE%2FSQqxcV4OFU%3DIETAxHE05aQI4saJCxFJMQiaurCSZgYMSHZ9kl7SMVNNxM5V4S\"  # BEARER_TOKEN\n",
    "auth = tweepy.Client(bearer_token)\n",
    "api = tweepy.API(auth)\n",
    "\n",
    "#scarico tweets di oggi\n",
    "\n",
    "# Numero di giorni da scaricare\n",
    "num_days = 1\n",
    "\n",
    "# Numero di tweet da scaricare ogni giorno\n",
    "num_tweets = 500\n",
    "\n",
    "# Inizializza una lista che conterrà i tweet scaricati\n",
    "tweet_list = []\n",
    "\n",
    "# Inizializza la data di inizio del loop\n",
    "start_date = today = datetime.today() - timedelta(days=2)\n",
    "#start_date = datetime.now() - timedelta(days=30)\n",
    "\n",
    "# Crea il loop\n",
    "for i in range(num_days):\n",
    "    # Aggiorna la data di fine\n",
    "    end_date = start_date + timedelta(days=1)\n",
    "\n",
    "    # Formatta le date come stringhe nel formato richiesto dall'API\n",
    "    formatted_start_date = start_date.strftime(\"%Y-%m-%dT%H:%M:%S\")\n",
    "    formatted_end_date = end_date.strftime(\"%Y-%m-%dT%H:%M:%S\")\n",
    "\n",
    "    #hashtag\n",
    "    query= \"bitcoin\"\n",
    "\n",
    "    # Scarica i tweet\n",
    "    response = auth.search_all_tweets(query, max_results=num_tweets, tweet_fields=[\"created_at\", \"lang\"], start_time=start_date, end_time=end_date)\n",
    "    tweets = response.data\n",
    "\n",
    "    # Aggiungi i tweet alla lista\n",
    "    for tweet in tweets:\n",
    "        tweet_list.append([tweet.created_at, tweet.id, tweet.text, tweet.lang])\n",
    "\n",
    "    # Aggiorna la data di inizio\n",
    "    start_date = end_date\n",
    "    time.sleep(5)\n",
    "\n",
    "df_sentiment = pd.DataFrame(data=tweet_list, columns=['created_at', 'tweet_id', 'text', 'language'])  \n",
    "df_sentiment.set_index(\"created_at\", inplace = True)\n",
    "\n",
    "df_sentiment = df_sentiment.iloc[::-1]\n",
    "\n",
    "def preprocess_tweet(tweet):\n",
    "    # Rimuove i caratteri di nuova riga e a capo\n",
    "    tweet = tweet.replace(\"\\n\", \" \").replace(\"\\r\", \" \")\n",
    "    \n",
    "    # Rimuove i link\n",
    "    tweet = re.sub(r\"http\\S+\", \"\", tweet)\n",
    "    \n",
    "    # Rimuove gli hashtag\n",
    "    tweet = re.sub(r\"#\\S+\", \"\", tweet)\n",
    "    \n",
    "    # Rimuove le menzioni\n",
    "    tweet = re.sub(r\"@\\S+\", \"\", tweet)\n",
    "    \n",
    "    # Rimuove i caratteri di punteggiatura\n",
    "    tweet = tweet.translate(str.maketrans(\"\", \"\", string.punctuation))\n",
    "    \n",
    "    # Converti il testo in minuscolo\n",
    "    tweet = tweet.lower()\n",
    "    \n",
    "    return tweet\n",
    "\n",
    "# Crea una copia della colonna 'text' del dataframe\n",
    "df_sentiment['text_clean'] = df_sentiment['text'].copy()\n",
    "\n",
    "# Sostituisci i testi elaborati nella colonna 'text_clean' del dataframe\n",
    "df_sentiment['text_clean'] = df_sentiment['text_clean'].apply(preprocess_tweet)\n",
    "\n",
    "def get_sentiment(tweet_text):\n",
    "    analysis = TextBlob(tweet_text)\n",
    "    return analysis.sentiment.polarity\n",
    "\n",
    "df_sentiment['sentiment'] = df_sentiment['text_clean'].apply(get_sentiment)\n",
    "\n",
    "df_sentiment = df_sentiment.reset_index()\n",
    "df_sentiment['created_at'] = pd.to_datetime(df_sentiment['created_at'])\n",
    "\n",
    "# Crea una nuova colonna 'date' che estrae la data dalla colonna 'created_at'\n",
    "df_sentiment['date'] = df_sentiment['created_at'].dt.date\n",
    "\n",
    "# raggruppa i dati per data utilizzando la colonna 'data' come chiave di raggruppamento\n",
    "grouped_data = df_sentiment.groupby('date')\n",
    "\n",
    "# per ogni gruppo di dati, calcola la mediana del sentiment e aggiungi il valore alla lista medie\n",
    "medie = []\n",
    "for name, group in grouped_data:\n",
    "    medie.append(mean(group['sentiment']))\n",
    "\n",
    "# crea il dizionario con le date come chiavi e i valori medi come valori\n",
    "dati = {key: value for key, value in zip(grouped_data.groups.keys(), medie)}\n",
    "\n",
    "# crea il DataFrame utilizzando il dizionario appena creato\n",
    "df_medie = pd.DataFrame.from_dict(dati, orient='index')\n",
    "\n",
    "# rinomina la colonna del DataFrame con il nome desiderato\n",
    "df_medie.rename(columns={0: 'sentiment_medio'}, inplace=True)\n",
    "\n",
    "df_medie = df_medie.reset_index()\n",
    "\n",
    "df_medie.rename(columns={'index': 'time'}, inplace=True)\n",
    "\n",
    "df_medie = df_medie.iloc[::-1]\n",
    "\n",
    "#trasformo la colonna created_at in datetime\n",
    "df_medie['time'] = pd.to_datetime(df_medie['time'])\n",
    "\n",
    "#df_medie = df_medie.loc['2022-12-21':'2022-12-23']\n",
    "\n",
    "df_medie\n"
   ]
  },
  {
   "cell_type": "code",
   "execution_count": 78,
   "metadata": {},
   "outputs": [],
   "source": [
    "#trasforma df['time'] in datetime\n",
    "df_domani['time'] = pd.to_datetime(df_domani['time'])\n",
    "\n",
    "# Unisci i due dataframe utilizzando la colonna \"time\" come chiave di unione\n",
    "df_domani = pd.merge(df_domani, df_medie, on='time')"
   ]
  },
  {
   "cell_type": "code",
   "execution_count": 79,
   "metadata": {},
   "outputs": [
    {
     "data": {
      "text/html": [
       "<div>\n",
       "<style scoped>\n",
       "    .dataframe tbody tr th:only-of-type {\n",
       "        vertical-align: middle;\n",
       "    }\n",
       "\n",
       "    .dataframe tbody tr th {\n",
       "        vertical-align: top;\n",
       "    }\n",
       "\n",
       "    .dataframe thead th {\n",
       "        text-align: right;\n",
       "    }\n",
       "</style>\n",
       "<table border=\"1\" class=\"dataframe\">\n",
       "  <thead>\n",
       "    <tr style=\"text-align: right;\">\n",
       "      <th></th>\n",
       "      <th>time</th>\n",
       "      <th>low</th>\n",
       "      <th>high</th>\n",
       "      <th>open</th>\n",
       "      <th>close</th>\n",
       "      <th>volume</th>\n",
       "      <th>greed_and_fear</th>\n",
       "      <th>difficulty</th>\n",
       "      <th>sentiment_medio</th>\n",
       "    </tr>\n",
       "  </thead>\n",
       "  <tbody>\n",
       "    <tr>\n",
       "      <th>0</th>\n",
       "      <td>2022-12-22</td>\n",
       "      <td>16560.84</td>\n",
       "      <td>16868.82</td>\n",
       "      <td>16825.18</td>\n",
       "      <td>16815.51</td>\n",
       "      <td>21269.7673979</td>\n",
       "      <td>28</td>\n",
       "      <td>3.536407e+13</td>\n",
       "      <td>0.052413</td>\n",
       "    </tr>\n",
       "  </tbody>\n",
       "</table>\n",
       "</div>"
      ],
      "text/plain": [
       "        time       low      high      open     close         volume  \\\n",
       "0 2022-12-22  16560.84  16868.82  16825.18  16815.51  21269.7673979   \n",
       "\n",
       "  greed_and_fear    difficulty  sentiment_medio  \n",
       "0             28  3.536407e+13         0.052413  "
      ]
     },
     "execution_count": 79,
     "metadata": {},
     "output_type": "execute_result"
    }
   ],
   "source": [
    "df_domani.head()"
   ]
  },
  {
   "attachments": {},
   "cell_type": "markdown",
   "metadata": {},
   "source": [
    "**scarico il google trend di oggi**"
   ]
  },
  {
   "cell_type": "code",
   "execution_count": 86,
   "metadata": {},
   "outputs": [
    {
     "data": {
      "text/html": [
       "<div>\n",
       "<style scoped>\n",
       "    .dataframe tbody tr th:only-of-type {\n",
       "        vertical-align: middle;\n",
       "    }\n",
       "\n",
       "    .dataframe tbody tr th {\n",
       "        vertical-align: top;\n",
       "    }\n",
       "\n",
       "    .dataframe thead th {\n",
       "        text-align: right;\n",
       "    }\n",
       "</style>\n",
       "<table border=\"1\" class=\"dataframe\">\n",
       "  <thead>\n",
       "    <tr style=\"text-align: right;\">\n",
       "      <th></th>\n",
       "      <th>date</th>\n",
       "      <th>bitcoin</th>\n",
       "      <th>isPartial</th>\n",
       "    </tr>\n",
       "  </thead>\n",
       "  <tbody>\n",
       "    <tr>\n",
       "      <th>353</th>\n",
       "      <td>2022-12-14</td>\n",
       "      <td>30</td>\n",
       "      <td>False</td>\n",
       "    </tr>\n",
       "    <tr>\n",
       "      <th>354</th>\n",
       "      <td>2022-12-15</td>\n",
       "      <td>30</td>\n",
       "      <td>False</td>\n",
       "    </tr>\n",
       "    <tr>\n",
       "      <th>355</th>\n",
       "      <td>2022-12-16</td>\n",
       "      <td>30</td>\n",
       "      <td>False</td>\n",
       "    </tr>\n",
       "    <tr>\n",
       "      <th>356</th>\n",
       "      <td>2022-12-17</td>\n",
       "      <td>30</td>\n",
       "      <td>False</td>\n",
       "    </tr>\n",
       "    <tr>\n",
       "      <th>357</th>\n",
       "      <td>2022-12-18</td>\n",
       "      <td>27</td>\n",
       "      <td>True</td>\n",
       "    </tr>\n",
       "  </tbody>\n",
       "</table>\n",
       "</div>"
      ],
      "text/plain": [
       "          date  bitcoin  isPartial\n",
       "353 2022-12-14       30      False\n",
       "354 2022-12-15       30      False\n",
       "355 2022-12-16       30      False\n",
       "356 2022-12-17       30      False\n",
       "357 2022-12-18       27       True"
      ]
     },
     "execution_count": 86,
     "metadata": {},
     "output_type": "execute_result"
    }
   ],
   "source": [
    "pytrends = TrendReq(hl='en-US', tz=360)\n",
    "\n",
    "# build payload\n",
    "\n",
    "kw_list = [\"bitcoin\"] # list of keywords to get data \n",
    "\n",
    "pytrends.build_payload(kw_list, cat=0, timeframe='today 12-m')\n",
    "\n",
    "#1 Interest over Time\n",
    "data = pytrends.interest_over_time()\n",
    "\n",
    "#riempio le date vuote con l'ultimo dato registrato\n",
    "df_google = data.resample('D').ffill()\n",
    "\n",
    "df_google = df_google.reset_index()\n",
    "\n",
    "df_google.tail()"
   ]
  },
  {
   "attachments": {},
   "cell_type": "markdown",
   "metadata": {},
   "source": [
    "**Prevedo il prezzo di chiusura di oggi**"
   ]
  },
  {
   "cell_type": "code",
   "execution_count": 90,
   "metadata": {},
   "outputs": [
    {
     "name": "stdout",
     "output_type": "stream",
     "text": [
      "16635.147100000006\n"
     ]
    }
   ],
   "source": [
    "domani = pd.DataFrame([[df_domani['low'][0], df_domani['high'][0], df_domani['open'][0], df_domani['volume'][0], df_domani['greed_and_fear'][0], df['google_trend'][0], df_domani['sentiment_medio'][0], df_domani['difficulty'][0]]], columns=['low', 'high', 'open', 'volume', 'greed_and_fear', 'google_trend', 'sentiment_medio', 'difficulty'])\n",
    "previsione = model.predict(domani)[0]\n",
    "print(previsione)"
   ]
  }
 ],
 "metadata": {
  "kernelspec": {
   "display_name": "base",
   "language": "python",
   "name": "python3"
  },
  "language_info": {
   "codemirror_mode": {
    "name": "ipython",
    "version": 3
   },
   "file_extension": ".py",
   "mimetype": "text/x-python",
   "name": "python",
   "nbconvert_exporter": "python",
   "pygments_lexer": "ipython3",
   "version": "3.8.8 (default, Apr 13 2021, 12:59:45) \n[Clang 10.0.0 ]"
  },
  "orig_nbformat": 4,
  "vscode": {
   "interpreter": {
    "hash": "40d3a090f54c6569ab1632332b64b2c03c39dcf918b08424e98f38b5ae0af88f"
   }
  }
 },
 "nbformat": 4,
 "nbformat_minor": 2
}
