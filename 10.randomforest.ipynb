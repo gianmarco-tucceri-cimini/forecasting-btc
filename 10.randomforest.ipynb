{
 "cells": [
  {
   "cell_type": "code",
   "execution_count": 9,
   "metadata": {},
   "outputs": [],
   "source": [
    "import pandas as pd\n",
    "import numpy as np\n",
    "\n",
    "from sklearn.ensemble import RandomForestRegressor\n",
    "from sklearn.model_selection import train_test_split\n",
    "\n",
    "import tweepy\n",
    "\n",
    "import coinbasepro as cbp\n",
    "\n",
    "import requests\n",
    "import datetime\n",
    "from datetime import datetime, timezone, date, timedelta\n",
    "import time\n",
    "\n",
    "from textblob import TextBlob\n",
    "import re\n",
    "import string\n",
    "\n",
    "from sklearn.preprocessing import MinMaxScaler\n",
    "\n",
    "from numpy import mean\n",
    "from numpy import median\n",
    "\n",
    "import csv\n",
    "\n",
    "import json\n",
    "\n",
    "from pytrends.request import TrendReq\n",
    "\n",
    "client = cbp.PublicClient()\n"
   ]
  },
  {
   "cell_type": "code",
   "execution_count": 2,
   "metadata": {},
   "outputs": [],
   "source": [
    "df = pd.read_csv('data/bitcoin.csv')"
   ]
  },
  {
   "cell_type": "code",
   "execution_count": 3,
   "metadata": {},
   "outputs": [
    {
     "data": {
      "text/html": [
       "<div>\n",
       "<style scoped>\n",
       "    .dataframe tbody tr th:only-of-type {\n",
       "        vertical-align: middle;\n",
       "    }\n",
       "\n",
       "    .dataframe tbody tr th {\n",
       "        vertical-align: top;\n",
       "    }\n",
       "\n",
       "    .dataframe thead th {\n",
       "        text-align: right;\n",
       "    }\n",
       "</style>\n",
       "<table border=\"1\" class=\"dataframe\">\n",
       "  <thead>\n",
       "    <tr style=\"text-align: right;\">\n",
       "      <th></th>\n",
       "      <th>time</th>\n",
       "      <th>low</th>\n",
       "      <th>high</th>\n",
       "      <th>open</th>\n",
       "      <th>close</th>\n",
       "      <th>volume</th>\n",
       "      <th>greed_and_fear</th>\n",
       "      <th>google_trend</th>\n",
       "      <th>difficulty</th>\n",
       "      <th>sentiment_medio</th>\n",
       "    </tr>\n",
       "  </thead>\n",
       "  <tbody>\n",
       "    <tr>\n",
       "      <th>0</th>\n",
       "      <td>2022-12-20</td>\n",
       "      <td>16398.22</td>\n",
       "      <td>17060.86</td>\n",
       "      <td>16439.98</td>\n",
       "      <td>16897.65</td>\n",
       "      <td>34330.282352</td>\n",
       "      <td>29.0</td>\n",
       "      <td>23.0</td>\n",
       "      <td>3.536407e+13</td>\n",
       "      <td>0.084011</td>\n",
       "    </tr>\n",
       "    <tr>\n",
       "      <th>1</th>\n",
       "      <td>2022-12-19</td>\n",
       "      <td>16273.40</td>\n",
       "      <td>16822.84</td>\n",
       "      <td>16742.33</td>\n",
       "      <td>16439.74</td>\n",
       "      <td>26856.085987</td>\n",
       "      <td>29.0</td>\n",
       "      <td>22.0</td>\n",
       "      <td>3.536407e+13</td>\n",
       "      <td>0.068184</td>\n",
       "    </tr>\n",
       "    <tr>\n",
       "      <th>2</th>\n",
       "      <td>2022-12-18</td>\n",
       "      <td>16663.76</td>\n",
       "      <td>16875.00</td>\n",
       "      <td>16782.23</td>\n",
       "      <td>16741.16</td>\n",
       "      <td>11073.438862</td>\n",
       "      <td>26.0</td>\n",
       "      <td>19.0</td>\n",
       "      <td>3.536407e+13</td>\n",
       "      <td>0.101187</td>\n",
       "    </tr>\n",
       "    <tr>\n",
       "      <th>3</th>\n",
       "      <td>2022-12-17</td>\n",
       "      <td>16585.64</td>\n",
       "      <td>16799.99</td>\n",
       "      <td>16634.29</td>\n",
       "      <td>16782.25</td>\n",
       "      <td>18446.683602</td>\n",
       "      <td>28.0</td>\n",
       "      <td>21.0</td>\n",
       "      <td>3.460660e+13</td>\n",
       "      <td>0.053202</td>\n",
       "    </tr>\n",
       "    <tr>\n",
       "      <th>4</th>\n",
       "      <td>2022-12-16</td>\n",
       "      <td>16529.53</td>\n",
       "      <td>17525.00</td>\n",
       "      <td>17359.10</td>\n",
       "      <td>16632.64</td>\n",
       "      <td>47159.863007</td>\n",
       "      <td>29.0</td>\n",
       "      <td>27.0</td>\n",
       "      <td>3.424433e+13</td>\n",
       "      <td>0.072307</td>\n",
       "    </tr>\n",
       "  </tbody>\n",
       "</table>\n",
       "</div>"
      ],
      "text/plain": [
       "         time       low      high      open     close        volume  \\\n",
       "0  2022-12-20  16398.22  17060.86  16439.98  16897.65  34330.282352   \n",
       "1  2022-12-19  16273.40  16822.84  16742.33  16439.74  26856.085987   \n",
       "2  2022-12-18  16663.76  16875.00  16782.23  16741.16  11073.438862   \n",
       "3  2022-12-17  16585.64  16799.99  16634.29  16782.25  18446.683602   \n",
       "4  2022-12-16  16529.53  17525.00  17359.10  16632.64  47159.863007   \n",
       "\n",
       "   greed_and_fear  google_trend    difficulty  sentiment_medio  \n",
       "0            29.0          23.0  3.536407e+13         0.084011  \n",
       "1            29.0          22.0  3.536407e+13         0.068184  \n",
       "2            26.0          19.0  3.536407e+13         0.101187  \n",
       "3            28.0          21.0  3.460660e+13         0.053202  \n",
       "4            29.0          27.0  3.424433e+13         0.072307  "
      ]
     },
     "execution_count": 3,
     "metadata": {},
     "output_type": "execute_result"
    }
   ],
   "source": [
    "df.head()"
   ]
  },
  {
   "cell_type": "code",
   "execution_count": 4,
   "metadata": {},
   "outputs": [],
   "source": [
    "X = df[['low', 'high', 'open', 'volume', 'greed_and_fear', 'google_trend', 'sentiment_medio', 'difficulty']]"
   ]
  },
  {
   "cell_type": "code",
   "execution_count": 5,
   "metadata": {},
   "outputs": [],
   "source": [
    "y = df['close']\n"
   ]
  },
  {
   "cell_type": "code",
   "execution_count": 10,
   "metadata": {},
   "outputs": [],
   "source": [
    "X_train, X_test, y_train, y_test = train_test_split(X, y, test_size=0.2)\n",
    "\n",
    "# Standardizza le features con MinMaxScaler\n",
    "scaler = MinMaxScaler()\n",
    "X_train = scaler.fit_transform(X_train)\n",
    "X_test = scaler.transform(X_test)"
   ]
  },
  {
   "cell_type": "code",
   "execution_count": 11,
   "metadata": {},
   "outputs": [],
   "source": [
    "model = RandomForestRegressor()"
   ]
  },
  {
   "cell_type": "code",
   "execution_count": 12,
   "metadata": {},
   "outputs": [
    {
     "data": {
      "text/html": [
       "<style>#sk-container-id-1 {color: black;background-color: white;}#sk-container-id-1 pre{padding: 0;}#sk-container-id-1 div.sk-toggleable {background-color: white;}#sk-container-id-1 label.sk-toggleable__label {cursor: pointer;display: block;width: 100%;margin-bottom: 0;padding: 0.3em;box-sizing: border-box;text-align: center;}#sk-container-id-1 label.sk-toggleable__label-arrow:before {content: \"▸\";float: left;margin-right: 0.25em;color: #696969;}#sk-container-id-1 label.sk-toggleable__label-arrow:hover:before {color: black;}#sk-container-id-1 div.sk-estimator:hover label.sk-toggleable__label-arrow:before {color: black;}#sk-container-id-1 div.sk-toggleable__content {max-height: 0;max-width: 0;overflow: hidden;text-align: left;background-color: #f0f8ff;}#sk-container-id-1 div.sk-toggleable__content pre {margin: 0.2em;color: black;border-radius: 0.25em;background-color: #f0f8ff;}#sk-container-id-1 input.sk-toggleable__control:checked~div.sk-toggleable__content {max-height: 200px;max-width: 100%;overflow: auto;}#sk-container-id-1 input.sk-toggleable__control:checked~label.sk-toggleable__label-arrow:before {content: \"▾\";}#sk-container-id-1 div.sk-estimator input.sk-toggleable__control:checked~label.sk-toggleable__label {background-color: #d4ebff;}#sk-container-id-1 div.sk-label input.sk-toggleable__control:checked~label.sk-toggleable__label {background-color: #d4ebff;}#sk-container-id-1 input.sk-hidden--visually {border: 0;clip: rect(1px 1px 1px 1px);clip: rect(1px, 1px, 1px, 1px);height: 1px;margin: -1px;overflow: hidden;padding: 0;position: absolute;width: 1px;}#sk-container-id-1 div.sk-estimator {font-family: monospace;background-color: #f0f8ff;border: 1px dotted black;border-radius: 0.25em;box-sizing: border-box;margin-bottom: 0.5em;}#sk-container-id-1 div.sk-estimator:hover {background-color: #d4ebff;}#sk-container-id-1 div.sk-parallel-item::after {content: \"\";width: 100%;border-bottom: 1px solid gray;flex-grow: 1;}#sk-container-id-1 div.sk-label:hover label.sk-toggleable__label {background-color: #d4ebff;}#sk-container-id-1 div.sk-serial::before {content: \"\";position: absolute;border-left: 1px solid gray;box-sizing: border-box;top: 0;bottom: 0;left: 50%;z-index: 0;}#sk-container-id-1 div.sk-serial {display: flex;flex-direction: column;align-items: center;background-color: white;padding-right: 0.2em;padding-left: 0.2em;position: relative;}#sk-container-id-1 div.sk-item {position: relative;z-index: 1;}#sk-container-id-1 div.sk-parallel {display: flex;align-items: stretch;justify-content: center;background-color: white;position: relative;}#sk-container-id-1 div.sk-item::before, #sk-container-id-1 div.sk-parallel-item::before {content: \"\";position: absolute;border-left: 1px solid gray;box-sizing: border-box;top: 0;bottom: 0;left: 50%;z-index: -1;}#sk-container-id-1 div.sk-parallel-item {display: flex;flex-direction: column;z-index: 1;position: relative;background-color: white;}#sk-container-id-1 div.sk-parallel-item:first-child::after {align-self: flex-end;width: 50%;}#sk-container-id-1 div.sk-parallel-item:last-child::after {align-self: flex-start;width: 50%;}#sk-container-id-1 div.sk-parallel-item:only-child::after {width: 0;}#sk-container-id-1 div.sk-dashed-wrapped {border: 1px dashed gray;margin: 0 0.4em 0.5em 0.4em;box-sizing: border-box;padding-bottom: 0.4em;background-color: white;}#sk-container-id-1 div.sk-label label {font-family: monospace;font-weight: bold;display: inline-block;line-height: 1.2em;}#sk-container-id-1 div.sk-label-container {text-align: center;}#sk-container-id-1 div.sk-container {/* jupyter's `normalize.less` sets `[hidden] { display: none; }` but bootstrap.min.css set `[hidden] { display: none !important; }` so we also need the `!important` here to be able to override the default hidden behavior on the sphinx rendered scikit-learn.org. See: https://github.com/scikit-learn/scikit-learn/issues/21755 */display: inline-block !important;position: relative;}#sk-container-id-1 div.sk-text-repr-fallback {display: none;}</style><div id=\"sk-container-id-1\" class=\"sk-top-container\"><div class=\"sk-text-repr-fallback\"><pre>RandomForestRegressor()</pre><b>In a Jupyter environment, please rerun this cell to show the HTML representation or trust the notebook. <br />On GitHub, the HTML representation is unable to render, please try loading this page with nbviewer.org.</b></div><div class=\"sk-container\" hidden><div class=\"sk-item\"><div class=\"sk-estimator sk-toggleable\"><input class=\"sk-toggleable__control sk-hidden--visually\" id=\"sk-estimator-id-1\" type=\"checkbox\" checked><label for=\"sk-estimator-id-1\" class=\"sk-toggleable__label sk-toggleable__label-arrow\">RandomForestRegressor</label><div class=\"sk-toggleable__content\"><pre>RandomForestRegressor()</pre></div></div></div></div></div>"
      ],
      "text/plain": [
       "RandomForestRegressor()"
      ]
     },
     "execution_count": 12,
     "metadata": {},
     "output_type": "execute_result"
    }
   ],
   "source": [
    "model.fit(X_train, y_train)"
   ]
  },
  {
   "cell_type": "code",
   "execution_count": 13,
   "metadata": {},
   "outputs": [
    {
     "data": {
      "text/plain": [
       "0.9964046018218919"
      ]
     },
     "execution_count": 13,
     "metadata": {},
     "output_type": "execute_result"
    }
   ],
   "source": [
    "model.score(X_test, y_test)"
   ]
  },
  {
   "cell_type": "code",
   "execution_count": 14,
   "metadata": {},
   "outputs": [
    {
     "name": "stderr",
     "output_type": "stream",
     "text": [
      "/Users/gianmarcotucceri/miniconda/envs/mlp/lib/python3.8/site-packages/sklearn/base.py:443: UserWarning: X has feature names, but RandomForestRegressor was fitted without feature names\n",
      "  warnings.warn(\n"
     ]
    }
   ],
   "source": [
    "domani = pd.DataFrame([[df['low'][10], df['high'][10], df['open'][10], df['volume'][10], df['greed_and_fear'][10], df['google_trend'][10], df['sentiment_medio'][10], df['difficulty'][10]]], columns=['low', 'high', 'open', 'volume', 'greed_and_fear', 'google_trend', 'sentiment_medio', 'difficulty'])\n",
    "previsione = model.predict(domani)[0]"
   ]
  },
  {
   "cell_type": "code",
   "execution_count": 15,
   "metadata": {},
   "outputs": [
    {
     "name": "stdout",
     "output_type": "stream",
     "text": [
      "49599.887899999965\n"
     ]
    }
   ],
   "source": [
    "print(previsione)"
   ]
  },
  {
   "attachments": {},
   "cell_type": "markdown",
   "metadata": {},
   "source": [
    "**Scarico prezzi bitcoin di oggi**"
   ]
  },
  {
   "cell_type": "code",
   "execution_count": 35,
   "metadata": {},
   "outputs": [],
   "source": [
    "# Scarica i prezzi di bitcoin per l'ultimo anno\n",
    "candles = client.get_product_historic_rates(product_id=\"BTC-USD\", start=\"2022-12-24T00:00:00\", stop=\"2022-12-25T00:00:00\", granularity=86400)"
   ]
  },
  {
   "cell_type": "code",
   "execution_count": 36,
   "metadata": {},
   "outputs": [
    {
     "name": "stdout",
     "output_type": "stream",
     "text": [
      "(1, 6)\n"
     ]
    },
    {
     "data": {
      "text/html": [
       "<div>\n",
       "<style scoped>\n",
       "    .dataframe tbody tr th:only-of-type {\n",
       "        vertical-align: middle;\n",
       "    }\n",
       "\n",
       "    .dataframe tbody tr th {\n",
       "        vertical-align: top;\n",
       "    }\n",
       "\n",
       "    .dataframe thead th {\n",
       "        text-align: right;\n",
       "    }\n",
       "</style>\n",
       "<table border=\"1\" class=\"dataframe\">\n",
       "  <thead>\n",
       "    <tr style=\"text-align: right;\">\n",
       "      <th></th>\n",
       "      <th>time</th>\n",
       "      <th>low</th>\n",
       "      <th>high</th>\n",
       "      <th>open</th>\n",
       "      <th>close</th>\n",
       "      <th>volume</th>\n",
       "    </tr>\n",
       "  </thead>\n",
       "  <tbody>\n",
       "    <tr>\n",
       "      <th>0</th>\n",
       "      <td>2022-12-24</td>\n",
       "      <td>16775.88</td>\n",
       "      <td>16856.09</td>\n",
       "      <td>16777.88</td>\n",
       "      <td>16816.31</td>\n",
       "      <td>6491.11435344</td>\n",
       "    </tr>\n",
       "  </tbody>\n",
       "</table>\n",
       "</div>"
      ],
      "text/plain": [
       "        time       low      high      open     close         volume\n",
       "0 2022-12-24  16775.88  16856.09  16777.88  16816.31  6491.11435344"
      ]
     },
     "execution_count": 36,
     "metadata": {},
     "output_type": "execute_result"
    }
   ],
   "source": [
    "df_domani = pd.DataFrame(candles)\n",
    "print(df_domani.shape)\n",
    "df_domani.head()"
   ]
  },
  {
   "attachments": {},
   "cell_type": "markdown",
   "metadata": {},
   "source": [
    "**Scarico greed_and_fear di oggi**"
   ]
  },
  {
   "cell_type": "code",
   "execution_count": 37,
   "metadata": {},
   "outputs": [
    {
     "data": {
      "text/html": [
       "<div>\n",
       "<style scoped>\n",
       "    .dataframe tbody tr th:only-of-type {\n",
       "        vertical-align: middle;\n",
       "    }\n",
       "\n",
       "    .dataframe tbody tr th {\n",
       "        vertical-align: top;\n",
       "    }\n",
       "\n",
       "    .dataframe thead th {\n",
       "        text-align: right;\n",
       "    }\n",
       "</style>\n",
       "<table border=\"1\" class=\"dataframe\">\n",
       "  <thead>\n",
       "    <tr style=\"text-align: right;\">\n",
       "      <th></th>\n",
       "      <th>time</th>\n",
       "      <th>low</th>\n",
       "      <th>high</th>\n",
       "      <th>open</th>\n",
       "      <th>close</th>\n",
       "      <th>volume</th>\n",
       "      <th>greed_and_fear</th>\n",
       "    </tr>\n",
       "  </thead>\n",
       "  <tbody>\n",
       "    <tr>\n",
       "      <th>0</th>\n",
       "      <td>2022-12-24</td>\n",
       "      <td>16775.88</td>\n",
       "      <td>16856.09</td>\n",
       "      <td>16777.88</td>\n",
       "      <td>16816.31</td>\n",
       "      <td>6491.11435344</td>\n",
       "      <td>29</td>\n",
       "    </tr>\n",
       "  </tbody>\n",
       "</table>\n",
       "</div>"
      ],
      "text/plain": [
       "        time       low      high      open     close         volume  \\\n",
       "0 2022-12-24  16775.88  16856.09  16777.88  16816.31  6491.11435344   \n",
       "\n",
       "  greed_and_fear  \n",
       "0             29  "
      ]
     },
     "execution_count": 37,
     "metadata": {},
     "output_type": "execute_result"
    }
   ],
   "source": [
    "# Inizializza la lista data_list\n",
    "data_list = []\n",
    "\n",
    "# Effettua 31 chiamate all'API di Alternative.me\n",
    "for i in range(2):\n",
    "  # Prepara la richiesta HTTP\n",
    "  url = \"https://api.alternative.me/fng/?limit=204&timestamp=\" + str(i)\n",
    "  headers = {'Content-Type': 'application/json'}\n",
    "\n",
    "  # Effettua la richiesta HTTP\n",
    "  response = requests.get(url, headers=headers)\n",
    "\n",
    "  # Carica i dati in formato JSON\n",
    "  data = response.json()\n",
    "\n",
    "  # Estrai il valore \"value\" e il timestamp\n",
    "  value = data[\"data\"][i][\"value\"]\n",
    "  timestamp = data[\"data\"][i][\"timestamp\"]\n",
    "\n",
    "  # Aggiungi i valori \"value\" e \"timestamp\" nella lista data_list\n",
    "  data_list.append((value, timestamp))\n",
    "\n",
    "  # Per ogni tupla nella lista data_list\n",
    "for value, timestamp in data_list:\n",
    "  # Converti il timestamp in una data\n",
    "  date = datetime.fromtimestamp(int(timestamp)).strftime('%Y-%m-%d')\n",
    "  #date = pd.to_datetime(date)\n",
    "  # Seleziona la riga del dataframe corrispondente alla data\n",
    "  df_domani.loc[df_domani['time'] == date, 'greed_and_fear'] = value\n",
    "\n",
    "# Stampa il dataframe aggiornato\n",
    "df_domani.head(20)"
   ]
  },
  {
   "attachments": {},
   "cell_type": "markdown",
   "metadata": {},
   "source": [
    "**Scarico difficulty di oggi**"
   ]
  },
  {
   "cell_type": "code",
   "execution_count": 38,
   "metadata": {},
   "outputs": [
    {
     "data": {
      "text/html": [
       "<div>\n",
       "<style scoped>\n",
       "    .dataframe tbody tr th:only-of-type {\n",
       "        vertical-align: middle;\n",
       "    }\n",
       "\n",
       "    .dataframe tbody tr th {\n",
       "        vertical-align: top;\n",
       "    }\n",
       "\n",
       "    .dataframe thead th {\n",
       "        text-align: right;\n",
       "    }\n",
       "</style>\n",
       "<table border=\"1\" class=\"dataframe\">\n",
       "  <thead>\n",
       "    <tr style=\"text-align: right;\">\n",
       "      <th></th>\n",
       "      <th>time</th>\n",
       "      <th>low</th>\n",
       "      <th>high</th>\n",
       "      <th>open</th>\n",
       "      <th>close</th>\n",
       "      <th>volume</th>\n",
       "      <th>greed_and_fear</th>\n",
       "      <th>y</th>\n",
       "    </tr>\n",
       "  </thead>\n",
       "  <tbody>\n",
       "    <tr>\n",
       "      <th>0</th>\n",
       "      <td>2022-12-24</td>\n",
       "      <td>16775.88</td>\n",
       "      <td>16856.09</td>\n",
       "      <td>16777.88</td>\n",
       "      <td>16816.31</td>\n",
       "      <td>6491.11435344</td>\n",
       "      <td>29</td>\n",
       "      <td>3.536407e+13</td>\n",
       "    </tr>\n",
       "  </tbody>\n",
       "</table>\n",
       "</div>"
      ],
      "text/plain": [
       "        time       low      high      open     close         volume  \\\n",
       "0 2022-12-24  16775.88  16856.09  16777.88  16816.31  6491.11435344   \n",
       "\n",
       "  greed_and_fear             y  \n",
       "0             29  3.536407e+13  "
      ]
     },
     "execution_count": 38,
     "metadata": {},
     "output_type": "execute_result"
    }
   ],
   "source": [
    "# Carica il file JSON in un oggetto python\n",
    "with open('data/difficulty.json', 'r') as file:\n",
    "    data = json.load(file)\n",
    "\n",
    "# Normalizza i dati del file JSON\n",
    "df_difficulty = pd.json_normalize(data, 'difficulty', ['metric1', 'metric2'])\n",
    "\n",
    "# Crea una lista di date partendo dal 23 dicembre 2021 fino al 22 dicembre 2022\n",
    "dates = pd.date_range(start='2021-12-26', end='2022-12-24', freq='D')\n",
    "\n",
    "# Crea una nuova colonna \"date\" nel tuo dataframe e assegna ad ogni riga una data\n",
    "df_difficulty['date'] = dates\n",
    "\n",
    "df_difficulty = df_difficulty.drop(['x', 'metric1', 'metric2'], axis=1)\n",
    "\n",
    "df_difficulty.rename(columns={'date': 'time'}, inplace=True)\n",
    "\n",
    "#trasforma df['time'] in datetime\n",
    "df_difficulty['time'] = pd.to_datetime(df_difficulty['time'])\n",
    "\n",
    "#seleziono solo la data di domani\n",
    "#df_difficulty = df_difficulty.loc['2022-12-21':'2022-12-12']\n",
    "\n",
    "df_difficulty = df_difficulty.iloc[::-1]\n",
    "\n",
    "df_domani = pd.merge(df_domani, df_difficulty, on='time')\n",
    "\n",
    "df_domani.head()"
   ]
  },
  {
   "cell_type": "code",
   "execution_count": 39,
   "metadata": {},
   "outputs": [
    {
     "data": {
      "text/html": [
       "<div>\n",
       "<style scoped>\n",
       "    .dataframe tbody tr th:only-of-type {\n",
       "        vertical-align: middle;\n",
       "    }\n",
       "\n",
       "    .dataframe tbody tr th {\n",
       "        vertical-align: top;\n",
       "    }\n",
       "\n",
       "    .dataframe thead th {\n",
       "        text-align: right;\n",
       "    }\n",
       "</style>\n",
       "<table border=\"1\" class=\"dataframe\">\n",
       "  <thead>\n",
       "    <tr style=\"text-align: right;\">\n",
       "      <th></th>\n",
       "      <th>time</th>\n",
       "      <th>low</th>\n",
       "      <th>high</th>\n",
       "      <th>open</th>\n",
       "      <th>close</th>\n",
       "      <th>volume</th>\n",
       "      <th>greed_and_fear</th>\n",
       "      <th>difficulty</th>\n",
       "    </tr>\n",
       "  </thead>\n",
       "  <tbody>\n",
       "    <tr>\n",
       "      <th>0</th>\n",
       "      <td>2022-12-24</td>\n",
       "      <td>16775.88</td>\n",
       "      <td>16856.09</td>\n",
       "      <td>16777.88</td>\n",
       "      <td>16816.31</td>\n",
       "      <td>6491.11435344</td>\n",
       "      <td>29</td>\n",
       "      <td>3.536407e+13</td>\n",
       "    </tr>\n",
       "  </tbody>\n",
       "</table>\n",
       "</div>"
      ],
      "text/plain": [
       "        time       low      high      open     close         volume  \\\n",
       "0 2022-12-24  16775.88  16856.09  16777.88  16816.31  6491.11435344   \n",
       "\n",
       "  greed_and_fear    difficulty  \n",
       "0             29  3.536407e+13  "
      ]
     },
     "execution_count": 39,
     "metadata": {},
     "output_type": "execute_result"
    }
   ],
   "source": [
    "df_domani.rename(columns={'y': 'difficulty'}, inplace=True)\n",
    "df_domani.head()"
   ]
  },
  {
   "attachments": {},
   "cell_type": "markdown",
   "metadata": {},
   "source": [
    "**scarico sentiment di oggi**"
   ]
  },
  {
   "cell_type": "code",
   "execution_count": 31,
   "metadata": {},
   "outputs": [
    {
     "data": {
      "text/html": [
       "<div>\n",
       "<style scoped>\n",
       "    .dataframe tbody tr th:only-of-type {\n",
       "        vertical-align: middle;\n",
       "    }\n",
       "\n",
       "    .dataframe tbody tr th {\n",
       "        vertical-align: top;\n",
       "    }\n",
       "\n",
       "    .dataframe thead th {\n",
       "        text-align: right;\n",
       "    }\n",
       "</style>\n",
       "<table border=\"1\" class=\"dataframe\">\n",
       "  <thead>\n",
       "    <tr style=\"text-align: right;\">\n",
       "      <th></th>\n",
       "      <th>time</th>\n",
       "      <th>sentiment_medio</th>\n",
       "    </tr>\n",
       "  </thead>\n",
       "  <tbody>\n",
       "    <tr>\n",
       "      <th>0</th>\n",
       "      <td>2022-12-23</td>\n",
       "      <td>0.039068</td>\n",
       "    </tr>\n",
       "  </tbody>\n",
       "</table>\n",
       "</div>"
      ],
      "text/plain": [
       "        time  sentiment_medio\n",
       "0 2022-12-23         0.039068"
      ]
     },
     "execution_count": 31,
     "metadata": {},
     "output_type": "execute_result"
    }
   ],
   "source": [
    "#istanzio l'auth\n",
    "bearer_token = \"AAAAAAAAAAAAAAAAAAAAAPgukgEAAAAADYQXq5tFdfahfgxE%2FSQqxcV4OFU%3DIETAxHE05aQI4saJCxFJMQiaurCSZgYMSHZ9kl7SMVNNxM5V4S\"  # BEARER_TOKEN\n",
    "auth = tweepy.Client(bearer_token)\n",
    "api = tweepy.API(auth)\n",
    "\n",
    "#scarico tweets di oggi\n",
    "\n",
    "# Numero di giorni da scaricare\n",
    "num_days = 1\n",
    "\n",
    "# Numero di tweet da scaricare ogni giorno\n",
    "num_tweets = 500\n",
    "\n",
    "# Inizializza una lista che conterrà i tweet scaricati\n",
    "tweet_list = []\n",
    "\n",
    "# Inizializza la data di inizio del loop\n",
    "start_date = today = datetime.today() - timedelta(days=2)\n",
    "#start_date = datetime.now() - timedelta(days=30)\n",
    "\n",
    "# Crea il loop\n",
    "for i in range(num_days):\n",
    "    # Aggiorna la data di fine\n",
    "    end_date = start_date + timedelta(days=1)\n",
    "\n",
    "    # Formatta le date come stringhe nel formato richiesto dall'API\n",
    "    formatted_start_date = start_date.strftime(\"%Y-%m-%dT%H:%M:%S\")\n",
    "    formatted_end_date = end_date.strftime(\"%Y-%m-%dT%H:%M:%S\")\n",
    "\n",
    "    #hashtag\n",
    "    query= \"bitcoin\"\n",
    "\n",
    "    # Scarica i tweet\n",
    "    response = auth.search_all_tweets(query, max_results=num_tweets, tweet_fields=[\"created_at\", \"lang\"], start_time=start_date, end_time=end_date)\n",
    "    tweets = response.data\n",
    "\n",
    "    # Aggiungi i tweet alla lista\n",
    "    for tweet in tweets:\n",
    "        tweet_list.append([tweet.created_at, tweet.id, tweet.text, tweet.lang])\n",
    "\n",
    "    # Aggiorna la data di inizio\n",
    "    start_date = end_date\n",
    "    time.sleep(5)\n",
    "\n",
    "df_sentiment = pd.DataFrame(data=tweet_list, columns=['created_at', 'tweet_id', 'text', 'language'])  \n",
    "df_sentiment.set_index(\"created_at\", inplace = True)\n",
    "\n",
    "df_sentiment = df_sentiment.iloc[::-1]\n",
    "\n",
    "def preprocess_tweet(tweet):\n",
    "    # Rimuove i caratteri di nuova riga e a capo\n",
    "    tweet = tweet.replace(\"\\n\", \" \").replace(\"\\r\", \" \")\n",
    "    \n",
    "    # Rimuove i link\n",
    "    tweet = re.sub(r\"http\\S+\", \"\", tweet)\n",
    "    \n",
    "    # Rimuove gli hashtag\n",
    "    tweet = re.sub(r\"#\\S+\", \"\", tweet)\n",
    "    \n",
    "    # Rimuove le menzioni\n",
    "    tweet = re.sub(r\"@\\S+\", \"\", tweet)\n",
    "    \n",
    "    # Rimuove i caratteri di punteggiatura\n",
    "    tweet = tweet.translate(str.maketrans(\"\", \"\", string.punctuation))\n",
    "    \n",
    "    # Converti il testo in minuscolo\n",
    "    tweet = tweet.lower()\n",
    "    \n",
    "    return tweet\n",
    "\n",
    "# Crea una copia della colonna 'text' del dataframe\n",
    "df_sentiment['text_clean'] = df_sentiment['text'].copy()\n",
    "\n",
    "# Sostituisci i testi elaborati nella colonna 'text_clean' del dataframe\n",
    "df_sentiment['text_clean'] = df_sentiment['text_clean'].apply(preprocess_tweet)\n",
    "\n",
    "def get_sentiment(tweet_text):\n",
    "    analysis = TextBlob(tweet_text)\n",
    "    return analysis.sentiment.polarity\n",
    "\n",
    "df_sentiment['sentiment'] = df_sentiment['text_clean'].apply(get_sentiment)\n",
    "\n",
    "df_sentiment = df_sentiment.reset_index()\n",
    "df_sentiment['created_at'] = pd.to_datetime(df_sentiment['created_at'])\n",
    "\n",
    "# Crea una nuova colonna 'date' che estrae la data dalla colonna 'created_at'\n",
    "df_sentiment['date'] = df_sentiment['created_at'].dt.date\n",
    "\n",
    "# raggruppa i dati per data utilizzando la colonna 'data' come chiave di raggruppamento\n",
    "grouped_data = df_sentiment.groupby('date')\n",
    "\n",
    "# per ogni gruppo di dati, calcola la mediana del sentiment e aggiungi il valore alla lista medie\n",
    "medie = []\n",
    "for name, group in grouped_data:\n",
    "    medie.append(mean(group['sentiment']))\n",
    "\n",
    "# crea il dizionario con le date come chiavi e i valori medi come valori\n",
    "dati = {key: value for key, value in zip(grouped_data.groups.keys(), medie)}\n",
    "\n",
    "# crea il DataFrame utilizzando il dizionario appena creato\n",
    "df_medie = pd.DataFrame.from_dict(dati, orient='index')\n",
    "\n",
    "# rinomina la colonna del DataFrame con il nome desiderato\n",
    "df_medie.rename(columns={0: 'sentiment_medio'}, inplace=True)\n",
    "\n",
    "df_medie = df_medie.reset_index()\n",
    "\n",
    "df_medie.rename(columns={'index': 'time'}, inplace=True)\n",
    "\n",
    "df_medie = df_medie.iloc[::-1]\n",
    "\n",
    "#trasformo la colonna created_at in datetime\n",
    "df_medie['time'] = pd.to_datetime(df_medie['time'])\n",
    "\n",
    "#df_medie = df_medie.loc['2022-12-21':'2022-12-23']\n",
    "\n",
    "df_medie\n"
   ]
  },
  {
   "cell_type": "code",
   "execution_count": 32,
   "metadata": {},
   "outputs": [
    {
     "name": "stderr",
     "output_type": "stream",
     "text": [
      "<ipython-input-32-dfeaf15d575a>:1: SettingWithCopyWarning: \n",
      "A value is trying to be set on a copy of a slice from a DataFrame\n",
      "\n",
      "See the caveats in the documentation: https://pandas.pydata.org/pandas-docs/stable/user_guide/indexing.html#returning-a-view-versus-a-copy\n",
      "  df_medie['time'][0] = df_medie['time'][0] + timedelta(days=1)\n"
     ]
    },
    {
     "data": {
      "text/html": [
       "<div>\n",
       "<style scoped>\n",
       "    .dataframe tbody tr th:only-of-type {\n",
       "        vertical-align: middle;\n",
       "    }\n",
       "\n",
       "    .dataframe tbody tr th {\n",
       "        vertical-align: top;\n",
       "    }\n",
       "\n",
       "    .dataframe thead th {\n",
       "        text-align: right;\n",
       "    }\n",
       "</style>\n",
       "<table border=\"1\" class=\"dataframe\">\n",
       "  <thead>\n",
       "    <tr style=\"text-align: right;\">\n",
       "      <th></th>\n",
       "      <th>time</th>\n",
       "      <th>sentiment_medio</th>\n",
       "    </tr>\n",
       "  </thead>\n",
       "  <tbody>\n",
       "    <tr>\n",
       "      <th>0</th>\n",
       "      <td>2022-12-24</td>\n",
       "      <td>0.039068</td>\n",
       "    </tr>\n",
       "  </tbody>\n",
       "</table>\n",
       "</div>"
      ],
      "text/plain": [
       "        time  sentiment_medio\n",
       "0 2022-12-24         0.039068"
      ]
     },
     "execution_count": 32,
     "metadata": {},
     "output_type": "execute_result"
    }
   ],
   "source": [
    "df_medie['time'][0] = df_medie['time'][0] + timedelta(days=1)\n",
    "df_medie.head()"
   ]
  },
  {
   "cell_type": "code",
   "execution_count": 40,
   "metadata": {},
   "outputs": [],
   "source": [
    "#trasforma df['time'] in datetime\n",
    "df_domani['time'] = pd.to_datetime(df_domani['time'])\n",
    "\n",
    "# Unisci i due dataframe utilizzando la colonna \"time\" come chiave di unione\n",
    "df_domani = pd.merge(df_domani, df_medie, on='time')"
   ]
  },
  {
   "cell_type": "code",
   "execution_count": 41,
   "metadata": {},
   "outputs": [
    {
     "data": {
      "text/html": [
       "<div>\n",
       "<style scoped>\n",
       "    .dataframe tbody tr th:only-of-type {\n",
       "        vertical-align: middle;\n",
       "    }\n",
       "\n",
       "    .dataframe tbody tr th {\n",
       "        vertical-align: top;\n",
       "    }\n",
       "\n",
       "    .dataframe thead th {\n",
       "        text-align: right;\n",
       "    }\n",
       "</style>\n",
       "<table border=\"1\" class=\"dataframe\">\n",
       "  <thead>\n",
       "    <tr style=\"text-align: right;\">\n",
       "      <th></th>\n",
       "      <th>time</th>\n",
       "      <th>low</th>\n",
       "      <th>high</th>\n",
       "      <th>open</th>\n",
       "      <th>close</th>\n",
       "      <th>volume</th>\n",
       "      <th>greed_and_fear</th>\n",
       "      <th>difficulty</th>\n",
       "      <th>sentiment_medio</th>\n",
       "    </tr>\n",
       "  </thead>\n",
       "  <tbody>\n",
       "    <tr>\n",
       "      <th>0</th>\n",
       "      <td>2022-12-24</td>\n",
       "      <td>16775.88</td>\n",
       "      <td>16856.09</td>\n",
       "      <td>16777.88</td>\n",
       "      <td>16816.31</td>\n",
       "      <td>6491.11435344</td>\n",
       "      <td>29</td>\n",
       "      <td>3.536407e+13</td>\n",
       "      <td>0.039068</td>\n",
       "    </tr>\n",
       "  </tbody>\n",
       "</table>\n",
       "</div>"
      ],
      "text/plain": [
       "        time       low      high      open     close         volume  \\\n",
       "0 2022-12-24  16775.88  16856.09  16777.88  16816.31  6491.11435344   \n",
       "\n",
       "  greed_and_fear    difficulty  sentiment_medio  \n",
       "0             29  3.536407e+13         0.039068  "
      ]
     },
     "execution_count": 41,
     "metadata": {},
     "output_type": "execute_result"
    }
   ],
   "source": [
    "df_domani.head()"
   ]
  },
  {
   "attachments": {},
   "cell_type": "markdown",
   "metadata": {},
   "source": [
    "**scarico il google trend di oggi**"
   ]
  },
  {
   "cell_type": "code",
   "execution_count": 42,
   "metadata": {},
   "outputs": [],
   "source": [
    "pytrends = TrendReq(hl='en-US', tz=360)\n",
    "\n",
    "# build payload\n",
    "\n",
    "kw_list = [\"bitcoin\"] # list of keywords to get data \n",
    "\n",
    "pytrends.build_payload(kw_list, cat=0, timeframe='now 7-d')\n",
    "\n",
    "#1 Interest over Time\n",
    "data = pytrends.interest_over_time()\n",
    "\n",
    "#riempio le date vuote con l'ultimo dato registrato\n",
    "df_google = data.resample('D').ffill()\n",
    "\n",
    "df_google = df_google.reset_index()\n",
    "\n",
    "#df_google = df_google[6:7]\n",
    "\n",
    "df_google.rename(columns={'date': 'time'}, inplace=True)\n",
    "\n",
    "df_google.tail()\n",
    "\n",
    "df_domani = pd.merge(df_domani, df_google, on='time')"
   ]
  },
  {
   "cell_type": "code",
   "execution_count": 49,
   "metadata": {},
   "outputs": [
    {
     "data": {
      "text/html": [
       "<div>\n",
       "<style scoped>\n",
       "    .dataframe tbody tr th:only-of-type {\n",
       "        vertical-align: middle;\n",
       "    }\n",
       "\n",
       "    .dataframe tbody tr th {\n",
       "        vertical-align: top;\n",
       "    }\n",
       "\n",
       "    .dataframe thead th {\n",
       "        text-align: right;\n",
       "    }\n",
       "</style>\n",
       "<table border=\"1\" class=\"dataframe\">\n",
       "  <thead>\n",
       "    <tr style=\"text-align: right;\">\n",
       "      <th></th>\n",
       "      <th>low</th>\n",
       "      <th>high</th>\n",
       "      <th>open</th>\n",
       "      <th>close</th>\n",
       "      <th>volume</th>\n",
       "      <th>greed_and_fear</th>\n",
       "      <th>difficulty</th>\n",
       "      <th>sentiment_medio</th>\n",
       "      <th>google_trend</th>\n",
       "    </tr>\n",
       "    <tr>\n",
       "      <th>time</th>\n",
       "      <th></th>\n",
       "      <th></th>\n",
       "      <th></th>\n",
       "      <th></th>\n",
       "      <th></th>\n",
       "      <th></th>\n",
       "      <th></th>\n",
       "      <th></th>\n",
       "      <th></th>\n",
       "    </tr>\n",
       "  </thead>\n",
       "  <tbody>\n",
       "    <tr>\n",
       "      <th>2022-12-24</th>\n",
       "      <td>16775.88</td>\n",
       "      <td>16856.09</td>\n",
       "      <td>16777.88</td>\n",
       "      <td>16816.31</td>\n",
       "      <td>6491.11435344</td>\n",
       "      <td>29</td>\n",
       "      <td>3.536407e+13</td>\n",
       "      <td>0.039068</td>\n",
       "      <td>73.0</td>\n",
       "    </tr>\n",
       "  </tbody>\n",
       "</table>\n",
       "</div>"
      ],
      "text/plain": [
       "                 low      high      open     close         volume  \\\n",
       "time                                                                \n",
       "2022-12-24  16775.88  16856.09  16777.88  16816.31  6491.11435344   \n",
       "\n",
       "           greed_and_fear    difficulty  sentiment_medio  google_trend  \n",
       "time                                                                    \n",
       "2022-12-24             29  3.536407e+13         0.039068          73.0  "
      ]
     },
     "execution_count": 49,
     "metadata": {},
     "output_type": "execute_result"
    }
   ],
   "source": [
    "df_domani.head()"
   ]
  },
  {
   "cell_type": "code",
   "execution_count": 44,
   "metadata": {},
   "outputs": [],
   "source": [
    "df_domani = df_domani.drop(columns=['isPartial'])"
   ]
  },
  {
   "cell_type": "code",
   "execution_count": 45,
   "metadata": {},
   "outputs": [
    {
     "data": {
      "text/html": [
       "<div>\n",
       "<style scoped>\n",
       "    .dataframe tbody tr th:only-of-type {\n",
       "        vertical-align: middle;\n",
       "    }\n",
       "\n",
       "    .dataframe tbody tr th {\n",
       "        vertical-align: top;\n",
       "    }\n",
       "\n",
       "    .dataframe thead th {\n",
       "        text-align: right;\n",
       "    }\n",
       "</style>\n",
       "<table border=\"1\" class=\"dataframe\">\n",
       "  <thead>\n",
       "    <tr style=\"text-align: right;\">\n",
       "      <th></th>\n",
       "      <th>time</th>\n",
       "      <th>low</th>\n",
       "      <th>high</th>\n",
       "      <th>open</th>\n",
       "      <th>close</th>\n",
       "      <th>volume</th>\n",
       "      <th>greed_and_fear</th>\n",
       "      <th>difficulty</th>\n",
       "      <th>sentiment_medio</th>\n",
       "      <th>google_trend</th>\n",
       "    </tr>\n",
       "  </thead>\n",
       "  <tbody>\n",
       "    <tr>\n",
       "      <th>0</th>\n",
       "      <td>2022-12-24</td>\n",
       "      <td>16775.88</td>\n",
       "      <td>16856.09</td>\n",
       "      <td>16777.88</td>\n",
       "      <td>16816.31</td>\n",
       "      <td>6491.11435344</td>\n",
       "      <td>29</td>\n",
       "      <td>3.536407e+13</td>\n",
       "      <td>0.039068</td>\n",
       "      <td>73.0</td>\n",
       "    </tr>\n",
       "  </tbody>\n",
       "</table>\n",
       "</div>"
      ],
      "text/plain": [
       "        time       low      high      open     close         volume  \\\n",
       "0 2022-12-24  16775.88  16856.09  16777.88  16816.31  6491.11435344   \n",
       "\n",
       "  greed_and_fear    difficulty  sentiment_medio  google_trend  \n",
       "0             29  3.536407e+13         0.039068          73.0  "
      ]
     },
     "execution_count": 45,
     "metadata": {},
     "output_type": "execute_result"
    }
   ],
   "source": [
    "df_domani.rename(columns={'bitcoin': 'google_trend'}, inplace=True)\n",
    "df_domani.head()"
   ]
  },
  {
   "cell_type": "code",
   "execution_count": 50,
   "metadata": {},
   "outputs": [
    {
     "data": {
      "text/html": [
       "<div>\n",
       "<style scoped>\n",
       "    .dataframe tbody tr th:only-of-type {\n",
       "        vertical-align: middle;\n",
       "    }\n",
       "\n",
       "    .dataframe tbody tr th {\n",
       "        vertical-align: top;\n",
       "    }\n",
       "\n",
       "    .dataframe thead th {\n",
       "        text-align: right;\n",
       "    }\n",
       "</style>\n",
       "<table border=\"1\" class=\"dataframe\">\n",
       "  <thead>\n",
       "    <tr style=\"text-align: right;\">\n",
       "      <th></th>\n",
       "      <th>low</th>\n",
       "      <th>high</th>\n",
       "      <th>open</th>\n",
       "      <th>close</th>\n",
       "      <th>volume</th>\n",
       "      <th>greed_and_fear</th>\n",
       "      <th>difficulty</th>\n",
       "      <th>sentiment_medio</th>\n",
       "      <th>google_trend</th>\n",
       "    </tr>\n",
       "    <tr>\n",
       "      <th>time</th>\n",
       "      <th></th>\n",
       "      <th></th>\n",
       "      <th></th>\n",
       "      <th></th>\n",
       "      <th></th>\n",
       "      <th></th>\n",
       "      <th></th>\n",
       "      <th></th>\n",
       "      <th></th>\n",
       "    </tr>\n",
       "  </thead>\n",
       "  <tbody>\n",
       "    <tr>\n",
       "      <th>2022-12-24</th>\n",
       "      <td>16775.88</td>\n",
       "      <td>16856.09</td>\n",
       "      <td>16777.88</td>\n",
       "      <td>16816.31</td>\n",
       "      <td>6491.11435344</td>\n",
       "      <td>29</td>\n",
       "      <td>3.536407e+13</td>\n",
       "      <td>0.039068</td>\n",
       "      <td>73.0</td>\n",
       "    </tr>\n",
       "  </tbody>\n",
       "</table>\n",
       "</div>"
      ],
      "text/plain": [
       "                 low      high      open     close         volume  \\\n",
       "time                                                                \n",
       "2022-12-24  16775.88  16856.09  16777.88  16816.31  6491.11435344   \n",
       "\n",
       "           greed_and_fear    difficulty  sentiment_medio  google_trend  \n",
       "time                                                                    \n",
       "2022-12-24             29  3.536407e+13         0.039068          73.0  "
      ]
     },
     "execution_count": 50,
     "metadata": {},
     "output_type": "execute_result"
    }
   ],
   "source": [
    "df_domani.head()"
   ]
  },
  {
   "cell_type": "code",
   "execution_count": 51,
   "metadata": {},
   "outputs": [],
   "source": [
    "X = df_domani.drop(columns=['close']) # tutte le colonne tranne 'close' sono gli input\n",
    "y = df_domani['close']"
   ]
  },
  {
   "cell_type": "code",
   "execution_count": 52,
   "metadata": {},
   "outputs": [],
   "source": [
    "scaler = MinMaxScaler()\n",
    "X_domani = scaler.fit_transform(X)"
   ]
  },
  {
   "attachments": {},
   "cell_type": "markdown",
   "metadata": {},
   "source": [
    "**Prevedo il prezzo di chiusura di oggi**"
   ]
  },
  {
   "cell_type": "code",
   "execution_count": 60,
   "metadata": {},
   "outputs": [
    {
     "name": "stdout",
     "output_type": "stream",
     "text": [
      "il prezzo di bitcoin il 24 dicembre 2022 alle 11.59 sarà: 16031.11509999998 USD\n"
     ]
    }
   ],
   "source": [
    "previsione = model.predict(X_domani)[0]\n",
    "print('il prezzo di bitcoin il 24 dicembre 2022 alle 11.59 sarà:', previsione, 'USD')"
   ]
  }
 ],
 "metadata": {
  "kernelspec": {
   "display_name": "mlp",
   "language": "python",
   "name": "python3"
  },
  "language_info": {
   "codemirror_mode": {
    "name": "ipython",
    "version": 3
   },
   "file_extension": ".py",
   "mimetype": "text/x-python",
   "name": "python",
   "nbconvert_exporter": "python",
   "pygments_lexer": "ipython3",
   "version": "3.8.15 | packaged by conda-forge | (default, Nov 22 2022, 08:52:09) \n[Clang 14.0.6 ]"
  },
  "orig_nbformat": 4,
  "vscode": {
   "interpreter": {
    "hash": "95fe2f621b02c291269f6f1de04399c71d5624912c164c733c30837729478179"
   }
  }
 },
 "nbformat": 4,
 "nbformat_minor": 2
}
