{
 "cells": [
  {
   "cell_type": "code",
   "execution_count": null,
   "metadata": {},
   "outputs": [],
   "source": [
    "import pandas as pd\n",
    "import json\n",
    "\n",
    "import matplotlib.pyplot as plt\n",
    "import seaborn as sns"
   ]
  },
  {
   "cell_type": "code",
   "execution_count": 29,
   "metadata": {},
   "outputs": [],
   "source": [
    "# Carica il file JSON in un oggetto python\n",
    "with open('data/difficulty.json', 'r') as file:\n",
    "    data = json.load(file)\n",
    "\n",
    "# Normalizza i dati del file JSON\n",
    "df = pd.json_normalize(data, 'difficulty', ['metric1', 'metric2'])\n",
    "\n"
   ]
  },
  {
   "cell_type": "code",
   "execution_count": 30,
   "metadata": {},
   "outputs": [],
   "source": [
    "# Crea una lista di date partendo dal 23 dicembre 2021 fino al 22 dicembre 2022\n",
    "dates = pd.date_range(start='2021-12-23', end='2022-12-21', freq='D')\n",
    "\n",
    "# Crea una nuova colonna \"date\" nel tuo dataframe e assegna ad ogni riga una data\n",
    "df['date'] = dates"
   ]
  },
  {
   "cell_type": "code",
   "execution_count": 31,
   "metadata": {},
   "outputs": [
    {
     "data": {
      "text/plain": [
       "(364, 5)"
      ]
     },
     "execution_count": 31,
     "metadata": {},
     "output_type": "execute_result"
    }
   ],
   "source": [
    "df.shape"
   ]
  },
  {
   "cell_type": "code",
   "execution_count": 35,
   "metadata": {},
   "outputs": [
    {
     "data": {
      "text/html": [
       "<div>\n",
       "<style scoped>\n",
       "    .dataframe tbody tr th:only-of-type {\n",
       "        vertical-align: middle;\n",
       "    }\n",
       "\n",
       "    .dataframe tbody tr th {\n",
       "        vertical-align: top;\n",
       "    }\n",
       "\n",
       "    .dataframe thead th {\n",
       "        text-align: right;\n",
       "    }\n",
       "</style>\n",
       "<table border=\"1\" class=\"dataframe\">\n",
       "  <thead>\n",
       "    <tr style=\"text-align: right;\">\n",
       "      <th></th>\n",
       "      <th>y</th>\n",
       "      <th>date</th>\n",
       "    </tr>\n",
       "  </thead>\n",
       "  <tbody>\n",
       "    <tr>\n",
       "      <th>359</th>\n",
       "      <td>3.424433e+13</td>\n",
       "      <td>2022-12-17</td>\n",
       "    </tr>\n",
       "    <tr>\n",
       "      <th>360</th>\n",
       "      <td>3.424433e+13</td>\n",
       "      <td>2022-12-18</td>\n",
       "    </tr>\n",
       "    <tr>\n",
       "      <th>361</th>\n",
       "      <td>3.460660e+13</td>\n",
       "      <td>2022-12-19</td>\n",
       "    </tr>\n",
       "    <tr>\n",
       "      <th>362</th>\n",
       "      <td>3.536407e+13</td>\n",
       "      <td>2022-12-20</td>\n",
       "    </tr>\n",
       "    <tr>\n",
       "      <th>363</th>\n",
       "      <td>3.536407e+13</td>\n",
       "      <td>2022-12-21</td>\n",
       "    </tr>\n",
       "  </tbody>\n",
       "</table>\n",
       "</div>"
      ],
      "text/plain": [
       "                y       date\n",
       "359  3.424433e+13 2022-12-17\n",
       "360  3.424433e+13 2022-12-18\n",
       "361  3.460660e+13 2022-12-19\n",
       "362  3.536407e+13 2022-12-20\n",
       "363  3.536407e+13 2022-12-21"
      ]
     },
     "execution_count": 35,
     "metadata": {},
     "output_type": "execute_result"
    }
   ],
   "source": [
    "# Converte la colonna \"date\" in una colonna di stringhe nel formato yyyy-mm-dd\n",
    "#df['date'] = df['date'].dt.strftime('%Y-%m-%d')\n",
    "\n",
    "df = df.drop(['x', 'metric1', 'metric2'], axis=1)\n",
    "df.tail()"
   ]
  },
  {
   "cell_type": "code",
   "execution_count": 36,
   "metadata": {},
   "outputs": [
    {
     "data": {
      "text/html": [
       "<div>\n",
       "<style scoped>\n",
       "    .dataframe tbody tr th:only-of-type {\n",
       "        vertical-align: middle;\n",
       "    }\n",
       "\n",
       "    .dataframe tbody tr th {\n",
       "        vertical-align: top;\n",
       "    }\n",
       "\n",
       "    .dataframe thead th {\n",
       "        text-align: right;\n",
       "    }\n",
       "</style>\n",
       "<table border=\"1\" class=\"dataframe\">\n",
       "  <thead>\n",
       "    <tr style=\"text-align: right;\">\n",
       "      <th></th>\n",
       "      <th>y</th>\n",
       "      <th>time</th>\n",
       "    </tr>\n",
       "  </thead>\n",
       "  <tbody>\n",
       "    <tr>\n",
       "      <th>0</th>\n",
       "      <td>2.419529e+13</td>\n",
       "      <td>2021-12-23</td>\n",
       "    </tr>\n",
       "    <tr>\n",
       "      <th>1</th>\n",
       "      <td>2.419529e+13</td>\n",
       "      <td>2021-12-24</td>\n",
       "    </tr>\n",
       "    <tr>\n",
       "      <th>2</th>\n",
       "      <td>2.424246e+13</td>\n",
       "      <td>2021-12-25</td>\n",
       "    </tr>\n",
       "    <tr>\n",
       "      <th>3</th>\n",
       "      <td>2.427233e+13</td>\n",
       "      <td>2021-12-26</td>\n",
       "    </tr>\n",
       "    <tr>\n",
       "      <th>4</th>\n",
       "      <td>2.427233e+13</td>\n",
       "      <td>2021-12-27</td>\n",
       "    </tr>\n",
       "  </tbody>\n",
       "</table>\n",
       "</div>"
      ],
      "text/plain": [
       "              y       time\n",
       "0  2.419529e+13 2021-12-23\n",
       "1  2.419529e+13 2021-12-24\n",
       "2  2.424246e+13 2021-12-25\n",
       "3  2.427233e+13 2021-12-26\n",
       "4  2.427233e+13 2021-12-27"
      ]
     },
     "execution_count": 36,
     "metadata": {},
     "output_type": "execute_result"
    }
   ],
   "source": [
    "df.rename(columns={'date': 'time'}, inplace=True)\n",
    "df.head()"
   ]
  },
  {
   "cell_type": "code",
   "execution_count": 37,
   "metadata": {},
   "outputs": [],
   "source": [
    "#trasforma df['time'] in datetime\n",
    "df['time'] = pd.to_datetime(df['time'])"
   ]
  },
  {
   "cell_type": "code",
   "execution_count": 38,
   "metadata": {},
   "outputs": [
    {
     "data": {
      "text/html": [
       "<div>\n",
       "<style scoped>\n",
       "    .dataframe tbody tr th:only-of-type {\n",
       "        vertical-align: middle;\n",
       "    }\n",
       "\n",
       "    .dataframe tbody tr th {\n",
       "        vertical-align: top;\n",
       "    }\n",
       "\n",
       "    .dataframe thead th {\n",
       "        text-align: right;\n",
       "    }\n",
       "</style>\n",
       "<table border=\"1\" class=\"dataframe\">\n",
       "  <thead>\n",
       "    <tr style=\"text-align: right;\">\n",
       "      <th></th>\n",
       "      <th>y</th>\n",
       "    </tr>\n",
       "    <tr>\n",
       "      <th>time</th>\n",
       "      <th></th>\n",
       "    </tr>\n",
       "  </thead>\n",
       "  <tbody>\n",
       "    <tr>\n",
       "      <th>2021-12-23</th>\n",
       "      <td>2.419529e+13</td>\n",
       "    </tr>\n",
       "    <tr>\n",
       "      <th>2021-12-24</th>\n",
       "      <td>2.419529e+13</td>\n",
       "    </tr>\n",
       "    <tr>\n",
       "      <th>2021-12-25</th>\n",
       "      <td>2.424246e+13</td>\n",
       "    </tr>\n",
       "    <tr>\n",
       "      <th>2021-12-26</th>\n",
       "      <td>2.427233e+13</td>\n",
       "    </tr>\n",
       "    <tr>\n",
       "      <th>2021-12-27</th>\n",
       "      <td>2.427233e+13</td>\n",
       "    </tr>\n",
       "  </tbody>\n",
       "</table>\n",
       "</div>"
      ],
      "text/plain": [
       "                       y\n",
       "time                    \n",
       "2021-12-23  2.419529e+13\n",
       "2021-12-24  2.419529e+13\n",
       "2021-12-25  2.424246e+13\n",
       "2021-12-26  2.427233e+13\n",
       "2021-12-27  2.427233e+13"
      ]
     },
     "execution_count": 38,
     "metadata": {},
     "output_type": "execute_result"
    }
   ],
   "source": [
    "df = df.set_index('time')\n",
    "df.head()"
   ]
  },
  {
   "cell_type": "code",
   "execution_count": 39,
   "metadata": {},
   "outputs": [],
   "source": [
    "df = df.loc['2022-06-11':'2022-12-11']"
   ]
  },
  {
   "cell_type": "code",
   "execution_count": 40,
   "metadata": {},
   "outputs": [
    {
     "data": {
      "text/plain": [
       "(184, 1)"
      ]
     },
     "execution_count": 40,
     "metadata": {},
     "output_type": "execute_result"
    }
   ],
   "source": [
    "df.shape"
   ]
  },
  {
   "cell_type": "code",
   "execution_count": 41,
   "metadata": {},
   "outputs": [
    {
     "data": {
      "text/html": [
       "<div>\n",
       "<style scoped>\n",
       "    .dataframe tbody tr th:only-of-type {\n",
       "        vertical-align: middle;\n",
       "    }\n",
       "\n",
       "    .dataframe tbody tr th {\n",
       "        vertical-align: top;\n",
       "    }\n",
       "\n",
       "    .dataframe thead th {\n",
       "        text-align: right;\n",
       "    }\n",
       "</style>\n",
       "<table border=\"1\" class=\"dataframe\">\n",
       "  <thead>\n",
       "    <tr style=\"text-align: right;\">\n",
       "      <th></th>\n",
       "      <th>time</th>\n",
       "      <th>y</th>\n",
       "    </tr>\n",
       "  </thead>\n",
       "  <tbody>\n",
       "    <tr>\n",
       "      <th>0</th>\n",
       "      <td>2022-06-11</td>\n",
       "      <td>3.028329e+13</td>\n",
       "    </tr>\n",
       "    <tr>\n",
       "      <th>1</th>\n",
       "      <td>2022-06-12</td>\n",
       "      <td>3.028329e+13</td>\n",
       "    </tr>\n",
       "    <tr>\n",
       "      <th>2</th>\n",
       "      <td>2022-06-13</td>\n",
       "      <td>3.028329e+13</td>\n",
       "    </tr>\n",
       "    <tr>\n",
       "      <th>3</th>\n",
       "      <td>2022-06-14</td>\n",
       "      <td>3.028329e+13</td>\n",
       "    </tr>\n",
       "    <tr>\n",
       "      <th>4</th>\n",
       "      <td>2022-06-15</td>\n",
       "      <td>3.028329e+13</td>\n",
       "    </tr>\n",
       "  </tbody>\n",
       "</table>\n",
       "</div>"
      ],
      "text/plain": [
       "        time             y\n",
       "0 2022-06-11  3.028329e+13\n",
       "1 2022-06-12  3.028329e+13\n",
       "2 2022-06-13  3.028329e+13\n",
       "3 2022-06-14  3.028329e+13\n",
       "4 2022-06-15  3.028329e+13"
      ]
     },
     "execution_count": 41,
     "metadata": {},
     "output_type": "execute_result"
    }
   ],
   "source": [
    "#imposto time come indice\n",
    "\n",
    "df = df.reset_index()\n",
    "df.head()"
   ]
  },
  {
   "cell_type": "code",
   "execution_count": 42,
   "metadata": {},
   "outputs": [
    {
     "name": "stdout",
     "output_type": "stream",
     "text": [
      "(194, 9)\n"
     ]
    },
    {
     "data": {
      "text/html": [
       "<div>\n",
       "<style scoped>\n",
       "    .dataframe tbody tr th:only-of-type {\n",
       "        vertical-align: middle;\n",
       "    }\n",
       "\n",
       "    .dataframe tbody tr th {\n",
       "        vertical-align: top;\n",
       "    }\n",
       "\n",
       "    .dataframe thead th {\n",
       "        text-align: right;\n",
       "    }\n",
       "</style>\n",
       "<table border=\"1\" class=\"dataframe\">\n",
       "  <thead>\n",
       "    <tr style=\"text-align: right;\">\n",
       "      <th></th>\n",
       "      <th>time</th>\n",
       "      <th>low</th>\n",
       "      <th>high</th>\n",
       "      <th>open</th>\n",
       "      <th>close</th>\n",
       "      <th>volume</th>\n",
       "      <th>greed_and_fear</th>\n",
       "      <th>google_trend</th>\n",
       "      <th>sentiment_medio</th>\n",
       "    </tr>\n",
       "  </thead>\n",
       "  <tbody>\n",
       "    <tr>\n",
       "      <th>0</th>\n",
       "      <td>2022-12-11</td>\n",
       "      <td>17073.19</td>\n",
       "      <td>17271.92</td>\n",
       "      <td>17128.10</td>\n",
       "      <td>17085.21</td>\n",
       "      <td>9948.852670</td>\n",
       "      <td>26</td>\n",
       "      <td>30</td>\n",
       "      <td>0.057855</td>\n",
       "    </tr>\n",
       "    <tr>\n",
       "      <th>1</th>\n",
       "      <td>2022-12-10</td>\n",
       "      <td>17093.42</td>\n",
       "      <td>17227.64</td>\n",
       "      <td>17130.49</td>\n",
       "      <td>17128.10</td>\n",
       "      <td>7860.586876</td>\n",
       "      <td>27</td>\n",
       "      <td>28</td>\n",
       "      <td>0.023664</td>\n",
       "    </tr>\n",
       "    <tr>\n",
       "      <th>2</th>\n",
       "      <td>2022-12-09</td>\n",
       "      <td>17060.69</td>\n",
       "      <td>17352.62</td>\n",
       "      <td>17226.03</td>\n",
       "      <td>17130.59</td>\n",
       "      <td>20976.636999</td>\n",
       "      <td>26</td>\n",
       "      <td>28</td>\n",
       "      <td>0.079547</td>\n",
       "    </tr>\n",
       "    <tr>\n",
       "      <th>3</th>\n",
       "      <td>2022-12-08</td>\n",
       "      <td>16738.00</td>\n",
       "      <td>17300.59</td>\n",
       "      <td>16839.76</td>\n",
       "      <td>17226.01</td>\n",
       "      <td>23533.234537</td>\n",
       "      <td>25</td>\n",
       "      <td>28</td>\n",
       "      <td>0.098894</td>\n",
       "    </tr>\n",
       "    <tr>\n",
       "      <th>4</th>\n",
       "      <td>2022-12-07</td>\n",
       "      <td>16679.52</td>\n",
       "      <td>17140.22</td>\n",
       "      <td>17089.18</td>\n",
       "      <td>16840.00</td>\n",
       "      <td>22635.468488</td>\n",
       "      <td>29</td>\n",
       "      <td>28</td>\n",
       "      <td>0.098525</td>\n",
       "    </tr>\n",
       "  </tbody>\n",
       "</table>\n",
       "</div>"
      ],
      "text/plain": [
       "         time       low      high      open     close        volume  \\\n",
       "0  2022-12-11  17073.19  17271.92  17128.10  17085.21   9948.852670   \n",
       "1  2022-12-10  17093.42  17227.64  17130.49  17128.10   7860.586876   \n",
       "2  2022-12-09  17060.69  17352.62  17226.03  17130.59  20976.636999   \n",
       "3  2022-12-08  16738.00  17300.59  16839.76  17226.01  23533.234537   \n",
       "4  2022-12-07  16679.52  17140.22  17089.18  16840.00  22635.468488   \n",
       "\n",
       "   greed_and_fear  google_trend  sentiment_medio  \n",
       "0              26            30         0.057855  \n",
       "1              27            28         0.023664  \n",
       "2              26            28         0.079547  \n",
       "3              25            28         0.098894  \n",
       "4              29            28         0.098525  "
      ]
     },
     "execution_count": 42,
     "metadata": {},
     "output_type": "execute_result"
    }
   ],
   "source": [
    "df2 = pd.read_csv('data/bitcoin.csv')\n",
    "print(df2.shape)\n",
    "df2.head()"
   ]
  },
  {
   "cell_type": "code",
   "execution_count": 43,
   "metadata": {},
   "outputs": [],
   "source": [
    "#trasforma df['time'] in datetime\n",
    "df2['time'] = pd.to_datetime(df2['time'])"
   ]
  },
  {
   "cell_type": "code",
   "execution_count": 44,
   "metadata": {},
   "outputs": [
    {
     "data": {
      "text/plain": [
       "(184, 2)"
      ]
     },
     "execution_count": 44,
     "metadata": {},
     "output_type": "execute_result"
    }
   ],
   "source": [
    "df.shape"
   ]
  },
  {
   "cell_type": "code",
   "execution_count": 45,
   "metadata": {},
   "outputs": [],
   "source": [
    "df_merged = pd.merge(df2, df, on='time')"
   ]
  },
  {
   "cell_type": "code",
   "execution_count": 46,
   "metadata": {},
   "outputs": [
    {
     "data": {
      "text/html": [
       "<div>\n",
       "<style scoped>\n",
       "    .dataframe tbody tr th:only-of-type {\n",
       "        vertical-align: middle;\n",
       "    }\n",
       "\n",
       "    .dataframe tbody tr th {\n",
       "        vertical-align: top;\n",
       "    }\n",
       "\n",
       "    .dataframe thead th {\n",
       "        text-align: right;\n",
       "    }\n",
       "</style>\n",
       "<table border=\"1\" class=\"dataframe\">\n",
       "  <thead>\n",
       "    <tr style=\"text-align: right;\">\n",
       "      <th></th>\n",
       "      <th>low</th>\n",
       "      <th>high</th>\n",
       "      <th>open</th>\n",
       "      <th>close</th>\n",
       "      <th>volume</th>\n",
       "      <th>greed_and_fear</th>\n",
       "      <th>google_trend</th>\n",
       "      <th>sentiment_medio</th>\n",
       "      <th>y</th>\n",
       "    </tr>\n",
       "    <tr>\n",
       "      <th>time</th>\n",
       "      <th></th>\n",
       "      <th></th>\n",
       "      <th></th>\n",
       "      <th></th>\n",
       "      <th></th>\n",
       "      <th></th>\n",
       "      <th></th>\n",
       "      <th></th>\n",
       "      <th></th>\n",
       "    </tr>\n",
       "  </thead>\n",
       "  <tbody>\n",
       "    <tr>\n",
       "      <th>2022-12-11</th>\n",
       "      <td>17073.19</td>\n",
       "      <td>17271.92</td>\n",
       "      <td>17128.10</td>\n",
       "      <td>17085.21</td>\n",
       "      <td>9948.852670</td>\n",
       "      <td>26</td>\n",
       "      <td>30</td>\n",
       "      <td>0.057855</td>\n",
       "      <td>3.424433e+13</td>\n",
       "    </tr>\n",
       "    <tr>\n",
       "      <th>2022-12-10</th>\n",
       "      <td>17093.42</td>\n",
       "      <td>17227.64</td>\n",
       "      <td>17130.49</td>\n",
       "      <td>17128.10</td>\n",
       "      <td>7860.586876</td>\n",
       "      <td>27</td>\n",
       "      <td>28</td>\n",
       "      <td>0.023664</td>\n",
       "      <td>3.424433e+13</td>\n",
       "    </tr>\n",
       "    <tr>\n",
       "      <th>2022-12-09</th>\n",
       "      <td>17060.69</td>\n",
       "      <td>17352.62</td>\n",
       "      <td>17226.03</td>\n",
       "      <td>17130.59</td>\n",
       "      <td>20976.636999</td>\n",
       "      <td>26</td>\n",
       "      <td>28</td>\n",
       "      <td>0.079547</td>\n",
       "      <td>3.424433e+13</td>\n",
       "    </tr>\n",
       "    <tr>\n",
       "      <th>2022-12-08</th>\n",
       "      <td>16738.00</td>\n",
       "      <td>17300.59</td>\n",
       "      <td>16839.76</td>\n",
       "      <td>17226.01</td>\n",
       "      <td>23533.234537</td>\n",
       "      <td>25</td>\n",
       "      <td>28</td>\n",
       "      <td>0.098894</td>\n",
       "      <td>3.424433e+13</td>\n",
       "    </tr>\n",
       "    <tr>\n",
       "      <th>2022-12-07</th>\n",
       "      <td>16679.52</td>\n",
       "      <td>17140.22</td>\n",
       "      <td>17089.18</td>\n",
       "      <td>16840.00</td>\n",
       "      <td>22635.468488</td>\n",
       "      <td>29</td>\n",
       "      <td>28</td>\n",
       "      <td>0.098525</td>\n",
       "      <td>3.424433e+13</td>\n",
       "    </tr>\n",
       "  </tbody>\n",
       "</table>\n",
       "</div>"
      ],
      "text/plain": [
       "                 low      high      open     close        volume  \\\n",
       "time                                                               \n",
       "2022-12-11  17073.19  17271.92  17128.10  17085.21   9948.852670   \n",
       "2022-12-10  17093.42  17227.64  17130.49  17128.10   7860.586876   \n",
       "2022-12-09  17060.69  17352.62  17226.03  17130.59  20976.636999   \n",
       "2022-12-08  16738.00  17300.59  16839.76  17226.01  23533.234537   \n",
       "2022-12-07  16679.52  17140.22  17089.18  16840.00  22635.468488   \n",
       "\n",
       "            greed_and_fear  google_trend  sentiment_medio             y  \n",
       "time                                                                     \n",
       "2022-12-11              26            30         0.057855  3.424433e+13  \n",
       "2022-12-10              27            28         0.023664  3.424433e+13  \n",
       "2022-12-09              26            28         0.079547  3.424433e+13  \n",
       "2022-12-08              25            28         0.098894  3.424433e+13  \n",
       "2022-12-07              29            28         0.098525  3.424433e+13  "
      ]
     },
     "execution_count": 46,
     "metadata": {},
     "output_type": "execute_result"
    }
   ],
   "source": [
    "df_merged = df_merged.set_index('time')\n",
    "df_merged.head()"
   ]
  },
  {
   "cell_type": "code",
   "execution_count": 49,
   "metadata": {},
   "outputs": [
    {
     "data": {
      "image/png": "[encoded data removed]",
      "text/plain": [
       "<Figure size 1080x360 with 1 Axes>"
      ]
     },
     "metadata": {},
     "output_type": "display_data"
    }
   ],
   "source": [
    "sns.set()\n",
    "\n",
    "plt.figure(figsize=(15,5))\n",
    "plt.plot(df_merged['y'],\n",
    "         label='Difficulty',\n",
    "         color='black')\n",
    "\n",
    "plt.ylabel('metrics trends')\n",
    "plt.legend();\n",
    "plt.tight_layout();"
   ]
  },
  {
   "cell_type": "code",
   "execution_count": 51,
   "metadata": {},
   "outputs": [
    {
     "data": {
      "text/html": [
       "<div>\n",
       "<style scoped>\n",
       "    .dataframe tbody tr th:only-of-type {\n",
       "        vertical-align: middle;\n",
       "    }\n",
       "\n",
       "    .dataframe tbody tr th {\n",
       "        vertical-align: top;\n",
       "    }\n",
       "\n",
       "    .dataframe thead th {\n",
       "        text-align: right;\n",
       "    }\n",
       "</style>\n",
       "<table border=\"1\" class=\"dataframe\">\n",
       "  <thead>\n",
       "    <tr style=\"text-align: right;\">\n",
       "      <th></th>\n",
       "      <th>low</th>\n",
       "      <th>high</th>\n",
       "      <th>open</th>\n",
       "      <th>close</th>\n",
       "      <th>volume</th>\n",
       "      <th>greed_and_fear</th>\n",
       "      <th>google_trend</th>\n",
       "      <th>sentiment_medio</th>\n",
       "      <th>difficulty</th>\n",
       "    </tr>\n",
       "    <tr>\n",
       "      <th>time</th>\n",
       "      <th></th>\n",
       "      <th></th>\n",
       "      <th></th>\n",
       "      <th></th>\n",
       "      <th></th>\n",
       "      <th></th>\n",
       "      <th></th>\n",
       "      <th></th>\n",
       "      <th></th>\n",
       "    </tr>\n",
       "  </thead>\n",
       "  <tbody>\n",
       "    <tr>\n",
       "      <th>2022-12-11</th>\n",
       "      <td>17073.19</td>\n",
       "      <td>17271.92</td>\n",
       "      <td>17128.10</td>\n",
       "      <td>17085.21</td>\n",
       "      <td>9948.852670</td>\n",
       "      <td>26</td>\n",
       "      <td>30</td>\n",
       "      <td>0.057855</td>\n",
       "      <td>3.424433e+13</td>\n",
       "    </tr>\n",
       "    <tr>\n",
       "      <th>2022-12-10</th>\n",
       "      <td>17093.42</td>\n",
       "      <td>17227.64</td>\n",
       "      <td>17130.49</td>\n",
       "      <td>17128.10</td>\n",
       "      <td>7860.586876</td>\n",
       "      <td>27</td>\n",
       "      <td>28</td>\n",
       "      <td>0.023664</td>\n",
       "      <td>3.424433e+13</td>\n",
       "    </tr>\n",
       "    <tr>\n",
       "      <th>2022-12-09</th>\n",
       "      <td>17060.69</td>\n",
       "      <td>17352.62</td>\n",
       "      <td>17226.03</td>\n",
       "      <td>17130.59</td>\n",
       "      <td>20976.636999</td>\n",
       "      <td>26</td>\n",
       "      <td>28</td>\n",
       "      <td>0.079547</td>\n",
       "      <td>3.424433e+13</td>\n",
       "    </tr>\n",
       "    <tr>\n",
       "      <th>2022-12-08</th>\n",
       "      <td>16738.00</td>\n",
       "      <td>17300.59</td>\n",
       "      <td>16839.76</td>\n",
       "      <td>17226.01</td>\n",
       "      <td>23533.234537</td>\n",
       "      <td>25</td>\n",
       "      <td>28</td>\n",
       "      <td>0.098894</td>\n",
       "      <td>3.424433e+13</td>\n",
       "    </tr>\n",
       "    <tr>\n",
       "      <th>2022-12-07</th>\n",
       "      <td>16679.52</td>\n",
       "      <td>17140.22</td>\n",
       "      <td>17089.18</td>\n",
       "      <td>16840.00</td>\n",
       "      <td>22635.468488</td>\n",
       "      <td>29</td>\n",
       "      <td>28</td>\n",
       "      <td>0.098525</td>\n",
       "      <td>3.424433e+13</td>\n",
       "    </tr>\n",
       "  </tbody>\n",
       "</table>\n",
       "</div>"
      ],
      "text/plain": [
       "                 low      high      open     close        volume  \\\n",
       "time                                                               \n",
       "2022-12-11  17073.19  17271.92  17128.10  17085.21   9948.852670   \n",
       "2022-12-10  17093.42  17227.64  17130.49  17128.10   7860.586876   \n",
       "2022-12-09  17060.69  17352.62  17226.03  17130.59  20976.636999   \n",
       "2022-12-08  16738.00  17300.59  16839.76  17226.01  23533.234537   \n",
       "2022-12-07  16679.52  17140.22  17089.18  16840.00  22635.468488   \n",
       "\n",
       "            greed_and_fear  google_trend  sentiment_medio    difficulty  \n",
       "time                                                                     \n",
       "2022-12-11              26            30         0.057855  3.424433e+13  \n",
       "2022-12-10              27            28         0.023664  3.424433e+13  \n",
       "2022-12-09              26            28         0.079547  3.424433e+13  \n",
       "2022-12-08              25            28         0.098894  3.424433e+13  \n",
       "2022-12-07              29            28         0.098525  3.424433e+13  "
      ]
     },
     "execution_count": 51,
     "metadata": {},
     "output_type": "execute_result"
    }
   ],
   "source": [
    "df = df_merged.rename(columns={'y': 'difficulty'})\n",
    "df.head()"
   ]
  },
  {
   "cell_type": "code",
   "execution_count": 53,
   "metadata": {},
   "outputs": [],
   "source": [
    "df.to_csv('data/bitcoin.csv')"
   ]
  }
 ],
 "metadata": {
  "kernelspec": {
   "display_name": "base",
   "language": "python",
   "name": "python3"
  },
  "language_info": {
   "codemirror_mode": {
    "name": "ipython",
    "version": 3
   },
   "file_extension": ".py",
   "mimetype": "text/x-python",
   "name": "python",
   "nbconvert_exporter": "python",
   "pygments_lexer": "ipython3",
   "version": "3.8.8"
  },
  "orig_nbformat": 4,
  "vscode": {
   "interpreter": {
    "hash": "40d3a090f54c6569ab1632332b64b2c03c39dcf918b08424e98f38b5ae0af88f"
   }
  }
 },
 "nbformat": 4,
 "nbformat_minor": 2
}
